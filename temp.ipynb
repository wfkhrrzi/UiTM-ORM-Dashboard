{
 "cells": [
  {
   "attachments": {},
   "cell_type": "markdown",
   "metadata": {},
   "source": [
    "# Reset Dataset Tweet ID \n",
    "(based on Tweet URL)"
   ]
  },
  {
   "cell_type": "code",
   "execution_count": 1,
   "metadata": {},
   "outputs": [],
   "source": [
    "import pandas as pd"
   ]
  },
  {
   "cell_type": "code",
   "execution_count": 2,
   "metadata": {},
   "outputs": [],
   "source": [
    "# df = pd.read_csv('D:/Study Stuffs/OneDrive - Universiti Teknologi MARA/Degree UiTM/(OneDrive) FYP Project/bertopic/topic-labelled.csv')\n",
    "df = pd.read_csv('dataset/final_dataset_cleaned_neutral.csv')"
   ]
  },
  {
   "cell_type": "code",
   "execution_count": 3,
   "metadata": {},
   "outputs": [],
   "source": [
    "df['Tweet Id'] = df['URL'].apply(lambda x: str(x.split(\"/\")[-1]))"
   ]
  },
  {
   "cell_type": "code",
   "execution_count": 4,
   "metadata": {},
   "outputs": [
    {
     "name": "stdout",
     "output_type": "stream",
     "text": [
      "1491406408860205060\n"
     ]
    },
    {
     "data": {
      "text/plain": [
       "'https://twitter.com/haIIofshame/status/1491406408860205060'"
      ]
     },
     "execution_count": 4,
     "metadata": {},
     "output_type": "execute_result"
    }
   ],
   "source": [
    "print(df['Tweet Id'].iloc[0])\n",
    "df['URL'].iloc[0]"
   ]
  },
  {
   "cell_type": "code",
   "execution_count": 6,
   "metadata": {},
   "outputs": [
    {
     "data": {
      "text/plain": [
       "True"
      ]
     },
     "execution_count": 6,
     "metadata": {},
     "output_type": "execute_result"
    }
   ],
   "source": [
    "'1491406408860205060' == '1491406408860205060'"
   ]
  },
  {
   "cell_type": "code",
   "execution_count": null,
   "metadata": {},
   "outputs": [],
   "source": [
    "df.to_csv('dataset/final_dataset_cleaned_neutral_resetIndex.csv',index=False)"
   ]
  },
  {
   "attachments": {},
   "cell_type": "markdown",
   "metadata": {},
   "source": [
    "# Debugging"
   ]
  },
  {
   "cell_type": "code",
   "execution_count": 1,
   "metadata": {},
   "outputs": [],
   "source": [
    "import pandas as pd\n",
    "import numpy as np"
   ]
  },
  {
   "cell_type": "code",
   "execution_count": 1,
   "metadata": {},
   "outputs": [],
   "source": [
    "from pages.sentiment.sentiment_data import get_sentiment_count"
   ]
  },
  {
   "cell_type": "code",
   "execution_count": 2,
   "metadata": {},
   "outputs": [],
   "source": [
    "sentiment_count = get_sentiment_count()"
   ]
  },
  {
   "cell_type": "code",
   "execution_count": 6,
   "metadata": {},
   "outputs": [
    {
     "data": {
      "text/plain": [
       "['neu_color', 'neg_color', 'pos_color']"
      ]
     },
     "execution_count": 6,
     "metadata": {},
     "output_type": "execute_result"
    }
   ],
   "source": [
    "list(map(\n",
    "    lambda x: \"pos_color\" if x.lower() == \"positive\" \\\n",
    "    else \"neu_color\" if x.lower() == \"neutral\" \\\n",
    "    else \"neg_color\",\n",
    "    sentiment_count['Sentiment'].tolist()\n",
    "))"
   ]
  },
  {
   "attachments": {},
   "cell_type": "markdown",
   "metadata": {},
   "source": [
    "# Check tweet id == tweet URL"
   ]
  },
  {
   "cell_type": "code",
   "execution_count": 11,
   "metadata": {},
   "outputs": [
    {
     "data": {
      "text/plain": [
       "True    13332\n",
       "dtype: int64"
      ]
     },
     "execution_count": 11,
     "metadata": {},
     "output_type": "execute_result"
    }
   ],
   "source": [
    "df.apply(lambda x:str(x['Tweet Id']) == str(x['URL'].split(\"/\")[-1]),axis=1).value_counts()"
   ]
  },
  {
   "attachments": {},
   "cell_type": "markdown",
   "metadata": {},
   "source": [
    "# Merge raw teet into topic-labelled.csv"
   ]
  },
  {
   "cell_type": "code",
   "execution_count": 1,
   "metadata": {},
   "outputs": [],
   "source": [
    "import pandas as pd"
   ]
  },
  {
   "cell_type": "code",
   "execution_count": 8,
   "metadata": {},
   "outputs": [],
   "source": [
    "df_original = pd.read_csv(\"D:/Study Stuffs/OneDrive - Universiti Teknologi MARA/Degree UiTM/(OneDrive) FYP Project/uitm_tweets_100k.csv\")\n",
    "df = pd.read_csv(\"dataset/final_dataset_cleaned_neutral_resetIndex.csv\")"
   ]
  },
  {
   "cell_type": "code",
   "execution_count": 14,
   "metadata": {},
   "outputs": [
    {
     "data": {
      "text/html": [
       "<div>\n",
       "<style scoped>\n",
       "    .dataframe tbody tr th:only-of-type {\n",
       "        vertical-align: middle;\n",
       "    }\n",
       "\n",
       "    .dataframe tbody tr th {\n",
       "        vertical-align: top;\n",
       "    }\n",
       "\n",
       "    .dataframe thead th {\n",
       "        text-align: right;\n",
       "    }\n",
       "</style>\n",
       "<table border=\"1\" class=\"dataframe\">\n",
       "  <thead>\n",
       "    <tr style=\"text-align: right;\">\n",
       "      <th></th>\n",
       "      <th>Tweet Id</th>\n",
       "      <th>Tweet</th>\n",
       "      <th>Filtered tweet</th>\n",
       "      <th>Translated Tweet</th>\n",
       "      <th>Username</th>\n",
       "      <th>Timestamp</th>\n",
       "      <th>RTs Count</th>\n",
       "      <th>Likes Count</th>\n",
       "      <th>Quotes &amp; Replies Count</th>\n",
       "      <th>Replies Count</th>\n",
       "      <th>Lang</th>\n",
       "      <th>URL</th>\n",
       "      <th>Source</th>\n",
       "      <th>Sentiment</th>\n",
       "    </tr>\n",
       "  </thead>\n",
       "  <tbody>\n",
       "    <tr>\n",
       "      <th>0</th>\n",
       "      <td>1491406408860205060</td>\n",
       "      <td>@moohoes pastu nanti kita pun hidup bahagia be...</td>\n",
       "      <td>pastu nanti kita pun hidup bahagia bersama kal...</td>\n",
       "      <td>Then we will live happily together if you acce...</td>\n",
       "      <td>haIIofshame</td>\n",
       "      <td>2022-02-09 13:39:31+00:00</td>\n",
       "      <td>0</td>\n",
       "      <td>0</td>\n",
       "      <td>0</td>\n",
       "      <td>0</td>\n",
       "      <td>in</td>\n",
       "      <td>https://twitter.com/haIIofshame/status/1491406...</td>\n",
       "      <td>&lt;a href=\"http://twitter.com/download/iphone\" r...</td>\n",
       "      <td>neutral</td>\n",
       "    </tr>\n",
       "  </tbody>\n",
       "</table>\n",
       "</div>"
      ],
      "text/plain": [
       "              Tweet Id                                              Tweet  \\\n",
       "0  1491406408860205060  @moohoes pastu nanti kita pun hidup bahagia be...   \n",
       "\n",
       "                                      Filtered tweet  \\\n",
       "0  pastu nanti kita pun hidup bahagia bersama kal...   \n",
       "\n",
       "                                    Translated Tweet     Username  \\\n",
       "0  Then we will live happily together if you acce...  haIIofshame   \n",
       "\n",
       "                   Timestamp  RTs Count  Likes Count  Quotes & Replies Count  \\\n",
       "0  2022-02-09 13:39:31+00:00          0            0                       0   \n",
       "\n",
       "   Replies Count Lang                                                URL  \\\n",
       "0              0   in  https://twitter.com/haIIofshame/status/1491406...   \n",
       "\n",
       "                                              Source Sentiment  \n",
       "0  <a href=\"http://twitter.com/download/iphone\" r...   neutral  "
      ]
     },
     "execution_count": 14,
     "metadata": {},
     "output_type": "execute_result"
    }
   ],
   "source": [
    "df.head(1)"
   ]
  },
  {
   "cell_type": "code",
   "execution_count": 12,
   "metadata": {},
   "outputs": [],
   "source": [
    "df = df \\\n",
    ".rename(columns={\"Tweet\":\"Filtered tweet\"}) \\\n",
    ".set_index('Tweet Id') \\\n",
    ".join(\n",
    "    df_original[['Tweet Id', 'Tweet']].set_index('Tweet Id'),\n",
    "    on='Tweet Id'\n",
    ") \\\n",
    ".reset_index()"
   ]
  },
  {
   "cell_type": "code",
   "execution_count": 13,
   "metadata": {},
   "outputs": [],
   "source": [
    "df.insert(1,'Tweet',df.pop('Tweet'))"
   ]
  },
  {
   "cell_type": "code",
   "execution_count": 10,
   "metadata": {},
   "outputs": [],
   "source": [
    "df.to_csv('D:/Study Stuffs/OneDrive - Universiti Teknologi MARA/Degree UiTM/(OneDrive) FYP Project/final_dataset_cleaned_neutral_MergedWithOriginalTweet.csv',index=False)"
   ]
  },
  {
   "attachments": {},
   "cell_type": "markdown",
   "metadata": {},
   "source": [
    "# Compare processed tweet VS raw tweet"
   ]
  },
  {
   "cell_type": "code",
   "execution_count": 1,
   "metadata": {},
   "outputs": [],
   "source": [
    "import pandas as pd"
   ]
  },
  {
   "cell_type": "code",
   "execution_count": 2,
   "metadata": {},
   "outputs": [],
   "source": [
    "df_bert = pd.read_csv(\"dataset/labelled_pred_set_14-12-23.csv\")\n",
    "df_tm = pd.read_csv(\"dataset/topic-labelled_14-12-22.csv\")"
   ]
  },
  {
   "cell_type": "code",
   "execution_count": null,
   "metadata": {},
   "outputs": [],
   "source": [
    "df_bert[\n",
    "    df_bert['Tweet'].str.contains('http') &\n",
    "    df_bert['Tweet'].str.contains('@') &\n",
    "    df_bert['Tweet'].str.contains('#')\n",
    "]"
   ]
  },
  {
   "cell_type": "code",
   "execution_count": 37,
   "metadata": {},
   "outputs": [
    {
     "data": {
      "text/plain": [
       "'Greetings prof @mahboonyih !\\nI love to read mystery novels. It is a fiction genre that follows with crime. I get curious as I read it. Hence, I will try to figure it out about who, what, when and how of a particular crime.\\n#WeCWIIS #intensivereading #UiTM #PHM1152D1 https://t.co/VXE4FzTRPd'"
      ]
     },
     "execution_count": 37,
     "metadata": {},
     "output_type": "execute_result"
    }
   ],
   "source": [
    "df_bert['Tweet'].iloc[20]"
   ]
  },
  {
   "cell_type": "code",
   "execution_count": 38,
   "metadata": {},
   "outputs": [
    {
     "data": {
      "text/plain": [
       "'greetings prof ! i love to read mystery novels. it is a fiction genre that follows with crime. i get curious as i read it. hence, i will try to figure it out about who, what, when and how of a particular crime.'"
      ]
     },
     "execution_count": 38,
     "metadata": {},
     "output_type": "execute_result"
    }
   ],
   "source": [
    "df_bert['Processed Tweet'].iloc[20]"
   ]
  },
  {
   "cell_type": "code",
   "execution_count": 42,
   "metadata": {},
   "outputs": [
    {
     "data": {
      "text/plain": [
       "'abolish bumiputera uitm fair berani chinesca survive sjkc melayu singapora ketuanan bullshit'"
      ]
     },
     "execution_count": 42,
     "metadata": {},
     "output_type": "execute_result"
    }
   ],
   "source": [
    "df_tm['Processed noisy tweet'].iloc[0]"
   ]
  },
  {
   "cell_type": "code",
   "execution_count": 4,
   "metadata": {},
   "outputs": [
    {
     "data": {
      "text/html": [
       "<div>\n",
       "<style scoped>\n",
       "    .dataframe tbody tr th:only-of-type {\n",
       "        vertical-align: middle;\n",
       "    }\n",
       "\n",
       "    .dataframe tbody tr th {\n",
       "        vertical-align: top;\n",
       "    }\n",
       "\n",
       "    .dataframe thead th {\n",
       "        text-align: right;\n",
       "    }\n",
       "</style>\n",
       "<table border=\"1\" class=\"dataframe\">\n",
       "  <thead>\n",
       "    <tr style=\"text-align: right;\">\n",
       "      <th></th>\n",
       "      <th>Tweet Id</th>\n",
       "      <th>Tweet</th>\n",
       "      <th>Cleaned tweet</th>\n",
       "      <th>Unnormalized processed noisy tweet</th>\n",
       "      <th>Normalized tweet</th>\n",
       "      <th>Processed noisy tweet</th>\n",
       "      <th>Stemmed tweet</th>\n",
       "      <th>Username</th>\n",
       "      <th>Timestamp</th>\n",
       "      <th>RTs Count</th>\n",
       "      <th>Likes Count</th>\n",
       "      <th>Quotes &amp; Replies Count</th>\n",
       "      <th>Replies Count</th>\n",
       "      <th>Lang</th>\n",
       "      <th>URL</th>\n",
       "      <th>Source</th>\n",
       "      <th>Topic</th>\n",
       "      <th>Topic reassigned</th>\n",
       "    </tr>\n",
       "  </thead>\n",
       "  <tbody>\n",
       "    <tr>\n",
       "      <th>6</th>\n",
       "      <td>1531364258075643904</td>\n",
       "      <td>Bicara Buku \"Southeast Asian Martial Arts : A ...</td>\n",
       "      <td>bicara buku southeast asian martial arts a uni...</td>\n",
       "      <td>bicara buku southeast asian martial arts uniqu...</td>\n",
       "      <td>bicara buku southeast asian martial arts a uni...</td>\n",
       "      <td>bicara buku southeast asian martial arts uniqu...</td>\n",
       "      <td>bicara buku southeast asian martial arts uniqu...</td>\n",
       "      <td>uitmlibrary</td>\n",
       "      <td>2022-05-30 19:57:45+00:00</td>\n",
       "      <td>1</td>\n",
       "      <td>1</td>\n",
       "      <td>0</td>\n",
       "      <td>0</td>\n",
       "      <td>ro</td>\n",
       "      <td>https://twitter.com/uitmlibrary/status/1531364...</td>\n",
       "      <td>&lt;a href=\"http://twitter.com/download/android\" ...</td>\n",
       "      <td>-1</td>\n",
       "      <td>-1</td>\n",
       "    </tr>\n",
       "    <tr>\n",
       "      <th>75</th>\n",
       "      <td>1531202709743091715</td>\n",
       "      <td>We would like to wish a warm welcome to our ne...</td>\n",
       "      <td>we would like to wish a warm welcome to our ne...</td>\n",
       "      <td>warm member universiti teknologi mara uitm con...</td>\n",
       "      <td>we would like to wish a warm welcome to our ne...</td>\n",
       "      <td>warm member universiti teknologi mara uitm con...</td>\n",
       "      <td>warm member universiti teknologi mara uitm con...</td>\n",
       "      <td>mycontentforum</td>\n",
       "      <td>2022-05-30 09:15:49+00:00</td>\n",
       "      <td>0</td>\n",
       "      <td>3</td>\n",
       "      <td>0</td>\n",
       "      <td>0</td>\n",
       "      <td>en</td>\n",
       "      <td>https://twitter.com/mycontentforum/status/1531...</td>\n",
       "      <td>&lt;a href=\"http://twitter.com/download/android\" ...</td>\n",
       "      <td>-1</td>\n",
       "      <td>-1</td>\n",
       "    </tr>\n",
       "    <tr>\n",
       "      <th>122</th>\n",
       "      <td>1531113300464848901</td>\n",
       "      <td>LIVE@PTAR BICARA PAKAR : SEJARAH KESULTANAN NE...</td>\n",
       "      <td>live bicara pakar sejarah kesultanan negeri te...</td>\n",
       "      <td>live bicara pakar sejarah kesultanan negeri te...</td>\n",
       "      <td>live bicara pakar sejarah kesultanan negeri te...</td>\n",
       "      <td>live bicara pakar sejarah kesultanan negeri te...</td>\n",
       "      <td>live bicara pakar sejarah sultan negeri tereng...</td>\n",
       "      <td>PtarSarawak</td>\n",
       "      <td>2022-05-30 03:20:32+00:00</td>\n",
       "      <td>0</td>\n",
       "      <td>0</td>\n",
       "      <td>0</td>\n",
       "      <td>0</td>\n",
       "      <td>in</td>\n",
       "      <td>https://twitter.com/PtarSarawak/status/1531113...</td>\n",
       "      <td>&lt;a href=\"https://mobile.twitter.com\" rel=\"nofo...</td>\n",
       "      <td>-1</td>\n",
       "      <td>-1</td>\n",
       "    </tr>\n",
       "    <tr>\n",
       "      <th>180</th>\n",
       "      <td>1530915415731621891</td>\n",
       "      <td>kepada kelestarian pengkomersialan produk dan ...</td>\n",
       "      <td>kepada kelestarian pengkomersialan produk dan ...</td>\n",
       "      <td>kelestarian pengkomersialan produk hasil inova...</td>\n",
       "      <td>kepada kelestarian pengkomersialan produk dan ...</td>\n",
       "      <td>kelestarian pengkomersialan produk hasil inova...</td>\n",
       "      <td>lestari komersial produk hasil inovasi kalang ...</td>\n",
       "      <td>bitcomuitm</td>\n",
       "      <td>2022-05-29 14:14:12+00:00</td>\n",
       "      <td>0</td>\n",
       "      <td>0</td>\n",
       "      <td>0</td>\n",
       "      <td>1</td>\n",
       "      <td>in</td>\n",
       "      <td>https://twitter.com/bitcomuitm/status/15309154...</td>\n",
       "      <td>&lt;a href=\"http://twitter.com/download/iphone\" r...</td>\n",
       "      <td>19</td>\n",
       "      <td>19</td>\n",
       "    </tr>\n",
       "    <tr>\n",
       "      <th>258</th>\n",
       "      <td>1530624955192320000</td>\n",
       "      <td>La UITM-#CaixaResearch del @VHIO va néixer el ...</td>\n",
       "      <td>la uitm del va nixer el per a realitzar assajo...</td>\n",
       "      <td>uitm del nixer realitzar assajos clnics trobar...</td>\n",
       "      <td>la uitm del voa nixer el per a realitzar assaj...</td>\n",
       "      <td>uitm del voa nixer realitzar assajos clnics te...</td>\n",
       "      <td>uitm del voa nixer realitzar assajos clnics ba...</td>\n",
       "      <td>CaixaResearchCA</td>\n",
       "      <td>2022-05-28 19:00:01+00:00</td>\n",
       "      <td>0</td>\n",
       "      <td>2</td>\n",
       "      <td>0</td>\n",
       "      <td>0</td>\n",
       "      <td>ca</td>\n",
       "      <td>https://twitter.com/CaixaResearchCA/status/153...</td>\n",
       "      <td>&lt;a href=\"https://mobile.twitter.com\" rel=\"nofo...</td>\n",
       "      <td>-1</td>\n",
       "      <td>-1</td>\n",
       "    </tr>\n",
       "    <tr>\n",
       "      <th>...</th>\n",
       "      <td>...</td>\n",
       "      <td>...</td>\n",
       "      <td>...</td>\n",
       "      <td>...</td>\n",
       "      <td>...</td>\n",
       "      <td>...</td>\n",
       "      <td>...</td>\n",
       "      <td>...</td>\n",
       "      <td>...</td>\n",
       "      <td>...</td>\n",
       "      <td>...</td>\n",
       "      <td>...</td>\n",
       "      <td>...</td>\n",
       "      <td>...</td>\n",
       "      <td>...</td>\n",
       "      <td>...</td>\n",
       "      <td>...</td>\n",
       "      <td>...</td>\n",
       "    </tr>\n",
       "    <tr>\n",
       "      <th>89330</th>\n",
       "      <td>1400349842639974403</td>\n",
       "      <td>Posted @withregram • @uitm.official “With self...</td>\n",
       "      <td>posted official with self discipline most anyt...</td>\n",
       "      <td>posted official discipline theodore roosevelt</td>\n",
       "      <td>posted official with self discipline most anyt...</td>\n",
       "      <td>posted official discipline theodora roosevelt</td>\n",
       "      <td>posted official discipline theodora roosevelt</td>\n",
       "      <td>pstuitm</td>\n",
       "      <td>2021-06-03 07:13:14+00:00</td>\n",
       "      <td>1</td>\n",
       "      <td>0</td>\n",
       "      <td>0</td>\n",
       "      <td>0</td>\n",
       "      <td>en</td>\n",
       "      <td>https://twitter.com/pstuitm/status/14003498426...</td>\n",
       "      <td>&lt;a href=\"http://twitter.com/download/iphone\" r...</td>\n",
       "      <td>-1</td>\n",
       "      <td>-1</td>\n",
       "    </tr>\n",
       "    <tr>\n",
       "      <th>89516</th>\n",
       "      <td>1399904481542742023</td>\n",
       "      <td>Another Milestone for UGC \\n\\nUiTM Green Centr...</td>\n",
       "      <td>another milestone for ugc uitm green centre</td>\n",
       "      <td>milestone ugc uitm green centre</td>\n",
       "      <td>another milestone for gec uitm green centre</td>\n",
       "      <td>milestone gec uitm green centre</td>\n",
       "      <td>milestone gec uitm green centre</td>\n",
       "      <td>UiTMGreenCentre</td>\n",
       "      <td>2021-06-02 01:43:32+00:00</td>\n",
       "      <td>0</td>\n",
       "      <td>1</td>\n",
       "      <td>0</td>\n",
       "      <td>0</td>\n",
       "      <td>en</td>\n",
       "      <td>https://twitter.com/UiTMGreenCentre/status/139...</td>\n",
       "      <td>&lt;a href=\"https://mobile.twitter.com\" rel=\"nofo...</td>\n",
       "      <td>-1</td>\n",
       "      <td>21</td>\n",
       "    </tr>\n",
       "    <tr>\n",
       "      <th>89519</th>\n",
       "      <td>1399897058606080001</td>\n",
       "      <td>Posted @withregram • @uitm.official “The only ...</td>\n",
       "      <td>posted official the only discipline that lasts...</td>\n",
       "      <td>posted official discipline lasts discipline bu...</td>\n",
       "      <td>posted official the only discipline that lasts...</td>\n",
       "      <td>posted official discipline lasts discipline bu...</td>\n",
       "      <td>posted official discipline lasts discipline bu...</td>\n",
       "      <td>pstuitm</td>\n",
       "      <td>2021-06-02 01:14:02+00:00</td>\n",
       "      <td>0</td>\n",
       "      <td>0</td>\n",
       "      <td>0</td>\n",
       "      <td>0</td>\n",
       "      <td>en</td>\n",
       "      <td>https://twitter.com/pstuitm/status/13998970586...</td>\n",
       "      <td>&lt;a href=\"http://twitter.com/download/iphone\" r...</td>\n",
       "      <td>-1</td>\n",
       "      <td>-1</td>\n",
       "    </tr>\n",
       "    <tr>\n",
       "      <th>89584</th>\n",
       "      <td>1399698296625500160</td>\n",
       "      <td>Hi, do you know anyone who's looking for a par...</td>\n",
       "      <td>hi do you know anyone who's looking for a part...</td>\n",
       "      <td>time job nearby area uitm seri iskandar perak ...</td>\n",
       "      <td>hi do you know anyone who's looking for a part...</td>\n",
       "      <td>time job nearby area uitm seri iskandar perak ...</td>\n",
       "      <td>time job nearby area uitm seri iskandar perak ...</td>\n",
       "      <td>mykopimesin</td>\n",
       "      <td>2021-06-01 12:04:13+00:00</td>\n",
       "      <td>0</td>\n",
       "      <td>1</td>\n",
       "      <td>0</td>\n",
       "      <td>0</td>\n",
       "      <td>en</td>\n",
       "      <td>https://twitter.com/mykopimesin/status/1399698...</td>\n",
       "      <td>&lt;a href=\"https://mobile.twitter.com\" rel=\"nofo...</td>\n",
       "      <td>-1</td>\n",
       "      <td>-1</td>\n",
       "    </tr>\n",
       "    <tr>\n",
       "      <th>89608</th>\n",
       "      <td>1399674798322511872</td>\n",
       "      <td>UiTM Johor @ Media\\n\\nBerita Harian | 1 Jun 20...</td>\n",
       "      <td>uitm johor media berita harian jun tangani ris...</td>\n",
       "      <td>uitm johor media berita harian jun tangani ris...</td>\n",
       "      <td>uitm johor media berita harian jun tangani ris...</td>\n",
       "      <td>uitm johor media berita harian jun tangani ris...</td>\n",
       "      <td>uitm johor media berita hari jun tangan risiko...</td>\n",
       "      <td>uitmjohor</td>\n",
       "      <td>2021-06-01 10:30:51+00:00</td>\n",
       "      <td>2</td>\n",
       "      <td>5</td>\n",
       "      <td>0</td>\n",
       "      <td>0</td>\n",
       "      <td>in</td>\n",
       "      <td>https://twitter.com/uitmjohor/status/139967479...</td>\n",
       "      <td>&lt;a href=\"http://twitter.com/download/iphone\" r...</td>\n",
       "      <td>-1</td>\n",
       "      <td>-1</td>\n",
       "    </tr>\n",
       "  </tbody>\n",
       "</table>\n",
       "<p>936 rows × 18 columns</p>\n",
       "</div>"
      ],
      "text/plain": [
       "                  Tweet Id                                              Tweet  \\\n",
       "6      1531364258075643904  Bicara Buku \"Southeast Asian Martial Arts : A ...   \n",
       "75     1531202709743091715  We would like to wish a warm welcome to our ne...   \n",
       "122    1531113300464848901  LIVE@PTAR BICARA PAKAR : SEJARAH KESULTANAN NE...   \n",
       "180    1530915415731621891  kepada kelestarian pengkomersialan produk dan ...   \n",
       "258    1530624955192320000  La UITM-#CaixaResearch del @VHIO va néixer el ...   \n",
       "...                    ...                                                ...   \n",
       "89330  1400349842639974403  Posted @withregram • @uitm.official “With self...   \n",
       "89516  1399904481542742023  Another Milestone for UGC \\n\\nUiTM Green Centr...   \n",
       "89519  1399897058606080001  Posted @withregram • @uitm.official “The only ...   \n",
       "89584  1399698296625500160  Hi, do you know anyone who's looking for a par...   \n",
       "89608  1399674798322511872  UiTM Johor @ Media\\n\\nBerita Harian | 1 Jun 20...   \n",
       "\n",
       "                                           Cleaned tweet  \\\n",
       "6      bicara buku southeast asian martial arts a uni...   \n",
       "75     we would like to wish a warm welcome to our ne...   \n",
       "122    live bicara pakar sejarah kesultanan negeri te...   \n",
       "180    kepada kelestarian pengkomersialan produk dan ...   \n",
       "258    la uitm del va nixer el per a realitzar assajo...   \n",
       "...                                                  ...   \n",
       "89330  posted official with self discipline most anyt...   \n",
       "89516        another milestone for ugc uitm green centre   \n",
       "89519  posted official the only discipline that lasts...   \n",
       "89584  hi do you know anyone who's looking for a part...   \n",
       "89608  uitm johor media berita harian jun tangani ris...   \n",
       "\n",
       "                      Unnormalized processed noisy tweet  \\\n",
       "6      bicara buku southeast asian martial arts uniqu...   \n",
       "75     warm member universiti teknologi mara uitm con...   \n",
       "122    live bicara pakar sejarah kesultanan negeri te...   \n",
       "180    kelestarian pengkomersialan produk hasil inova...   \n",
       "258    uitm del nixer realitzar assajos clnics trobar...   \n",
       "...                                                  ...   \n",
       "89330      posted official discipline theodore roosevelt   \n",
       "89516                    milestone ugc uitm green centre   \n",
       "89519  posted official discipline lasts discipline bu...   \n",
       "89584  time job nearby area uitm seri iskandar perak ...   \n",
       "89608  uitm johor media berita harian jun tangani ris...   \n",
       "\n",
       "                                        Normalized tweet  \\\n",
       "6      bicara buku southeast asian martial arts a uni...   \n",
       "75     we would like to wish a warm welcome to our ne...   \n",
       "122    live bicara pakar sejarah kesultanan negeri te...   \n",
       "180    kepada kelestarian pengkomersialan produk dan ...   \n",
       "258    la uitm del voa nixer el per a realitzar assaj...   \n",
       "...                                                  ...   \n",
       "89330  posted official with self discipline most anyt...   \n",
       "89516        another milestone for gec uitm green centre   \n",
       "89519  posted official the only discipline that lasts...   \n",
       "89584  hi do you know anyone who's looking for a part...   \n",
       "89608  uitm johor media berita harian jun tangani ris...   \n",
       "\n",
       "                                   Processed noisy tweet  \\\n",
       "6      bicara buku southeast asian martial arts uniqu...   \n",
       "75     warm member universiti teknologi mara uitm con...   \n",
       "122    live bicara pakar sejarah kesultanan negeri te...   \n",
       "180    kelestarian pengkomersialan produk hasil inova...   \n",
       "258    uitm del voa nixer realitzar assajos clnics te...   \n",
       "...                                                  ...   \n",
       "89330      posted official discipline theodora roosevelt   \n",
       "89516                    milestone gec uitm green centre   \n",
       "89519  posted official discipline lasts discipline bu...   \n",
       "89584  time job nearby area uitm seri iskandar perak ...   \n",
       "89608  uitm johor media berita harian jun tangani ris...   \n",
       "\n",
       "                                           Stemmed tweet         Username  \\\n",
       "6      bicara buku southeast asian martial arts uniqu...      uitmlibrary   \n",
       "75     warm member universiti teknologi mara uitm con...   mycontentforum   \n",
       "122    live bicara pakar sejarah sultan negeri tereng...      PtarSarawak   \n",
       "180    lestari komersial produk hasil inovasi kalang ...       bitcomuitm   \n",
       "258    uitm del voa nixer realitzar assajos clnics ba...  CaixaResearchCA   \n",
       "...                                                  ...              ...   \n",
       "89330      posted official discipline theodora roosevelt          pstuitm   \n",
       "89516                    milestone gec uitm green centre  UiTMGreenCentre   \n",
       "89519  posted official discipline lasts discipline bu...          pstuitm   \n",
       "89584  time job nearby area uitm seri iskandar perak ...      mykopimesin   \n",
       "89608  uitm johor media berita hari jun tangan risiko...        uitmjohor   \n",
       "\n",
       "                       Timestamp  RTs Count  Likes Count  \\\n",
       "6      2022-05-30 19:57:45+00:00          1            1   \n",
       "75     2022-05-30 09:15:49+00:00          0            3   \n",
       "122    2022-05-30 03:20:32+00:00          0            0   \n",
       "180    2022-05-29 14:14:12+00:00          0            0   \n",
       "258    2022-05-28 19:00:01+00:00          0            2   \n",
       "...                          ...        ...          ...   \n",
       "89330  2021-06-03 07:13:14+00:00          1            0   \n",
       "89516  2021-06-02 01:43:32+00:00          0            1   \n",
       "89519  2021-06-02 01:14:02+00:00          0            0   \n",
       "89584  2021-06-01 12:04:13+00:00          0            1   \n",
       "89608  2021-06-01 10:30:51+00:00          2            5   \n",
       "\n",
       "       Quotes & Replies Count  Replies Count Lang  \\\n",
       "6                           0              0   ro   \n",
       "75                          0              0   en   \n",
       "122                         0              0   in   \n",
       "180                         0              1   in   \n",
       "258                         0              0   ca   \n",
       "...                       ...            ...  ...   \n",
       "89330                       0              0   en   \n",
       "89516                       0              0   en   \n",
       "89519                       0              0   en   \n",
       "89584                       0              0   en   \n",
       "89608                       0              0   in   \n",
       "\n",
       "                                                     URL  \\\n",
       "6      https://twitter.com/uitmlibrary/status/1531364...   \n",
       "75     https://twitter.com/mycontentforum/status/1531...   \n",
       "122    https://twitter.com/PtarSarawak/status/1531113...   \n",
       "180    https://twitter.com/bitcomuitm/status/15309154...   \n",
       "258    https://twitter.com/CaixaResearchCA/status/153...   \n",
       "...                                                  ...   \n",
       "89330  https://twitter.com/pstuitm/status/14003498426...   \n",
       "89516  https://twitter.com/UiTMGreenCentre/status/139...   \n",
       "89519  https://twitter.com/pstuitm/status/13998970586...   \n",
       "89584  https://twitter.com/mykopimesin/status/1399698...   \n",
       "89608  https://twitter.com/uitmjohor/status/139967479...   \n",
       "\n",
       "                                                  Source  Topic  \\\n",
       "6      <a href=\"http://twitter.com/download/android\" ...     -1   \n",
       "75     <a href=\"http://twitter.com/download/android\" ...     -1   \n",
       "122    <a href=\"https://mobile.twitter.com\" rel=\"nofo...     -1   \n",
       "180    <a href=\"http://twitter.com/download/iphone\" r...     19   \n",
       "258    <a href=\"https://mobile.twitter.com\" rel=\"nofo...     -1   \n",
       "...                                                  ...    ...   \n",
       "89330  <a href=\"http://twitter.com/download/iphone\" r...     -1   \n",
       "89516  <a href=\"https://mobile.twitter.com\" rel=\"nofo...     -1   \n",
       "89519  <a href=\"http://twitter.com/download/iphone\" r...     -1   \n",
       "89584  <a href=\"https://mobile.twitter.com\" rel=\"nofo...     -1   \n",
       "89608  <a href=\"http://twitter.com/download/iphone\" r...     -1   \n",
       "\n",
       "       Topic reassigned  \n",
       "6                    -1  \n",
       "75                   -1  \n",
       "122                  -1  \n",
       "180                  19  \n",
       "258                  -1  \n",
       "...                 ...  \n",
       "89330                -1  \n",
       "89516                21  \n",
       "89519                -1  \n",
       "89584                -1  \n",
       "89608                -1  \n",
       "\n",
       "[936 rows x 18 columns]"
      ]
     },
     "execution_count": 4,
     "metadata": {},
     "output_type": "execute_result"
    }
   ],
   "source": [
    "df_tm[\n",
    "    df_tm['Tweet'].str.contains('http') &\n",
    "    df_tm['Tweet'].str.contains('@') &\n",
    "    df_tm['Tweet'].str.contains('#')\n",
    "]"
   ]
  },
  {
   "cell_type": "code",
   "execution_count": 8,
   "metadata": {},
   "outputs": [
    {
     "data": {
      "text/plain": [
       "'kepada kelestarian pengkomersialan produk dan hasil inovasi di kalangan penyelidik UiTM.\\n\\n#bitcomroadtour2022\\n#Commercialization@BITCOM\\n#ManagingIP@BITCOM\\n#BITCOMTNCPI\\n#uitmprihatin\\n#kitaUiTM\\n#UiTMdihatiku https://t.co/VIyi1cDFRt'"
      ]
     },
     "execution_count": 8,
     "metadata": {},
     "output_type": "execute_result"
    }
   ],
   "source": [
    "df_tm['Tweet'].iloc[180]"
   ]
  },
  {
   "cell_type": "code",
   "execution_count": 10,
   "metadata": {},
   "outputs": [
    {
     "data": {
      "text/plain": [
       "'kelestarian pengkomersialan produk hasil inovasi kalangan penyelidik uitm'"
      ]
     },
     "execution_count": 10,
     "metadata": {},
     "output_type": "execute_result"
    }
   ],
   "source": [
    "df_tm['Processed noisy tweet'].iloc[180]"
   ]
  },
  {
   "attachments": {},
   "cell_type": "markdown",
   "metadata": {},
   "source": [
    "# Reputation page"
   ]
  },
  {
   "cell_type": "code",
   "execution_count": 1,
   "metadata": {},
   "outputs": [],
   "source": [
    "from pages.sentiment.sentiment_data import get_sentiment_count"
   ]
  },
  {
   "cell_type": "code",
   "execution_count": 2,
   "metadata": {},
   "outputs": [
    {
     "data": {
      "text/plain": [
       "9998"
      ]
     },
     "execution_count": 2,
     "metadata": {},
     "output_type": "execute_result"
    }
   ],
   "source": [
    "import pandas as pd\n",
    "\n",
    "len(pd.read_csv('dataset/labelled_pred_set_14-12-23.csv'))"
   ]
  },
  {
   "cell_type": "code",
   "execution_count": 3,
   "metadata": {},
   "outputs": [],
   "source": [
    "sentiment_count = get_sentiment_count()"
   ]
  },
  {
   "cell_type": "code",
   "execution_count": 4,
   "metadata": {},
   "outputs": [
    {
     "data": {
      "text/html": [
       "<div>\n",
       "<style scoped>\n",
       "    .dataframe tbody tr th:only-of-type {\n",
       "        vertical-align: middle;\n",
       "    }\n",
       "\n",
       "    .dataframe tbody tr th {\n",
       "        vertical-align: top;\n",
       "    }\n",
       "\n",
       "    .dataframe thead th {\n",
       "        text-align: right;\n",
       "    }\n",
       "</style>\n",
       "<table border=\"1\" class=\"dataframe\">\n",
       "  <thead>\n",
       "    <tr style=\"text-align: right;\">\n",
       "      <th></th>\n",
       "      <th>Sentiment</th>\n",
       "      <th>Count</th>\n",
       "    </tr>\n",
       "  </thead>\n",
       "  <tbody>\n",
       "    <tr>\n",
       "      <th>0</th>\n",
       "      <td>Neutral</td>\n",
       "      <td>5348</td>\n",
       "    </tr>\n",
       "    <tr>\n",
       "      <th>1</th>\n",
       "      <td>Negative</td>\n",
       "      <td>3424</td>\n",
       "    </tr>\n",
       "    <tr>\n",
       "      <th>2</th>\n",
       "      <td>Positive</td>\n",
       "      <td>1224</td>\n",
       "    </tr>\n",
       "  </tbody>\n",
       "</table>\n",
       "</div>"
      ],
      "text/plain": [
       "  Sentiment  Count\n",
       "0   Neutral   5348\n",
       "1  Negative   3424\n",
       "2  Positive   1224"
      ]
     },
     "execution_count": 4,
     "metadata": {},
     "output_type": "execute_result"
    }
   ],
   "source": [
    "sentiment_count"
   ]
  },
  {
   "cell_type": "code",
   "execution_count": 5,
   "metadata": {},
   "outputs": [],
   "source": [
    "total = sentiment_count['Count'].sum()\n",
    "positive = sentiment_count[sentiment_count['Sentiment'].str.lower() == 'positive']['Count']\n",
    "negative = sentiment_count[sentiment_count['Sentiment'].str.lower() == 'negative']['Count']\n",
    "neutral = sentiment_count[sentiment_count['Sentiment'].str.lower() == 'neutral']['Count']"
   ]
  },
  {
   "cell_type": "code",
   "execution_count": 6,
   "metadata": {},
   "outputs": [
    {
     "data": {
      "text/plain": [
       "'-22.01%'"
      ]
     },
     "execution_count": 6,
     "metadata": {},
     "output_type": "execute_result"
    }
   ],
   "source": [
    "# net brand reputation\n",
    "nbp = ((int(positive)-int(negative))/total)*100\n",
    "\"{:0.2f}%\".format(nbp)"
   ]
  },
  {
   "cell_type": "code",
   "execution_count": 44,
   "metadata": {},
   "outputs": [],
   "source": [
    "import plotly.graph_objs as go\n",
    "\n",
    "def donut_chart(percent, theme_color:str):\n",
    "    values = [percent,100-percent]\n",
    "    colors=[theme_color,'#ffffff00','#ffffff00']\n",
    "\n",
    "    fig = go.Figure(data=go.Pie(values=values,hole=.7))\n",
    "\n",
    "    fig.update_layout(\n",
    "        annotations=[\n",
    "            dict(\n",
    "                text=f\"{percent}%\", x=0.5, y=0.5, font_size=20,showarrow=False,\n",
    "                font=dict(color=theme_color)\n",
    "            )\n",
    "        ],\n",
    "        showlegend=False,\n",
    "        margin=dict(\n",
    "            l=5,\n",
    "            r=5,\n",
    "            b=5,\n",
    "            t=5,\n",
    "            # pad=10\n",
    "        ),\n",
    "        paper_bgcolor='rgba(0,0,0,0)',\n",
    "        plot_bgcolor='rgba(0,0,0,0)',\n",
    "        # autosize=False,\n",
    "        # width=140,\n",
    "        # height=140,\n",
    "    )\n",
    "\n",
    "    fig.update_traces(\n",
    "        hoverinfo='none',\n",
    "        textinfo='none',\n",
    "        marker=dict(\n",
    "            colors=colors,\n",
    "            line=dict(\n",
    "                color='#d9dddc',\n",
    "                width=1\n",
    "            )\n",
    "        )\n",
    "    )\n",
    "\n",
    "    fig.show(renderer='vscode')\n",
    "\n",
    "sentiment_colors={\n",
    "    'positive':'#00ba7c',\n",
    "    'neutral':'#f6b561',\n",
    "    'negative':'#d90912',\n",
    "}"
   ]
  },
  {
   "cell_type": "code",
   "execution_count": 45,
   "metadata": {},
   "outputs": [
    {
     "data": {
      "application/vnd.plotly.v1+json": {
       "config": {
        "plotlyServerURL": "https://plot.ly"
       },
       "data": [
        {
         "hole": 0.7,
         "hoverinfo": "none",
         "marker": {
          "colors": [
           "#d90912",
           "#ffffff00",
           "#ffffff00"
          ],
          "line": {
           "color": "#d9dddc",
           "width": 1
          }
         },
         "textinfo": "none",
         "type": "pie",
         "values": [
          -22.01,
          122.01
         ]
        }
       ],
       "layout": {
        "annotations": [
         {
          "font": {
           "color": "#d90912",
           "size": 20
          },
          "showarrow": false,
          "text": "-22.01%",
          "x": 0.5,
          "y": 0.5
         }
        ],
        "margin": {
         "b": 5,
         "l": 5,
         "r": 5,
         "t": 5
        },
        "paper_bgcolor": "rgba(0,0,0,0)",
        "plot_bgcolor": "rgba(0,0,0,0)",
        "showlegend": false,
        "template": {
         "data": {
          "bar": [
           {
            "error_x": {
             "color": "#2a3f5f"
            },
            "error_y": {
             "color": "#2a3f5f"
            },
            "marker": {
             "line": {
              "color": "#E5ECF6",
              "width": 0.5
             },
             "pattern": {
              "fillmode": "overlay",
              "size": 10,
              "solidity": 0.2
             }
            },
            "type": "bar"
           }
          ],
          "barpolar": [
           {
            "marker": {
             "line": {
              "color": "#E5ECF6",
              "width": 0.5
             },
             "pattern": {
              "fillmode": "overlay",
              "size": 10,
              "solidity": 0.2
             }
            },
            "type": "barpolar"
           }
          ],
          "carpet": [
           {
            "aaxis": {
             "endlinecolor": "#2a3f5f",
             "gridcolor": "white",
             "linecolor": "white",
             "minorgridcolor": "white",
             "startlinecolor": "#2a3f5f"
            },
            "baxis": {
             "endlinecolor": "#2a3f5f",
             "gridcolor": "white",
             "linecolor": "white",
             "minorgridcolor": "white",
             "startlinecolor": "#2a3f5f"
            },
            "type": "carpet"
           }
          ],
          "choropleth": [
           {
            "colorbar": {
             "outlinewidth": 0,
             "ticks": ""
            },
            "type": "choropleth"
           }
          ],
          "contour": [
           {
            "colorbar": {
             "outlinewidth": 0,
             "ticks": ""
            },
            "colorscale": [
             [
              0,
              "#0d0887"
             ],
             [
              0.1111111111111111,
              "#46039f"
             ],
             [
              0.2222222222222222,
              "#7201a8"
             ],
             [
              0.3333333333333333,
              "#9c179e"
             ],
             [
              0.4444444444444444,
              "#bd3786"
             ],
             [
              0.5555555555555556,
              "#d8576b"
             ],
             [
              0.6666666666666666,
              "#ed7953"
             ],
             [
              0.7777777777777778,
              "#fb9f3a"
             ],
             [
              0.8888888888888888,
              "#fdca26"
             ],
             [
              1,
              "#f0f921"
             ]
            ],
            "type": "contour"
           }
          ],
          "contourcarpet": [
           {
            "colorbar": {
             "outlinewidth": 0,
             "ticks": ""
            },
            "type": "contourcarpet"
           }
          ],
          "heatmap": [
           {
            "colorbar": {
             "outlinewidth": 0,
             "ticks": ""
            },
            "colorscale": [
             [
              0,
              "#0d0887"
             ],
             [
              0.1111111111111111,
              "#46039f"
             ],
             [
              0.2222222222222222,
              "#7201a8"
             ],
             [
              0.3333333333333333,
              "#9c179e"
             ],
             [
              0.4444444444444444,
              "#bd3786"
             ],
             [
              0.5555555555555556,
              "#d8576b"
             ],
             [
              0.6666666666666666,
              "#ed7953"
             ],
             [
              0.7777777777777778,
              "#fb9f3a"
             ],
             [
              0.8888888888888888,
              "#fdca26"
             ],
             [
              1,
              "#f0f921"
             ]
            ],
            "type": "heatmap"
           }
          ],
          "heatmapgl": [
           {
            "colorbar": {
             "outlinewidth": 0,
             "ticks": ""
            },
            "colorscale": [
             [
              0,
              "#0d0887"
             ],
             [
              0.1111111111111111,
              "#46039f"
             ],
             [
              0.2222222222222222,
              "#7201a8"
             ],
             [
              0.3333333333333333,
              "#9c179e"
             ],
             [
              0.4444444444444444,
              "#bd3786"
             ],
             [
              0.5555555555555556,
              "#d8576b"
             ],
             [
              0.6666666666666666,
              "#ed7953"
             ],
             [
              0.7777777777777778,
              "#fb9f3a"
             ],
             [
              0.8888888888888888,
              "#fdca26"
             ],
             [
              1,
              "#f0f921"
             ]
            ],
            "type": "heatmapgl"
           }
          ],
          "histogram": [
           {
            "marker": {
             "pattern": {
              "fillmode": "overlay",
              "size": 10,
              "solidity": 0.2
             }
            },
            "type": "histogram"
           }
          ],
          "histogram2d": [
           {
            "colorbar": {
             "outlinewidth": 0,
             "ticks": ""
            },
            "colorscale": [
             [
              0,
              "#0d0887"
             ],
             [
              0.1111111111111111,
              "#46039f"
             ],
             [
              0.2222222222222222,
              "#7201a8"
             ],
             [
              0.3333333333333333,
              "#9c179e"
             ],
             [
              0.4444444444444444,
              "#bd3786"
             ],
             [
              0.5555555555555556,
              "#d8576b"
             ],
             [
              0.6666666666666666,
              "#ed7953"
             ],
             [
              0.7777777777777778,
              "#fb9f3a"
             ],
             [
              0.8888888888888888,
              "#fdca26"
             ],
             [
              1,
              "#f0f921"
             ]
            ],
            "type": "histogram2d"
           }
          ],
          "histogram2dcontour": [
           {
            "colorbar": {
             "outlinewidth": 0,
             "ticks": ""
            },
            "colorscale": [
             [
              0,
              "#0d0887"
             ],
             [
              0.1111111111111111,
              "#46039f"
             ],
             [
              0.2222222222222222,
              "#7201a8"
             ],
             [
              0.3333333333333333,
              "#9c179e"
             ],
             [
              0.4444444444444444,
              "#bd3786"
             ],
             [
              0.5555555555555556,
              "#d8576b"
             ],
             [
              0.6666666666666666,
              "#ed7953"
             ],
             [
              0.7777777777777778,
              "#fb9f3a"
             ],
             [
              0.8888888888888888,
              "#fdca26"
             ],
             [
              1,
              "#f0f921"
             ]
            ],
            "type": "histogram2dcontour"
           }
          ],
          "mesh3d": [
           {
            "colorbar": {
             "outlinewidth": 0,
             "ticks": ""
            },
            "type": "mesh3d"
           }
          ],
          "parcoords": [
           {
            "line": {
             "colorbar": {
              "outlinewidth": 0,
              "ticks": ""
             }
            },
            "type": "parcoords"
           }
          ],
          "pie": [
           {
            "automargin": true,
            "type": "pie"
           }
          ],
          "scatter": [
           {
            "fillpattern": {
             "fillmode": "overlay",
             "size": 10,
             "solidity": 0.2
            },
            "type": "scatter"
           }
          ],
          "scatter3d": [
           {
            "line": {
             "colorbar": {
              "outlinewidth": 0,
              "ticks": ""
             }
            },
            "marker": {
             "colorbar": {
              "outlinewidth": 0,
              "ticks": ""
             }
            },
            "type": "scatter3d"
           }
          ],
          "scattercarpet": [
           {
            "marker": {
             "colorbar": {
              "outlinewidth": 0,
              "ticks": ""
             }
            },
            "type": "scattercarpet"
           }
          ],
          "scattergeo": [
           {
            "marker": {
             "colorbar": {
              "outlinewidth": 0,
              "ticks": ""
             }
            },
            "type": "scattergeo"
           }
          ],
          "scattergl": [
           {
            "marker": {
             "colorbar": {
              "outlinewidth": 0,
              "ticks": ""
             }
            },
            "type": "scattergl"
           }
          ],
          "scattermapbox": [
           {
            "marker": {
             "colorbar": {
              "outlinewidth": 0,
              "ticks": ""
             }
            },
            "type": "scattermapbox"
           }
          ],
          "scatterpolar": [
           {
            "marker": {
             "colorbar": {
              "outlinewidth": 0,
              "ticks": ""
             }
            },
            "type": "scatterpolar"
           }
          ],
          "scatterpolargl": [
           {
            "marker": {
             "colorbar": {
              "outlinewidth": 0,
              "ticks": ""
             }
            },
            "type": "scatterpolargl"
           }
          ],
          "scatterternary": [
           {
            "marker": {
             "colorbar": {
              "outlinewidth": 0,
              "ticks": ""
             }
            },
            "type": "scatterternary"
           }
          ],
          "surface": [
           {
            "colorbar": {
             "outlinewidth": 0,
             "ticks": ""
            },
            "colorscale": [
             [
              0,
              "#0d0887"
             ],
             [
              0.1111111111111111,
              "#46039f"
             ],
             [
              0.2222222222222222,
              "#7201a8"
             ],
             [
              0.3333333333333333,
              "#9c179e"
             ],
             [
              0.4444444444444444,
              "#bd3786"
             ],
             [
              0.5555555555555556,
              "#d8576b"
             ],
             [
              0.6666666666666666,
              "#ed7953"
             ],
             [
              0.7777777777777778,
              "#fb9f3a"
             ],
             [
              0.8888888888888888,
              "#fdca26"
             ],
             [
              1,
              "#f0f921"
             ]
            ],
            "type": "surface"
           }
          ],
          "table": [
           {
            "cells": {
             "fill": {
              "color": "#EBF0F8"
             },
             "line": {
              "color": "white"
             }
            },
            "header": {
             "fill": {
              "color": "#C8D4E3"
             },
             "line": {
              "color": "white"
             }
            },
            "type": "table"
           }
          ]
         },
         "layout": {
          "annotationdefaults": {
           "arrowcolor": "#2a3f5f",
           "arrowhead": 0,
           "arrowwidth": 1
          },
          "autotypenumbers": "strict",
          "coloraxis": {
           "colorbar": {
            "outlinewidth": 0,
            "ticks": ""
           }
          },
          "colorscale": {
           "diverging": [
            [
             0,
             "#8e0152"
            ],
            [
             0.1,
             "#c51b7d"
            ],
            [
             0.2,
             "#de77ae"
            ],
            [
             0.3,
             "#f1b6da"
            ],
            [
             0.4,
             "#fde0ef"
            ],
            [
             0.5,
             "#f7f7f7"
            ],
            [
             0.6,
             "#e6f5d0"
            ],
            [
             0.7,
             "#b8e186"
            ],
            [
             0.8,
             "#7fbc41"
            ],
            [
             0.9,
             "#4d9221"
            ],
            [
             1,
             "#276419"
            ]
           ],
           "sequential": [
            [
             0,
             "#0d0887"
            ],
            [
             0.1111111111111111,
             "#46039f"
            ],
            [
             0.2222222222222222,
             "#7201a8"
            ],
            [
             0.3333333333333333,
             "#9c179e"
            ],
            [
             0.4444444444444444,
             "#bd3786"
            ],
            [
             0.5555555555555556,
             "#d8576b"
            ],
            [
             0.6666666666666666,
             "#ed7953"
            ],
            [
             0.7777777777777778,
             "#fb9f3a"
            ],
            [
             0.8888888888888888,
             "#fdca26"
            ],
            [
             1,
             "#f0f921"
            ]
           ],
           "sequentialminus": [
            [
             0,
             "#0d0887"
            ],
            [
             0.1111111111111111,
             "#46039f"
            ],
            [
             0.2222222222222222,
             "#7201a8"
            ],
            [
             0.3333333333333333,
             "#9c179e"
            ],
            [
             0.4444444444444444,
             "#bd3786"
            ],
            [
             0.5555555555555556,
             "#d8576b"
            ],
            [
             0.6666666666666666,
             "#ed7953"
            ],
            [
             0.7777777777777778,
             "#fb9f3a"
            ],
            [
             0.8888888888888888,
             "#fdca26"
            ],
            [
             1,
             "#f0f921"
            ]
           ]
          },
          "colorway": [
           "#636efa",
           "#EF553B",
           "#00cc96",
           "#ab63fa",
           "#FFA15A",
           "#19d3f3",
           "#FF6692",
           "#B6E880",
           "#FF97FF",
           "#FECB52"
          ],
          "font": {
           "color": "#2a3f5f"
          },
          "geo": {
           "bgcolor": "white",
           "lakecolor": "white",
           "landcolor": "#E5ECF6",
           "showlakes": true,
           "showland": true,
           "subunitcolor": "white"
          },
          "hoverlabel": {
           "align": "left"
          },
          "hovermode": "closest",
          "mapbox": {
           "style": "light"
          },
          "paper_bgcolor": "white",
          "plot_bgcolor": "#E5ECF6",
          "polar": {
           "angularaxis": {
            "gridcolor": "white",
            "linecolor": "white",
            "ticks": ""
           },
           "bgcolor": "#E5ECF6",
           "radialaxis": {
            "gridcolor": "white",
            "linecolor": "white",
            "ticks": ""
           }
          },
          "scene": {
           "xaxis": {
            "backgroundcolor": "#E5ECF6",
            "gridcolor": "white",
            "gridwidth": 2,
            "linecolor": "white",
            "showbackground": true,
            "ticks": "",
            "zerolinecolor": "white"
           },
           "yaxis": {
            "backgroundcolor": "#E5ECF6",
            "gridcolor": "white",
            "gridwidth": 2,
            "linecolor": "white",
            "showbackground": true,
            "ticks": "",
            "zerolinecolor": "white"
           },
           "zaxis": {
            "backgroundcolor": "#E5ECF6",
            "gridcolor": "white",
            "gridwidth": 2,
            "linecolor": "white",
            "showbackground": true,
            "ticks": "",
            "zerolinecolor": "white"
           }
          },
          "shapedefaults": {
           "line": {
            "color": "#2a3f5f"
           }
          },
          "ternary": {
           "aaxis": {
            "gridcolor": "white",
            "linecolor": "white",
            "ticks": ""
           },
           "baxis": {
            "gridcolor": "white",
            "linecolor": "white",
            "ticks": ""
           },
           "bgcolor": "#E5ECF6",
           "caxis": {
            "gridcolor": "white",
            "linecolor": "white",
            "ticks": ""
           }
          },
          "title": {
           "x": 0.05
          },
          "xaxis": {
           "automargin": true,
           "gridcolor": "white",
           "linecolor": "white",
           "ticks": "",
           "title": {
            "standoff": 15
           },
           "zerolinecolor": "white",
           "zerolinewidth": 2
          },
          "yaxis": {
           "automargin": true,
           "gridcolor": "white",
           "linecolor": "white",
           "ticks": "",
           "title": {
            "standoff": 15
           },
           "zerolinecolor": "white",
           "zerolinewidth": 2
          }
         }
        }
       }
      }
     },
     "metadata": {},
     "output_type": "display_data"
    }
   ],
   "source": [
    "# from pages.classify_tweet.classify_tweet import donut_chart,sentiment_colors\n",
    "\n",
    "nbp_color = sentiment_colors['positive'] if nbp > 0 else sentiment_colors['negative'] if nbp < 0 else sentiment_colors['neutral']\n",
    "\n",
    "donut_chart(round(nbp,2),nbp_color)"
   ]
  },
  {
   "cell_type": "code",
   "execution_count": 9,
   "metadata": {},
   "outputs": [
    {
     "data": {
      "text/plain": [
       "'31.49%'"
      ]
     },
     "execution_count": 9,
     "metadata": {},
     "output_type": "execute_result"
    }
   ],
   "source": [
    "# brand favourable talkability\n",
    "bft = ((int(positive)+int(neutral)-int(negative))/total)*100\n",
    "\"{:0.2f}%\".format(bft)"
   ]
  },
  {
   "attachments": {},
   "cell_type": "markdown",
   "metadata": {},
   "source": [
    "# Custom name topic"
   ]
  },
  {
   "cell_type": "code",
   "execution_count": 1,
   "metadata": {},
   "outputs": [],
   "source": [
    "from pages.topics.topics_data import get_topic_info,get_ranked_topics\n",
    "from pages.sentiment.sentiment_data import get_trending_topics"
   ]
  },
  {
   "cell_type": "code",
   "execution_count": 2,
   "metadata": {},
   "outputs": [
    {
     "data": {
      "text/html": [
       "<div>\n",
       "<style scoped>\n",
       "    .dataframe tbody tr th:only-of-type {\n",
       "        vertical-align: middle;\n",
       "    }\n",
       "\n",
       "    .dataframe tbody tr th {\n",
       "        vertical-align: top;\n",
       "    }\n",
       "\n",
       "    .dataframe thead th {\n",
       "        text-align: right;\n",
       "    }\n",
       "</style>\n",
       "<table border=\"1\" class=\"dataframe\">\n",
       "  <thead>\n",
       "    <tr style=\"text-align: right;\">\n",
       "      <th></th>\n",
       "      <th>Sentiment</th>\n",
       "      <th>Topic reassigned</th>\n",
       "      <th>RTs Count</th>\n",
       "      <th>Likes Count</th>\n",
       "      <th>Name</th>\n",
       "    </tr>\n",
       "  </thead>\n",
       "  <tbody>\n",
       "    <tr>\n",
       "      <th>3</th>\n",
       "      <td>neutral</td>\n",
       "      <td>7.0</td>\n",
       "      <td>251</td>\n",
       "      <td>251</td>\n",
       "      <td>MPP</td>\n",
       "    </tr>\n",
       "    <tr>\n",
       "      <th>4</th>\n",
       "      <td>neutral</td>\n",
       "      <td>3.0</td>\n",
       "      <td>181</td>\n",
       "      <td>181</td>\n",
       "      <td>Vaccination</td>\n",
       "    </tr>\n",
       "    <tr>\n",
       "      <th>5</th>\n",
       "      <td>neutral</td>\n",
       "      <td>0.0</td>\n",
       "      <td>172</td>\n",
       "      <td>172</td>\n",
       "      <td>University Life</td>\n",
       "    </tr>\n",
       "    <tr>\n",
       "      <th>6</th>\n",
       "      <td>neutral</td>\n",
       "      <td>1.0</td>\n",
       "      <td>163</td>\n",
       "      <td>163</td>\n",
       "      <td>News</td>\n",
       "    </tr>\n",
       "    <tr>\n",
       "      <th>7</th>\n",
       "      <td>negative</td>\n",
       "      <td>5.0</td>\n",
       "      <td>131</td>\n",
       "      <td>131</td>\n",
       "      <td>Lecturers</td>\n",
       "    </tr>\n",
       "    <tr>\n",
       "      <th>8</th>\n",
       "      <td>neutral</td>\n",
       "      <td>10.0</td>\n",
       "      <td>128</td>\n",
       "      <td>128</td>\n",
       "      <td>Shah Alam</td>\n",
       "    </tr>\n",
       "    <tr>\n",
       "      <th>9</th>\n",
       "      <td>negative</td>\n",
       "      <td>6.0</td>\n",
       "      <td>106</td>\n",
       "      <td>106</td>\n",
       "      <td>T20/B40</td>\n",
       "    </tr>\n",
       "    <tr>\n",
       "      <th>10</th>\n",
       "      <td>negative</td>\n",
       "      <td>9.0</td>\n",
       "      <td>105</td>\n",
       "      <td>105</td>\n",
       "      <td>Variety</td>\n",
       "    </tr>\n",
       "    <tr>\n",
       "      <th>11</th>\n",
       "      <td>neutral</td>\n",
       "      <td>9.0</td>\n",
       "      <td>100</td>\n",
       "      <td>100</td>\n",
       "      <td>Variety</td>\n",
       "    </tr>\n",
       "    <tr>\n",
       "      <th>12</th>\n",
       "      <td>negative</td>\n",
       "      <td>2.0</td>\n",
       "      <td>96</td>\n",
       "      <td>96</td>\n",
       "      <td>Convocation</td>\n",
       "    </tr>\n",
       "    <tr>\n",
       "      <th>13</th>\n",
       "      <td>neutral</td>\n",
       "      <td>8.0</td>\n",
       "      <td>92</td>\n",
       "      <td>92</td>\n",
       "      <td>Announcement</td>\n",
       "    </tr>\n",
       "    <tr>\n",
       "      <th>14</th>\n",
       "      <td>neutral</td>\n",
       "      <td>4.0</td>\n",
       "      <td>86</td>\n",
       "      <td>86</td>\n",
       "      <td>Football</td>\n",
       "    </tr>\n",
       "    <tr>\n",
       "      <th>15</th>\n",
       "      <td>negative</td>\n",
       "      <td>0.0</td>\n",
       "      <td>84</td>\n",
       "      <td>84</td>\n",
       "      <td>University Life</td>\n",
       "    </tr>\n",
       "    <tr>\n",
       "      <th>16</th>\n",
       "      <td>neutral</td>\n",
       "      <td>5.0</td>\n",
       "      <td>71</td>\n",
       "      <td>71</td>\n",
       "      <td>Lecturers</td>\n",
       "    </tr>\n",
       "    <tr>\n",
       "      <th>17</th>\n",
       "      <td>neutral</td>\n",
       "      <td>19.0</td>\n",
       "      <td>70</td>\n",
       "      <td>70</td>\n",
       "      <td>Announcement</td>\n",
       "    </tr>\n",
       "    <tr>\n",
       "      <th>18</th>\n",
       "      <td>neutral</td>\n",
       "      <td>17.0</td>\n",
       "      <td>64</td>\n",
       "      <td>64</td>\n",
       "      <td>Tuition Fee</td>\n",
       "    </tr>\n",
       "    <tr>\n",
       "      <th>19</th>\n",
       "      <td>negative</td>\n",
       "      <td>12.0</td>\n",
       "      <td>62</td>\n",
       "      <td>62</td>\n",
       "      <td>Bumiputera Rights</td>\n",
       "    </tr>\n",
       "    <tr>\n",
       "      <th>20</th>\n",
       "      <td>neutral</td>\n",
       "      <td>6.0</td>\n",
       "      <td>60</td>\n",
       "      <td>60</td>\n",
       "      <td>T20/B40</td>\n",
       "    </tr>\n",
       "    <tr>\n",
       "      <th>21</th>\n",
       "      <td>neutral</td>\n",
       "      <td>12.0</td>\n",
       "      <td>60</td>\n",
       "      <td>60</td>\n",
       "      <td>Bumiputera Rights</td>\n",
       "    </tr>\n",
       "    <tr>\n",
       "      <th>22</th>\n",
       "      <td>negative</td>\n",
       "      <td>17.0</td>\n",
       "      <td>58</td>\n",
       "      <td>58</td>\n",
       "      <td>Tuition Fee</td>\n",
       "    </tr>\n",
       "    <tr>\n",
       "      <th>23</th>\n",
       "      <td>neutral</td>\n",
       "      <td>2.0</td>\n",
       "      <td>57</td>\n",
       "      <td>57</td>\n",
       "      <td>Convocation</td>\n",
       "    </tr>\n",
       "    <tr>\n",
       "      <th>24</th>\n",
       "      <td>neutral</td>\n",
       "      <td>13.0</td>\n",
       "      <td>57</td>\n",
       "      <td>57</td>\n",
       "      <td>Short Break</td>\n",
       "    </tr>\n",
       "    <tr>\n",
       "      <th>25</th>\n",
       "      <td>negative</td>\n",
       "      <td>15.0</td>\n",
       "      <td>56</td>\n",
       "      <td>56</td>\n",
       "      <td>Lecturer Controversy</td>\n",
       "    </tr>\n",
       "    <tr>\n",
       "      <th>26</th>\n",
       "      <td>neutral</td>\n",
       "      <td>11.0</td>\n",
       "      <td>56</td>\n",
       "      <td>56</td>\n",
       "      <td>Food</td>\n",
       "    </tr>\n",
       "    <tr>\n",
       "      <th>27</th>\n",
       "      <td>neutral</td>\n",
       "      <td>18.0</td>\n",
       "      <td>54</td>\n",
       "      <td>54</td>\n",
       "      <td>Student's Death</td>\n",
       "    </tr>\n",
       "    <tr>\n",
       "      <th>28</th>\n",
       "      <td>neutral</td>\n",
       "      <td>14.0</td>\n",
       "      <td>53</td>\n",
       "      <td>53</td>\n",
       "      <td>Entering UiTM</td>\n",
       "    </tr>\n",
       "    <tr>\n",
       "      <th>29</th>\n",
       "      <td>negative</td>\n",
       "      <td>13.0</td>\n",
       "      <td>52</td>\n",
       "      <td>52</td>\n",
       "      <td>Short Break</td>\n",
       "    </tr>\n",
       "    <tr>\n",
       "      <th>30</th>\n",
       "      <td>positive</td>\n",
       "      <td>0.0</td>\n",
       "      <td>51</td>\n",
       "      <td>51</td>\n",
       "      <td>University Life</td>\n",
       "    </tr>\n",
       "    <tr>\n",
       "      <th>31</th>\n",
       "      <td>positive</td>\n",
       "      <td>3.0</td>\n",
       "      <td>43</td>\n",
       "      <td>43</td>\n",
       "      <td>Vaccination</td>\n",
       "    </tr>\n",
       "    <tr>\n",
       "      <th>32</th>\n",
       "      <td>neutral</td>\n",
       "      <td>15.0</td>\n",
       "      <td>41</td>\n",
       "      <td>41</td>\n",
       "      <td>Lecturer Controversy</td>\n",
       "    </tr>\n",
       "    <tr>\n",
       "      <th>33</th>\n",
       "      <td>negative</td>\n",
       "      <td>14.0</td>\n",
       "      <td>39</td>\n",
       "      <td>39</td>\n",
       "      <td>Entering UiTM</td>\n",
       "    </tr>\n",
       "    <tr>\n",
       "      <th>34</th>\n",
       "      <td>negative</td>\n",
       "      <td>10.0</td>\n",
       "      <td>37</td>\n",
       "      <td>37</td>\n",
       "      <td>Shah Alam</td>\n",
       "    </tr>\n",
       "    <tr>\n",
       "      <th>35</th>\n",
       "      <td>negative</td>\n",
       "      <td>7.0</td>\n",
       "      <td>36</td>\n",
       "      <td>36</td>\n",
       "      <td>MPP</td>\n",
       "    </tr>\n",
       "    <tr>\n",
       "      <th>36</th>\n",
       "      <td>negative</td>\n",
       "      <td>18.0</td>\n",
       "      <td>36</td>\n",
       "      <td>36</td>\n",
       "      <td>Student's Death</td>\n",
       "    </tr>\n",
       "    <tr>\n",
       "      <th>37</th>\n",
       "      <td>neutral</td>\n",
       "      <td>16.0</td>\n",
       "      <td>35</td>\n",
       "      <td>35</td>\n",
       "      <td>Appreciation</td>\n",
       "    </tr>\n",
       "    <tr>\n",
       "      <th>38</th>\n",
       "      <td>negative</td>\n",
       "      <td>1.0</td>\n",
       "      <td>31</td>\n",
       "      <td>31</td>\n",
       "      <td>News</td>\n",
       "    </tr>\n",
       "    <tr>\n",
       "      <th>39</th>\n",
       "      <td>negative</td>\n",
       "      <td>3.0</td>\n",
       "      <td>31</td>\n",
       "      <td>31</td>\n",
       "      <td>Vaccination</td>\n",
       "    </tr>\n",
       "    <tr>\n",
       "      <th>40</th>\n",
       "      <td>positive</td>\n",
       "      <td>9.0</td>\n",
       "      <td>31</td>\n",
       "      <td>31</td>\n",
       "      <td>Variety</td>\n",
       "    </tr>\n",
       "    <tr>\n",
       "      <th>41</th>\n",
       "      <td>positive</td>\n",
       "      <td>7.0</td>\n",
       "      <td>29</td>\n",
       "      <td>29</td>\n",
       "      <td>MPP</td>\n",
       "    </tr>\n",
       "    <tr>\n",
       "      <th>42</th>\n",
       "      <td>positive</td>\n",
       "      <td>10.0</td>\n",
       "      <td>29</td>\n",
       "      <td>29</td>\n",
       "      <td>Shah Alam</td>\n",
       "    </tr>\n",
       "    <tr>\n",
       "      <th>43</th>\n",
       "      <td>positive</td>\n",
       "      <td>17.0</td>\n",
       "      <td>28</td>\n",
       "      <td>28</td>\n",
       "      <td>Tuition Fee</td>\n",
       "    </tr>\n",
       "    <tr>\n",
       "      <th>44</th>\n",
       "      <td>positive</td>\n",
       "      <td>5.0</td>\n",
       "      <td>22</td>\n",
       "      <td>22</td>\n",
       "      <td>Lecturers</td>\n",
       "    </tr>\n",
       "    <tr>\n",
       "      <th>45</th>\n",
       "      <td>positive</td>\n",
       "      <td>16.0</td>\n",
       "      <td>21</td>\n",
       "      <td>21</td>\n",
       "      <td>Appreciation</td>\n",
       "    </tr>\n",
       "    <tr>\n",
       "      <th>46</th>\n",
       "      <td>negative</td>\n",
       "      <td>8.0</td>\n",
       "      <td>19</td>\n",
       "      <td>19</td>\n",
       "      <td>Announcement</td>\n",
       "    </tr>\n",
       "    <tr>\n",
       "      <th>47</th>\n",
       "      <td>positive</td>\n",
       "      <td>1.0</td>\n",
       "      <td>19</td>\n",
       "      <td>19</td>\n",
       "      <td>News</td>\n",
       "    </tr>\n",
       "    <tr>\n",
       "      <th>48</th>\n",
       "      <td>negative</td>\n",
       "      <td>4.0</td>\n",
       "      <td>18</td>\n",
       "      <td>18</td>\n",
       "      <td>Football</td>\n",
       "    </tr>\n",
       "    <tr>\n",
       "      <th>49</th>\n",
       "      <td>positive</td>\n",
       "      <td>11.0</td>\n",
       "      <td>18</td>\n",
       "      <td>18</td>\n",
       "      <td>Food</td>\n",
       "    </tr>\n",
       "    <tr>\n",
       "      <th>50</th>\n",
       "      <td>positive</td>\n",
       "      <td>13.0</td>\n",
       "      <td>18</td>\n",
       "      <td>18</td>\n",
       "      <td>Short Break</td>\n",
       "    </tr>\n",
       "    <tr>\n",
       "      <th>51</th>\n",
       "      <td>negative</td>\n",
       "      <td>11.0</td>\n",
       "      <td>17</td>\n",
       "      <td>17</td>\n",
       "      <td>Food</td>\n",
       "    </tr>\n",
       "    <tr>\n",
       "      <th>52</th>\n",
       "      <td>positive</td>\n",
       "      <td>18.0</td>\n",
       "      <td>15</td>\n",
       "      <td>15</td>\n",
       "      <td>Student's Death</td>\n",
       "    </tr>\n",
       "    <tr>\n",
       "      <th>53</th>\n",
       "      <td>negative</td>\n",
       "      <td>19.0</td>\n",
       "      <td>14</td>\n",
       "      <td>14</td>\n",
       "      <td>Announcement</td>\n",
       "    </tr>\n",
       "    <tr>\n",
       "      <th>54</th>\n",
       "      <td>negative</td>\n",
       "      <td>16.0</td>\n",
       "      <td>12</td>\n",
       "      <td>12</td>\n",
       "      <td>Appreciation</td>\n",
       "    </tr>\n",
       "    <tr>\n",
       "      <th>55</th>\n",
       "      <td>positive</td>\n",
       "      <td>2.0</td>\n",
       "      <td>12</td>\n",
       "      <td>12</td>\n",
       "      <td>Convocation</td>\n",
       "    </tr>\n",
       "    <tr>\n",
       "      <th>56</th>\n",
       "      <td>positive</td>\n",
       "      <td>6.0</td>\n",
       "      <td>12</td>\n",
       "      <td>12</td>\n",
       "      <td>T20/B40</td>\n",
       "    </tr>\n",
       "    <tr>\n",
       "      <th>57</th>\n",
       "      <td>positive</td>\n",
       "      <td>15.0</td>\n",
       "      <td>11</td>\n",
       "      <td>11</td>\n",
       "      <td>Lecturer Controversy</td>\n",
       "    </tr>\n",
       "    <tr>\n",
       "      <th>58</th>\n",
       "      <td>positive</td>\n",
       "      <td>14.0</td>\n",
       "      <td>8</td>\n",
       "      <td>8</td>\n",
       "      <td>Entering UiTM</td>\n",
       "    </tr>\n",
       "    <tr>\n",
       "      <th>59</th>\n",
       "      <td>positive</td>\n",
       "      <td>8.0</td>\n",
       "      <td>7</td>\n",
       "      <td>7</td>\n",
       "      <td>Announcement</td>\n",
       "    </tr>\n",
       "    <tr>\n",
       "      <th>60</th>\n",
       "      <td>positive</td>\n",
       "      <td>12.0</td>\n",
       "      <td>5</td>\n",
       "      <td>5</td>\n",
       "      <td>Bumiputera Rights</td>\n",
       "    </tr>\n",
       "    <tr>\n",
       "      <th>61</th>\n",
       "      <td>positive</td>\n",
       "      <td>19.0</td>\n",
       "      <td>5</td>\n",
       "      <td>5</td>\n",
       "      <td>Announcement</td>\n",
       "    </tr>\n",
       "    <tr>\n",
       "      <th>62</th>\n",
       "      <td>positive</td>\n",
       "      <td>4.0</td>\n",
       "      <td>4</td>\n",
       "      <td>4</td>\n",
       "      <td>Football</td>\n",
       "    </tr>\n",
       "  </tbody>\n",
       "</table>\n",
       "</div>"
      ],
      "text/plain": [
       "   Sentiment  Topic reassigned  RTs Count  Likes Count                  Name\n",
       "3    neutral               7.0        251          251                   MPP\n",
       "4    neutral               3.0        181          181           Vaccination\n",
       "5    neutral               0.0        172          172       University Life\n",
       "6    neutral               1.0        163          163                  News\n",
       "7   negative               5.0        131          131             Lecturers\n",
       "8    neutral              10.0        128          128             Shah Alam\n",
       "9   negative               6.0        106          106               T20/B40\n",
       "10  negative               9.0        105          105               Variety\n",
       "11   neutral               9.0        100          100               Variety\n",
       "12  negative               2.0         96           96           Convocation\n",
       "13   neutral               8.0         92           92          Announcement\n",
       "14   neutral               4.0         86           86              Football\n",
       "15  negative               0.0         84           84       University Life\n",
       "16   neutral               5.0         71           71             Lecturers\n",
       "17   neutral              19.0         70           70          Announcement\n",
       "18   neutral              17.0         64           64           Tuition Fee\n",
       "19  negative              12.0         62           62     Bumiputera Rights\n",
       "20   neutral               6.0         60           60               T20/B40\n",
       "21   neutral              12.0         60           60     Bumiputera Rights\n",
       "22  negative              17.0         58           58           Tuition Fee\n",
       "23   neutral               2.0         57           57           Convocation\n",
       "24   neutral              13.0         57           57           Short Break\n",
       "25  negative              15.0         56           56  Lecturer Controversy\n",
       "26   neutral              11.0         56           56                  Food\n",
       "27   neutral              18.0         54           54       Student's Death\n",
       "28   neutral              14.0         53           53         Entering UiTM\n",
       "29  negative              13.0         52           52           Short Break\n",
       "30  positive               0.0         51           51       University Life\n",
       "31  positive               3.0         43           43           Vaccination\n",
       "32   neutral              15.0         41           41  Lecturer Controversy\n",
       "33  negative              14.0         39           39         Entering UiTM\n",
       "34  negative              10.0         37           37             Shah Alam\n",
       "35  negative               7.0         36           36                   MPP\n",
       "36  negative              18.0         36           36       Student's Death\n",
       "37   neutral              16.0         35           35          Appreciation\n",
       "38  negative               1.0         31           31                  News\n",
       "39  negative               3.0         31           31           Vaccination\n",
       "40  positive               9.0         31           31               Variety\n",
       "41  positive               7.0         29           29                   MPP\n",
       "42  positive              10.0         29           29             Shah Alam\n",
       "43  positive              17.0         28           28           Tuition Fee\n",
       "44  positive               5.0         22           22             Lecturers\n",
       "45  positive              16.0         21           21          Appreciation\n",
       "46  negative               8.0         19           19          Announcement\n",
       "47  positive               1.0         19           19                  News\n",
       "48  negative               4.0         18           18              Football\n",
       "49  positive              11.0         18           18                  Food\n",
       "50  positive              13.0         18           18           Short Break\n",
       "51  negative              11.0         17           17                  Food\n",
       "52  positive              18.0         15           15       Student's Death\n",
       "53  negative              19.0         14           14          Announcement\n",
       "54  negative              16.0         12           12          Appreciation\n",
       "55  positive               2.0         12           12           Convocation\n",
       "56  positive               6.0         12           12               T20/B40\n",
       "57  positive              15.0         11           11  Lecturer Controversy\n",
       "58  positive              14.0          8            8         Entering UiTM\n",
       "59  positive               8.0          7            7          Announcement\n",
       "60  positive              12.0          5            5     Bumiputera Rights\n",
       "61  positive              19.0          5            5          Announcement\n",
       "62  positive               4.0          4            4              Football"
      ]
     },
     "execution_count": 2,
     "metadata": {},
     "output_type": "execute_result"
    }
   ],
   "source": [
    "get_trending_topics()"
   ]
  },
  {
   "cell_type": "code",
   "execution_count": 2,
   "metadata": {},
   "outputs": [
    {
     "data": {
      "text/html": [
       "<div>\n",
       "<style scoped>\n",
       "    .dataframe tbody tr th:only-of-type {\n",
       "        vertical-align: middle;\n",
       "    }\n",
       "\n",
       "    .dataframe tbody tr th {\n",
       "        vertical-align: top;\n",
       "    }\n",
       "\n",
       "    .dataframe thead th {\n",
       "        text-align: right;\n",
       "    }\n",
       "</style>\n",
       "<table border=\"1\" class=\"dataframe\">\n",
       "  <thead>\n",
       "    <tr style=\"text-align: right;\">\n",
       "      <th></th>\n",
       "      <th>Count</th>\n",
       "      <th>CustomName</th>\n",
       "      <th>Name</th>\n",
       "      <th>Topic</th>\n",
       "    </tr>\n",
       "  </thead>\n",
       "  <tbody>\n",
       "    <tr>\n",
       "      <th>0</th>\n",
       "      <td>70259</td>\n",
       "      <td>-1_student_masuk_budak_pelajar</td>\n",
       "      <td>-1_student_masuk_budak_pelajar</td>\n",
       "      <td>-1</td>\n",
       "    </tr>\n",
       "    <tr>\n",
       "      <th>1</th>\n",
       "      <td>2497</td>\n",
       "      <td>University Life</td>\n",
       "      <td>0_lagu_kawan_zaman_jalan</td>\n",
       "      <td>0</td>\n",
       "    </tr>\n",
       "    <tr>\n",
       "      <th>2</th>\n",
       "      <td>1448</td>\n",
       "      <td>News</td>\n",
       "      <td>1_naib_canselor_mohd_prof</td>\n",
       "      <td>1</td>\n",
       "    </tr>\n",
       "    <tr>\n",
       "      <th>3</th>\n",
       "      <td>1215</td>\n",
       "      <td>Convocation</td>\n",
       "      <td>2_konvo_convo_tangguh_convocation</td>\n",
       "      <td>2</td>\n",
       "    </tr>\n",
       "    <tr>\n",
       "      <th>4</th>\n",
       "      <td>1175</td>\n",
       "      <td>Vaccination</td>\n",
       "      <td>3_puncak_alam_ppv_vaksin</td>\n",
       "      <td>3</td>\n",
       "    </tr>\n",
       "    <tr>\n",
       "      <th>5</th>\n",
       "      <td>1058</td>\n",
       "      <td>Football</td>\n",
       "      <td>4_liga_perlawanan_stadium_perak</td>\n",
       "      <td>4</td>\n",
       "    </tr>\n",
       "    <tr>\n",
       "      <th>6</th>\n",
       "      <td>1032</td>\n",
       "      <td>Lecturers</td>\n",
       "      <td>5_lecturer_viral_student_kawad</td>\n",
       "      <td>5</td>\n",
       "    </tr>\n",
       "    <tr>\n",
       "      <th>7</th>\n",
       "      <td>952</td>\n",
       "      <td>T20/B40</td>\n",
       "      <td>6_b40_t20_golongan_mengajar</td>\n",
       "      <td>6</td>\n",
       "    </tr>\n",
       "    <tr>\n",
       "      <th>8</th>\n",
       "      <td>945</td>\n",
       "      <td>MPP</td>\n",
       "      <td>7_kasih_terima_perwakilan_sesi</td>\n",
       "      <td>7</td>\n",
       "    </tr>\n",
       "    <tr>\n",
       "      <th>9</th>\n",
       "      <td>903</td>\n",
       "      <td>Announcement</td>\n",
       "      <td>8_sarawak_ptar_youtube_fb</td>\n",
       "      <td>8</td>\n",
       "    </tr>\n",
       "    <tr>\n",
       "      <th>10</th>\n",
       "      <td>824</td>\n",
       "      <td>Variety</td>\n",
       "      <td>9_lendu_tengok_cakap_jumpa</td>\n",
       "      <td>9</td>\n",
       "    </tr>\n",
       "    <tr>\n",
       "      <th>11</th>\n",
       "      <td>757</td>\n",
       "      <td>Shah Alam</td>\n",
       "      <td>10_shah_alam_heha_alamak</td>\n",
       "      <td>10</td>\n",
       "    </tr>\n",
       "    <tr>\n",
       "      <th>12</th>\n",
       "      <td>698</td>\n",
       "      <td>Food</td>\n",
       "      <td>11_nasi_makan_sedap_ayam</td>\n",
       "      <td>11</td>\n",
       "    </tr>\n",
       "    <tr>\n",
       "      <th>13</th>\n",
       "      <td>692</td>\n",
       "      <td>Bumiputera Rights</td>\n",
       "      <td>12_melayu_bumiputera_hak_bumi</td>\n",
       "      <td>12</td>\n",
       "    </tr>\n",
       "    <tr>\n",
       "      <th>14</th>\n",
       "      <td>683</td>\n",
       "      <td>Short Break</td>\n",
       "      <td>13_cuti_bertenang_tempoh_week</td>\n",
       "      <td>13</td>\n",
       "    </tr>\n",
       "    <tr>\n",
       "      <th>15</th>\n",
       "      <td>629</td>\n",
       "      <td>Entering UiTM</td>\n",
       "      <td>14_masuk_kabel_surprise_semerahan</td>\n",
       "      <td>14</td>\n",
       "    </tr>\n",
       "    <tr>\n",
       "      <th>16</th>\n",
       "      <td>619</td>\n",
       "      <td>Lecturer Controversy</td>\n",
       "      <td>15_tindakan_pensyarah_pelajar_tular</td>\n",
       "      <td>15</td>\n",
       "    </tr>\n",
       "    <tr>\n",
       "      <th>17</th>\n",
       "      <td>597</td>\n",
       "      <td>Appreciation</td>\n",
       "      <td>16_dihatiku_hmm_hatiku_tahniah</td>\n",
       "      <td>16</td>\n",
       "    </tr>\n",
       "    <tr>\n",
       "      <th>18</th>\n",
       "      <td>597</td>\n",
       "      <td>Tuition Fee</td>\n",
       "      <td>17_yuran_duit_refund_bayar</td>\n",
       "      <td>17</td>\n",
       "    </tr>\n",
       "    <tr>\n",
       "      <th>19</th>\n",
       "      <td>582</td>\n",
       "      <td>Student's Death</td>\n",
       "      <td>18_semoga_meninggal_takziah_arwah</td>\n",
       "      <td>18</td>\n",
       "    </tr>\n",
       "    <tr>\n",
       "      <th>20</th>\n",
       "      <td>574</td>\n",
       "      <td>Announcement</td>\n",
       "      <td>19_youtuba_live_tarikh_webinar</td>\n",
       "      <td>19</td>\n",
       "    </tr>\n",
       "  </tbody>\n",
       "</table>\n",
       "</div>"
      ],
      "text/plain": [
       "    Count                      CustomName  \\\n",
       "0   70259  -1_student_masuk_budak_pelajar   \n",
       "1    2497                 University Life   \n",
       "2    1448                            News   \n",
       "3    1215                     Convocation   \n",
       "4    1175                     Vaccination   \n",
       "5    1058                        Football   \n",
       "6    1032                       Lecturers   \n",
       "7     952                         T20/B40   \n",
       "8     945                             MPP   \n",
       "9     903                    Announcement   \n",
       "10    824                         Variety   \n",
       "11    757                       Shah Alam   \n",
       "12    698                            Food   \n",
       "13    692               Bumiputera Rights   \n",
       "14    683                     Short Break   \n",
       "15    629                   Entering UiTM   \n",
       "16    619            Lecturer Controversy   \n",
       "17    597                    Appreciation   \n",
       "18    597                     Tuition Fee   \n",
       "19    582                 Student's Death   \n",
       "20    574                    Announcement   \n",
       "\n",
       "                                   Name  Topic  \n",
       "0        -1_student_masuk_budak_pelajar     -1  \n",
       "1              0_lagu_kawan_zaman_jalan      0  \n",
       "2             1_naib_canselor_mohd_prof      1  \n",
       "3     2_konvo_convo_tangguh_convocation      2  \n",
       "4              3_puncak_alam_ppv_vaksin      3  \n",
       "5       4_liga_perlawanan_stadium_perak      4  \n",
       "6        5_lecturer_viral_student_kawad      5  \n",
       "7           6_b40_t20_golongan_mengajar      6  \n",
       "8        7_kasih_terima_perwakilan_sesi      7  \n",
       "9             8_sarawak_ptar_youtube_fb      8  \n",
       "10           9_lendu_tengok_cakap_jumpa      9  \n",
       "11             10_shah_alam_heha_alamak     10  \n",
       "12             11_nasi_makan_sedap_ayam     11  \n",
       "13        12_melayu_bumiputera_hak_bumi     12  \n",
       "14        13_cuti_bertenang_tempoh_week     13  \n",
       "15    14_masuk_kabel_surprise_semerahan     14  \n",
       "16  15_tindakan_pensyarah_pelajar_tular     15  \n",
       "17       16_dihatiku_hmm_hatiku_tahniah     16  \n",
       "18           17_yuran_duit_refund_bayar     17  \n",
       "19    18_semoga_meninggal_takziah_arwah     18  \n",
       "20       19_youtuba_live_tarikh_webinar     19  "
      ]
     },
     "execution_count": 2,
     "metadata": {},
     "output_type": "execute_result"
    }
   ],
   "source": [
    "get_topic_info()"
   ]
  },
  {
   "cell_type": "code",
   "execution_count": 3,
   "metadata": {},
   "outputs": [
    {
     "data": {
      "text/html": [
       "<div>\n",
       "<style scoped>\n",
       "    .dataframe tbody tr th:only-of-type {\n",
       "        vertical-align: middle;\n",
       "    }\n",
       "\n",
       "    .dataframe tbody tr th {\n",
       "        vertical-align: top;\n",
       "    }\n",
       "\n",
       "    .dataframe thead th {\n",
       "        text-align: right;\n",
       "    }\n",
       "</style>\n",
       "<table border=\"1\" class=\"dataframe\">\n",
       "  <thead>\n",
       "    <tr style=\"text-align: right;\">\n",
       "      <th></th>\n",
       "      <th>Topic</th>\n",
       "      <th>Count</th>\n",
       "      <th>CustomName</th>\n",
       "      <th>Name</th>\n",
       "      <th>RTs Count</th>\n",
       "      <th>Likes Count</th>\n",
       "    </tr>\n",
       "  </thead>\n",
       "  <tbody>\n",
       "    <tr>\n",
       "      <th>6</th>\n",
       "      <td>5</td>\n",
       "      <td>1032</td>\n",
       "      <td>Lecturers</td>\n",
       "      <td>5_lecturer_viral_student_kawad</td>\n",
       "      <td>66047</td>\n",
       "      <td>118417</td>\n",
       "    </tr>\n",
       "    <tr>\n",
       "      <th>16</th>\n",
       "      <td>15</td>\n",
       "      <td>619</td>\n",
       "      <td>Lecturer Controversy</td>\n",
       "      <td>15_tindakan_pensyarah_pelajar_tular</td>\n",
       "      <td>54587</td>\n",
       "      <td>82395</td>\n",
       "    </tr>\n",
       "    <tr>\n",
       "      <th>19</th>\n",
       "      <td>18</td>\n",
       "      <td>582</td>\n",
       "      <td>Student's Death</td>\n",
       "      <td>18_semoga_meninggal_takziah_arwah</td>\n",
       "      <td>43134</td>\n",
       "      <td>66591</td>\n",
       "    </tr>\n",
       "    <tr>\n",
       "      <th>18</th>\n",
       "      <td>17</td>\n",
       "      <td>597</td>\n",
       "      <td>Tuition Fee</td>\n",
       "      <td>17_yuran_duit_refund_bayar</td>\n",
       "      <td>21639</td>\n",
       "      <td>44999</td>\n",
       "    </tr>\n",
       "    <tr>\n",
       "      <th>7</th>\n",
       "      <td>6</td>\n",
       "      <td>952</td>\n",
       "      <td>T20/B40</td>\n",
       "      <td>6_b40_t20_golongan_mengajar</td>\n",
       "      <td>19580</td>\n",
       "      <td>54423</td>\n",
       "    </tr>\n",
       "    <tr>\n",
       "      <th>13</th>\n",
       "      <td>12</td>\n",
       "      <td>692</td>\n",
       "      <td>Bumiputera Rights</td>\n",
       "      <td>12_melayu_bumiputera_hak_bumi</td>\n",
       "      <td>17956</td>\n",
       "      <td>39982</td>\n",
       "    </tr>\n",
       "    <tr>\n",
       "      <th>1</th>\n",
       "      <td>0</td>\n",
       "      <td>2497</td>\n",
       "      <td>University Life</td>\n",
       "      <td>0_lagu_kawan_zaman_jalan</td>\n",
       "      <td>17461</td>\n",
       "      <td>42791</td>\n",
       "    </tr>\n",
       "    <tr>\n",
       "      <th>4</th>\n",
       "      <td>3</td>\n",
       "      <td>1175</td>\n",
       "      <td>Vaccination</td>\n",
       "      <td>3_puncak_alam_ppv_vaksin</td>\n",
       "      <td>13091</td>\n",
       "      <td>22141</td>\n",
       "    </tr>\n",
       "    <tr>\n",
       "      <th>3</th>\n",
       "      <td>2</td>\n",
       "      <td>1215</td>\n",
       "      <td>Convocation</td>\n",
       "      <td>2_konvo_convo_tangguh_convocation</td>\n",
       "      <td>9588</td>\n",
       "      <td>20167</td>\n",
       "    </tr>\n",
       "    <tr>\n",
       "      <th>8</th>\n",
       "      <td>7</td>\n",
       "      <td>945</td>\n",
       "      <td>MPP</td>\n",
       "      <td>7_kasih_terima_perwakilan_sesi</td>\n",
       "      <td>8386</td>\n",
       "      <td>12585</td>\n",
       "    </tr>\n",
       "    <tr>\n",
       "      <th>11</th>\n",
       "      <td>10</td>\n",
       "      <td>757</td>\n",
       "      <td>Shah Alam</td>\n",
       "      <td>10_shah_alam_heha_alamak</td>\n",
       "      <td>8275</td>\n",
       "      <td>19947</td>\n",
       "    </tr>\n",
       "    <tr>\n",
       "      <th>5</th>\n",
       "      <td>4</td>\n",
       "      <td>1058</td>\n",
       "      <td>Football</td>\n",
       "      <td>4_liga_perlawanan_stadium_perak</td>\n",
       "      <td>6357</td>\n",
       "      <td>10433</td>\n",
       "    </tr>\n",
       "    <tr>\n",
       "      <th>14</th>\n",
       "      <td>13</td>\n",
       "      <td>683</td>\n",
       "      <td>Short Break</td>\n",
       "      <td>13_cuti_bertenang_tempoh_week</td>\n",
       "      <td>4720</td>\n",
       "      <td>8218</td>\n",
       "    </tr>\n",
       "    <tr>\n",
       "      <th>15</th>\n",
       "      <td>14</td>\n",
       "      <td>629</td>\n",
       "      <td>Entering UiTM</td>\n",
       "      <td>14_masuk_kabel_surprise_semerahan</td>\n",
       "      <td>4463</td>\n",
       "      <td>10342</td>\n",
       "    </tr>\n",
       "    <tr>\n",
       "      <th>2</th>\n",
       "      <td>1</td>\n",
       "      <td>1448</td>\n",
       "      <td>News</td>\n",
       "      <td>1_naib_canselor_mohd_prof</td>\n",
       "      <td>4118</td>\n",
       "      <td>10361</td>\n",
       "    </tr>\n",
       "    <tr>\n",
       "      <th>10</th>\n",
       "      <td>9</td>\n",
       "      <td>824</td>\n",
       "      <td>Variety</td>\n",
       "      <td>9_lendu_tengok_cakap_jumpa</td>\n",
       "      <td>3660</td>\n",
       "      <td>14569</td>\n",
       "    </tr>\n",
       "    <tr>\n",
       "      <th>17</th>\n",
       "      <td>16</td>\n",
       "      <td>597</td>\n",
       "      <td>Appreciation</td>\n",
       "      <td>16_dihatiku_hmm_hatiku_tahniah</td>\n",
       "      <td>1555</td>\n",
       "      <td>6190</td>\n",
       "    </tr>\n",
       "    <tr>\n",
       "      <th>20</th>\n",
       "      <td>19</td>\n",
       "      <td>574</td>\n",
       "      <td>Announcement</td>\n",
       "      <td>19_youtuba_live_tarikh_webinar</td>\n",
       "      <td>880</td>\n",
       "      <td>1907</td>\n",
       "    </tr>\n",
       "    <tr>\n",
       "      <th>12</th>\n",
       "      <td>11</td>\n",
       "      <td>698</td>\n",
       "      <td>Food</td>\n",
       "      <td>11_nasi_makan_sedap_ayam</td>\n",
       "      <td>862</td>\n",
       "      <td>3061</td>\n",
       "    </tr>\n",
       "    <tr>\n",
       "      <th>9</th>\n",
       "      <td>8</td>\n",
       "      <td>903</td>\n",
       "      <td>Announcement</td>\n",
       "      <td>8_sarawak_ptar_youtube_fb</td>\n",
       "      <td>758</td>\n",
       "      <td>2317</td>\n",
       "    </tr>\n",
       "  </tbody>\n",
       "</table>\n",
       "</div>"
      ],
      "text/plain": [
       "    Topic  Count            CustomName                                 Name  \\\n",
       "6       5   1032             Lecturers       5_lecturer_viral_student_kawad   \n",
       "16     15    619  Lecturer Controversy  15_tindakan_pensyarah_pelajar_tular   \n",
       "19     18    582       Student's Death    18_semoga_meninggal_takziah_arwah   \n",
       "18     17    597           Tuition Fee           17_yuran_duit_refund_bayar   \n",
       "7       6    952               T20/B40          6_b40_t20_golongan_mengajar   \n",
       "13     12    692     Bumiputera Rights        12_melayu_bumiputera_hak_bumi   \n",
       "1       0   2497       University Life             0_lagu_kawan_zaman_jalan   \n",
       "4       3   1175           Vaccination             3_puncak_alam_ppv_vaksin   \n",
       "3       2   1215           Convocation    2_konvo_convo_tangguh_convocation   \n",
       "8       7    945                   MPP       7_kasih_terima_perwakilan_sesi   \n",
       "11     10    757             Shah Alam             10_shah_alam_heha_alamak   \n",
       "5       4   1058              Football      4_liga_perlawanan_stadium_perak   \n",
       "14     13    683           Short Break        13_cuti_bertenang_tempoh_week   \n",
       "15     14    629         Entering UiTM    14_masuk_kabel_surprise_semerahan   \n",
       "2       1   1448                  News            1_naib_canselor_mohd_prof   \n",
       "10      9    824               Variety           9_lendu_tengok_cakap_jumpa   \n",
       "17     16    597          Appreciation       16_dihatiku_hmm_hatiku_tahniah   \n",
       "20     19    574          Announcement       19_youtuba_live_tarikh_webinar   \n",
       "12     11    698                  Food             11_nasi_makan_sedap_ayam   \n",
       "9       8    903          Announcement            8_sarawak_ptar_youtube_fb   \n",
       "\n",
       "    RTs Count  Likes Count  \n",
       "6       66047       118417  \n",
       "16      54587        82395  \n",
       "19      43134        66591  \n",
       "18      21639        44999  \n",
       "7       19580        54423  \n",
       "13      17956        39982  \n",
       "1       17461        42791  \n",
       "4       13091        22141  \n",
       "3        9588        20167  \n",
       "8        8386        12585  \n",
       "11       8275        19947  \n",
       "5        6357        10433  \n",
       "14       4720         8218  \n",
       "15       4463        10342  \n",
       "2        4118        10361  \n",
       "10       3660        14569  \n",
       "17       1555         6190  \n",
       "20        880         1907  \n",
       "12        862         3061  \n",
       "9         758         2317  "
      ]
     },
     "execution_count": 3,
     "metadata": {},
     "output_type": "execute_result"
    }
   ],
   "source": [
    "get_ranked_topics()"
   ]
  },
  {
   "cell_type": "code",
   "execution_count": 4,
   "metadata": {},
   "outputs": [
    {
     "data": {
      "text/plain": [
       "6                Lecturers\n",
       "16    Lecturer Controversy\n",
       "19         Student's Death\n",
       "18             Tuition Fee\n",
       "7                  T20/B40\n",
       "13       Bumiputera Rights\n",
       "1          University Life\n",
       "4              Vaccination\n",
       "3              Convocation\n",
       "8                      MPP\n",
       "11               Shah Alam\n",
       "5                 Football\n",
       "14             Short Break\n",
       "15           Entering UiTM\n",
       "2                     News\n",
       "10                 Variety\n",
       "17            Appreciation\n",
       "20            Announcement\n",
       "12                    Food\n",
       "9             Announcement\n",
       "Name: CustomName, dtype: object"
      ]
     },
     "execution_count": 4,
     "metadata": {},
     "output_type": "execute_result"
    }
   ],
   "source": [
    "get_ranked_topics()['CustomName']"
   ]
  },
  {
   "attachments": {},
   "cell_type": "markdown",
   "metadata": {},
   "source": [
    "# Fix topic over time graph"
   ]
  },
  {
   "cell_type": "code",
   "execution_count": 3,
   "metadata": {},
   "outputs": [],
   "source": [
    "from pages.topics.topics_data import get_topics_over_time,get_ranked_topics,get_topic_info,get_all_topics\n",
    "import plotly.graph_objs as go"
   ]
  },
  {
   "cell_type": "code",
   "execution_count": 25,
   "metadata": {},
   "outputs": [],
   "source": [
    "ranked_topics=get_ranked_topics()\n",
    "topic_over_time=get_topics_over_time(ranked_topics[:10]['Topic']).to_dict()"
   ]
  },
  {
   "cell_type": "code",
   "execution_count": 26,
   "metadata": {},
   "outputs": [],
   "source": [
    "og_settings = topic_over_time"
   ]
  },
  {
   "attachments": {},
   "cell_type": "markdown",
   "metadata": {},
   "source": [
    "## modify topic name"
   ]
  },
  {
   "cell_type": "code",
   "execution_count": 6,
   "metadata": {},
   "outputs": [],
   "source": [
    "ranked_topics=get_ranked_topics()\n",
    "topic_barchart=get_topics_over_time(ranked_topics[:10]['Topic']).to_dict()\n",
    "topics_info = get_topic_info()"
   ]
  },
  {
   "cell_type": "code",
   "execution_count": 12,
   "metadata": {},
   "outputs": [
    {
     "data": {
      "text/plain": [
       "3    2\n",
       "Name: Topic, dtype: int64"
      ]
     },
     "execution_count": 12,
     "metadata": {},
     "output_type": "execute_result"
    }
   ],
   "source": [
    "topics_info.query('Topic == 2')['Topic']"
   ]
  },
  {
   "cell_type": "code",
   "execution_count": 24,
   "metadata": {},
   "outputs": [],
   "source": [
    "for i, data in enumerate(topic_barchart[\"data\"]):\n",
    "    topic_id = int(data['name'].split(\"_\")[0])\n",
    "    topic_barchart[\"data\"][i]['name']=topics_info.query(f'Topic == {str(topic_id)}')['CustomName'].values[0]"
   ]
  },
  {
   "cell_type": "code",
   "execution_count": 25,
   "metadata": {},
   "outputs": [
    {
     "data": {
      "text/plain": [
       "['University Life',\n",
       " 'Convocation',\n",
       " 'Vaccination',\n",
       " 'Lecturers',\n",
       " 'T20/B40',\n",
       " 'MPP',\n",
       " 'Bumiputera Rights',\n",
       " 'Lecturer Controversy',\n",
       " 'Tuition Fee',\n",
       " \"Student's Death\"]"
      ]
     },
     "execution_count": 25,
     "metadata": {},
     "output_type": "execute_result"
    }
   ],
   "source": [
    "[data['name'] for data in topic_barchart['data']]"
   ]
  },
  {
   "cell_type": "code",
   "execution_count": 26,
   "metadata": {},
   "outputs": [
    {
     "data": {
      "application/vnd.plotly.v1+json": {
       "config": {
        "plotlyServerURL": "https://plot.ly"
       },
       "data": [
        {
         "hoverinfo": "text",
         "hovertext": [
          "<b>Topic 0</b><br>Words: lagu, zaman, kawan, nyanyi, rindu",
          "<b>Topic 0</b><br>Words: lagu, rindu, kawan, zaman, jalan",
          "<b>Topic 0</b><br>Words: lagu, kawan, zaman, rindu, segamat",
          "<b>Topic 0</b><br>Words: lagu, kawan, zaman, rindu, bukit",
          "<b>Topic 0</b><br>Words: lagu, kawan, rindu, zaman, nyanyi",
          "<b>Topic 0</b><br>Words: kawan, lagu, zaman, rindu, segamat",
          "<b>Topic 0</b><br>Words: lagu, kawan, rindu, nyanyi, zaman",
          "<b>Topic 0</b><br>Words: lagu, rindu, jalan, kawan, zaman",
          "<b>Topic 0</b><br>Words: lagu, kawan, jalan, persiaran, zaman",
          "<b>Topic 0</b><br>Words: lagu, kawan, zaman, pergi, jalan",
          "<b>Topic 0</b><br>Words: lagu, kawan, zaman, jalan, nyanyi",
          "<b>Topic 0</b><br>Words: jalan, kawan, nanti, lagu, persiaran",
          "<b>Topic 0</b><br>Words: lagu, kawan, zaman, jalan, rindu",
          "<b>Topic 0</b><br>Words: kawan, lagu, nyanyi, jalan, zaman",
          "<b>Topic 0</b><br>Words: lagu, kawan, zaman, nyanyi, jalan",
          "<b>Topic 0</b><br>Words: lagu, kawan, zaman, nyanyi, segamat",
          "<b>Topic 0</b><br>Words: lagu, kawan, zaman, jalan, rindu",
          "<b>Topic 0</b><br>Words: lagu, cod, koyamaan, melati, mawar",
          "<b>Topic 0</b><br>Words: zaman, lagu, kawan, air, rindu",
          "<b>Topic 0</b><br>Words: lagu, jalan, kawan, zaman, pergi"
         ],
         "marker": {
          "color": "#E69F00"
         },
         "mode": "lines",
         "name": "University Life",
         "type": "scatter",
         "x": [
          "2021-05-31T15:21:36.280000+00:00",
          "2021-06-19T04:52:10+00:00",
          "2021-07-07T09:38:36+00:00",
          "2021-07-25T14:25:02+00:00",
          "2021-08-12T19:11:28+00:00",
          "2021-08-30T23:57:54+00:00",
          "2021-09-18T04:44:20+00:00",
          "2021-10-06T09:30:46+00:00",
          "2021-10-24T14:17:12+00:00",
          "2021-11-11T19:03:38+00:00",
          "2021-11-29T23:50:04+00:00",
          "2021-12-18T04:36:30+00:00",
          "2022-01-05T09:22:56+00:00",
          "2022-01-23T14:09:22+00:00",
          "2022-02-10T18:55:48+00:00",
          "2022-02-28T23:42:14+00:00",
          "2022-03-19T04:28:40+00:00",
          "2022-04-06T09:15:06+00:00",
          "2022-04-24T14:01:32+00:00",
          "2022-05-12T18:47:58+00:00"
         ],
         "y": [
          202,
          103,
          268,
          103,
          141,
          189,
          118,
          131,
          89,
          104,
          92,
          77,
          83,
          82,
          76,
          138,
          295,
          77,
          59,
          70
         ]
        },
        {
         "hoverinfo": "text",
         "hovertext": [
          "<b>Topic 2</b><br>Words: konvo, convo, tarikh, convocation, letak",
          "<b>Topic 2</b><br>Words: konvo, convo, yuran, bayar, convocation",
          "<b>Topic 2</b><br>Words: convo, konvo, batch, rm170, yuran",
          "<b>Topic 2</b><br>Words: konvo, convo, photoshoot, tuntut, transkrip",
          "<b>Topic 2</b><br>Words: convo, konvo, delay, jubah, skrol",
          "<b>Topic 2</b><br>Words: konvo, convo, screen, tunggu, tangguh",
          "<b>Topic 2</b><br>Words: konvo, convo, convocation, skrol, batch",
          "<b>Topic 2</b><br>Words: konvo, convo, batch, convocation, start",
          "<b>Topic 2</b><br>Words: konvo, convo, batch, uni, screen",
          "<b>Topic 2</b><br>Words: convo, konvo, convocation, uni, batch",
          "<b>Topic 2</b><br>Words: convo, konvo, convocation, batch, screen",
          "<b>Topic 2</b><br>Words: konvo, convo, convocation, dh, ahhaa",
          "<b>Topic 2</b><br>Words: konvo, convo, takagi, angah, graduation",
          "<b>Topic 2</b><br>Words: konvo, convo, tarikh, tangguh, tunggu",
          "<b>Topic 2</b><br>Words: konvo, convo, tangguh, postpone, postponed",
          "<b>Topic 2</b><br>Words: konvo, convo, tangguh, uni, graduation",
          "<b>Topic 2</b><br>Words: konvo, convo, tangguh, uni, batch",
          "<b>Topic 2</b><br>Words: convo, konvo, convocation, cibaiiu, lazada4youth",
          "<b>Topic 2</b><br>Words: convo, konvo, jun, postponed, minute",
          "<b>Topic 2</b><br>Words: convo, konvo, batch, tunggu, convocation"
         ],
         "marker": {
          "color": "#56B4E9"
         },
         "mode": "lines",
         "name": "Convocation",
         "type": "scatter",
         "x": [
          "2021-05-31T15:21:36.280000+00:00",
          "2021-06-19T04:52:10+00:00",
          "2021-07-07T09:38:36+00:00",
          "2021-07-25T14:25:02+00:00",
          "2021-08-12T19:11:28+00:00",
          "2021-08-30T23:57:54+00:00",
          "2021-09-18T04:44:20+00:00",
          "2021-10-06T09:30:46+00:00",
          "2021-10-24T14:17:12+00:00",
          "2021-11-11T19:03:38+00:00",
          "2021-11-29T23:50:04+00:00",
          "2021-12-18T04:36:30+00:00",
          "2022-01-05T09:22:56+00:00",
          "2022-01-23T14:09:22+00:00",
          "2022-02-10T18:55:48+00:00",
          "2022-02-28T23:42:14+00:00",
          "2022-03-19T04:28:40+00:00",
          "2022-04-06T09:15:06+00:00",
          "2022-04-24T14:01:32+00:00",
          "2022-05-12T18:47:58+00:00"
         ],
         "y": [
          18,
          40,
          20,
          10,
          12,
          28,
          28,
          69,
          67,
          208,
          148,
          14,
          17,
          46,
          172,
          104,
          90,
          10,
          17,
          97
         ]
        },
        {
         "hoverinfo": "text",
         "hovertext": [
          "<b>Topic 3</b><br>Words: puncak, alam, ppv, vaksin, pemberian",
          "<b>Topic 3</b><br>Words: puncak, ppv, alam, vaksin, shah",
          "<b>Topic 3</b><br>Words: puncak, alam, ppv, vaksin, dewan",
          "<b>Topic 3</b><br>Words: puncak, alam, ppv, vaksin, bulah",
          "<b>Topic 3</b><br>Words: puncak, alam, ppv, vaksin, tangga",
          "<b>Topic 3</b><br>Words: puncak, alam, ppv, vaksin, bulah",
          "<b>Topic 3</b><br>Words: puncak, alam, ppv, tangga, hospital",
          "<b>Topic 3</b><br>Words: puncak, alam, ppv, perdana, bas",
          "<b>Topic 3</b><br>Words: puncak, alam, segi, perdana, ppv",
          "<b>Topic 3</b><br>Words: puncak, alam, bas, bulah, ppv",
          "<b>Topic 3</b><br>Words: puncak, alam, agong, dewan, datc",
          "<b>Topic 3</b><br>Words: puncak, alam, perdana, ppv, gpms",
          "<b>Topic 3</b><br>Words: puncak, alam, hospital, vaksin, universiti",
          "<b>Topic 3</b><br>Words: puncak, alam, ppv, bas, hospital",
          "<b>Topic 3</b><br>Words: puncak, alam, tangga, hospital, ppv",
          "<b>Topic 3</b><br>Words: puncak, alam, universiti, hospital, shah",
          "<b>Topic 3</b><br>Words: puncak, alam, bas, pmi, ppv",
          "<b>Topic 3</b><br>Words: alam, puncak, bangi, bulah, delivery",
          "<b>Topic 3</b><br>Words: puncak, alam, bas, bulah, segi",
          "<b>Topic 3</b><br>Words: puncak, alam, bas, sentral, rapid"
         ],
         "marker": {
          "color": "#009E73"
         },
         "mode": "lines",
         "name": "Vaccination",
         "type": "scatter",
         "x": [
          "2021-05-31T15:21:36.280000+00:00",
          "2021-06-19T04:52:10+00:00",
          "2021-07-07T09:38:36+00:00",
          "2021-07-25T14:25:02+00:00",
          "2021-08-12T19:11:28+00:00",
          "2021-08-30T23:57:54+00:00",
          "2021-09-18T04:44:20+00:00",
          "2021-10-06T09:30:46+00:00",
          "2021-10-24T14:17:12+00:00",
          "2021-11-11T19:03:38+00:00",
          "2021-11-29T23:50:04+00:00",
          "2021-12-18T04:36:30+00:00",
          "2022-01-05T09:22:56+00:00",
          "2022-01-23T14:09:22+00:00",
          "2022-02-10T18:55:48+00:00",
          "2022-02-28T23:42:14+00:00",
          "2022-03-19T04:28:40+00:00",
          "2022-04-06T09:15:06+00:00",
          "2022-04-24T14:01:32+00:00",
          "2022-05-12T18:47:58+00:00"
         ],
         "y": [
          144,
          76,
          142,
          82,
          52,
          78,
          42,
          49,
          50,
          34,
          31,
          37,
          18,
          25,
          28,
          44,
          70,
          70,
          54,
          49
         ]
        },
        {
         "hoverinfo": "text",
         "hovertext": [
          "<b>Topic 5</b><br>Words: lecturer, agak, siapa, tahu, student",
          "<b>Topic 5</b><br>Words: lecturer, kawad, srjk, agak, kaw",
          "<b>Topic 5</b><br>Words: lecturer, student, kes, kawad, lecturers",
          "<b>Topic 5</b><br>Words: lecturer, badminton, agak, baik, siapa",
          "<b>Topic 5</b><br>Words: lecturer, kaw, harap, student, awkward",
          "<b>Topic 5</b><br>Words: lecturer, alhamdulilah, nawa, agak, insyaallah",
          "<b>Topic 5</b><br>Words: lecturer, kawad, online, kelas, sepah",
          "<b>Topic 5</b><br>Words: lecturer, kawad, baik, teknikal, memperbaiki",
          "<b>Topic 5</b><br>Words: kawad, lecturer, online, penama, berdisiplin",
          "<b>Topic 5</b><br>Words: lecturer, harap, english, melebih, ibrahim",
          "<b>Topic 5</b><br>Words: lecturer, main, ppi, english, badminton",
          "<b>Topic 5</b><br>Words: lecturer, agak, alhamdulilah, tahu, badminton",
          "<b>Topic 5</b><br>Words: lecturer, babe, handwritten, juling, bomb",
          "<b>Topic 5</b><br>Words: lecturer, iler, tahu, lucy, akhir",
          "<b>Topic 5</b><br>Words: lecturer, kawad, pelajaran, tahu, cepat",
          "<b>Topic 5</b><br>Words: alhamdulilah, lecturer, kelas, baik, dekan",
          "<b>Topic 5</b><br>Words: lecturer, viral, student, baik, kes",
          "<b>Topic 5</b><br>Words: lecturer, siapa, jual, isb566, tac451",
          "<b>Topic 5</b><br>Words: lecturer, tvi, tahu, penah, keraih",
          "<b>Topic 5</b><br>Words: lecturer, kaw, tahu, kucing, fake"
         ],
         "marker": {
          "color": "#F0E442"
         },
         "mode": "lines",
         "name": "Lecturers",
         "type": "scatter",
         "x": [
          "2021-05-31T15:21:36.280000+00:00",
          "2021-06-19T04:52:10+00:00",
          "2021-07-07T09:38:36+00:00",
          "2021-07-25T14:25:02+00:00",
          "2021-08-12T19:11:28+00:00",
          "2021-08-30T23:57:54+00:00",
          "2021-09-18T04:44:20+00:00",
          "2021-10-06T09:30:46+00:00",
          "2021-10-24T14:17:12+00:00",
          "2021-11-11T19:03:38+00:00",
          "2021-11-29T23:50:04+00:00",
          "2021-12-18T04:36:30+00:00",
          "2022-01-05T09:22:56+00:00",
          "2022-01-23T14:09:22+00:00",
          "2022-02-10T18:55:48+00:00",
          "2022-02-28T23:42:14+00:00",
          "2022-03-19T04:28:40+00:00",
          "2022-04-06T09:15:06+00:00",
          "2022-04-24T14:01:32+00:00",
          "2022-05-12T18:47:58+00:00"
         ],
         "y": [
          52,
          15,
          132,
          24,
          29,
          39,
          13,
          38,
          36,
          30,
          14,
          30,
          9,
          13,
          13,
          26,
          462,
          25,
          13,
          19
         ]
        },
        {
         "hoverinfo": "text",
         "hovertext": [
          "<b>Topic 6</b><br>Words: sexual, harassment, b40, police, allegations",
          "<b>Topic 6</b><br>Words: b40, empathised, bm115, case, headquarters",
          "<b>Topic 6</b><br>Words: b40, anak, isolated, duduk, kabel",
          "<b>Topic 6</b><br>Words: duduk, lab, sibuk, dewan, b40",
          "<b>Topic 6</b><br>Words: b40, bumiputera, asb, t20, rm200k",
          "<b>Topic 6</b><br>Words: b40, m40, t20, golongan, mrsm",
          "<b>Topic 6</b><br>Words: b40, t20, golongan, m40, mara",
          "<b>Topic 6</b><br>Words: bilik, b40, t20, golongan, mengajar",
          "<b>Topic 6</b><br>Words: tolerance, harassment, sexual, b40, berleluasa",
          "<b>Topic 6</b><br>Words: keluarga, pendapatan, faedahnya, pengambilannya, kaum",
          "<b>Topic 6</b><br>Words: golongan, t20, sbp, korupsi, carikan",
          "<b>Topic 6</b><br>Words: b40, bumiputera, deb, anak, vip",
          "<b>Topic 6</b><br>Words: duduk, stress, b40, t20, golongan",
          "<b>Topic 6</b><br>Words: b40, t20, m40, bumi, anak",
          "<b>Topic 6</b><br>Words: b40, sexual, harassment, t20, duduk",
          "<b>Topic 6</b><br>Words: b40, u21, gender, t20, pointer",
          "<b>Topic 6</b><br>Words: b40, t20, golongan, mengajar, duduk",
          "<b>Topic 6</b><br>Words: b40, t20, golongan, m40, masuk",
          "<b>Topic 6</b><br>Words: b40, t20, anak, affordable, masuk",
          "<b>Topic 6</b><br>Words: b40, t20, paling, menyambut, duduk"
         ],
         "marker": {
          "color": "#D55E00"
         },
         "mode": "lines",
         "name": "T20/B40",
         "type": "scatter",
         "x": [
          "2021-05-31T15:21:36.280000+00:00",
          "2021-06-19T04:52:10+00:00",
          "2021-07-07T09:38:36+00:00",
          "2021-07-25T14:25:02+00:00",
          "2021-08-12T19:11:28+00:00",
          "2021-08-30T23:57:54+00:00",
          "2021-09-18T04:44:20+00:00",
          "2021-10-06T09:30:46+00:00",
          "2021-10-24T14:17:12+00:00",
          "2021-11-11T19:03:38+00:00",
          "2021-11-29T23:50:04+00:00",
          "2021-12-18T04:36:30+00:00",
          "2022-01-05T09:22:56+00:00",
          "2022-01-23T14:09:22+00:00",
          "2022-02-10T18:55:48+00:00",
          "2022-02-28T23:42:14+00:00",
          "2022-03-19T04:28:40+00:00",
          "2022-04-06T09:15:06+00:00",
          "2022-04-24T14:01:32+00:00",
          "2022-05-12T18:47:58+00:00"
         ],
         "y": [
          26,
          3,
          4,
          3,
          6,
          5,
          8,
          1,
          4,
          3,
          3,
          2,
          1,
          19,
          11,
          6,
          796,
          30,
          10,
          11
         ]
        },
        {
         "hoverinfo": "text",
         "hovertext": [
          "<b>Topic 7</b><br>Words: kejuruteraan, kasih, terima, mahasiswa, sesi",
          "<b>Topic 7</b><br>Words: perwakilan, kejuruteraan, kasih, terima, mahasiswa",
          "<b>Topic 7</b><br>Words: perwakilan, jepak, kasih, terima, jawatankuasa",
          "<b>Topic 7</b><br>Words: perwakilan, kasih, terima, cawangan, sesi",
          "<b>Topic 7</b><br>Words: perwakilan, kasih, sesi, terima, cawangan",
          "<b>Topic 7</b><br>Words: kasih, terima, sesi, perwakilan, cawangan",
          "<b>Topic 7</b><br>Words: kasih, terima, sesi, perwakilan, sekian",
          "<b>Topic 7</b><br>Words: kasih, terima, perwakilan, sesi, cawangan",
          "<b>Topic 7</b><br>Words: kasih, terima, sesi, perwakilan, sekian",
          "<b>Topic 7</b><br>Words: kasih, terima, perwakilan, sesi, sekian",
          "<b>Topic 7</b><br>Words: kasih, terima, perwakilan, majlis, cawangan",
          "<b>Topic 7</b><br>Words: kasih, terima, perwakilan, sesi, cawangan",
          "<b>Topic 7</b><br>Words: perwakilan, sesi, majlis, mahasiswa, kasih",
          "<b>Topic 7</b><br>Words: kasih, perwakilan, terima, mahasiswa, cawangan",
          "<b>Topic 7</b><br>Words: kasih, terima, perwakilan, sesi, mahasiswa",
          "<b>Topic 7</b><br>Words: kasih, perwakilan, terima, sesi, mahasiswa",
          "<b>Topic 7</b><br>Words: kasih, terima, perwakilan, sesi, cawangan",
          "<b>Topic 7</b><br>Words: dibaca, perwakilan, mahasiswa, sesi, cawangan",
          "<b>Topic 7</b><br>Words: perwakilan, sesi, dibaca, cawangan, majlis",
          "<b>Topic 7</b><br>Words: sesi, kasih, perwakilan, terima, mahasiswa"
         ],
         "marker": {
          "color": "#0072B2"
         },
         "mode": "lines",
         "name": "MPP",
         "type": "scatter",
         "x": [
          "2021-05-31T15:21:36.280000+00:00",
          "2021-06-19T04:52:10+00:00",
          "2021-07-07T09:38:36+00:00",
          "2021-07-25T14:25:02+00:00",
          "2021-08-12T19:11:28+00:00",
          "2021-08-30T23:57:54+00:00",
          "2021-09-18T04:44:20+00:00",
          "2021-10-06T09:30:46+00:00",
          "2021-10-24T14:17:12+00:00",
          "2021-11-11T19:03:38+00:00",
          "2021-11-29T23:50:04+00:00",
          "2021-12-18T04:36:30+00:00",
          "2022-01-05T09:22:56+00:00",
          "2022-01-23T14:09:22+00:00",
          "2022-02-10T18:55:48+00:00",
          "2022-02-28T23:42:14+00:00",
          "2022-03-19T04:28:40+00:00",
          "2022-04-06T09:15:06+00:00",
          "2022-04-24T14:01:32+00:00",
          "2022-05-12T18:47:58+00:00"
         ],
         "y": [
          46,
          23,
          75,
          42,
          24,
          108,
          37,
          78,
          32,
          36,
          38,
          63,
          30,
          44,
          35,
          70,
          70,
          43,
          24,
          27
         ]
        },
        {
         "hoverinfo": "text",
         "hovertext": [
          "<b>Topic 12</b><br>Words: melayu, bumiputera, rasuk, bahasa, pertikaikan",
          "<b>Topic 12</b><br>Words: melayu, bumiputera, hak, dap, bahasa",
          "<b>Topic 12</b><br>Words: melayu, bumiputera, hak, sekolah, bumi",
          "<b>Topic 12</b><br>Words: melayu, cina, bumiputera, hak, bahasa",
          "<b>Topic 12</b><br>Words: melayu, bumiputera, hak, cina, sekolah",
          "<b>Topic 12</b><br>Words: melayu, bahasa, cina, bumiputera, bumi",
          "<b>Topic 12</b><br>Words: melayu, bumiputera, bumi, hak, sekolah",
          "<b>Topic 12</b><br>Words: melayu, bumiputera, prakash, tombak, lubalang",
          "<b>Topic 12</b><br>Words: bahasa, melayu, inggeris, berbahasa, fasih",
          "<b>Topic 12</b><br>Words: melayu, bumiputera, bahasa, sekolah, kaum",
          "<b>Topic 12</b><br>Words: melayu, sekolah, kuota, kaum, bumiputera",
          "<b>Topic 12</b><br>Words: melayu, kah, bumi, sekolah, cina",
          "<b>Topic 12</b><br>Words: melayu, bahasa, pelindung, hak, arab",
          "<b>Topic 12</b><br>Words: melayu, sekolah, bumiputera, bumi, vernakular",
          "<b>Topic 12</b><br>Words: melayu, bumiputera, hak, cina, sekolah",
          "<b>Topic 12</b><br>Words: melayu, bahasa, bumiputera, bumi, inggeris",
          "<b>Topic 12</b><br>Words: melayu, bumiputera, hak, bumi, masuk",
          "<b>Topic 12</b><br>Words: melayu, bumiputera, hak, masuk, bangsa",
          "<b>Topic 12</b><br>Words: melayu, bumiputera, hak, cina, kaum",
          "<b>Topic 12</b><br>Words: melayu, kopra, pemurah, bumiputera, savage"
         ],
         "marker": {
          "color": "#CC79A7"
         },
         "mode": "lines",
         "name": "Bumiputera Rights",
         "type": "scatter",
         "x": [
          "2021-05-31T15:21:36.280000+00:00",
          "2021-06-19T04:52:10+00:00",
          "2021-07-07T09:38:36+00:00",
          "2021-07-25T14:25:02+00:00",
          "2021-08-12T19:11:28+00:00",
          "2021-08-30T23:57:54+00:00",
          "2021-09-18T04:44:20+00:00",
          "2021-10-06T09:30:46+00:00",
          "2021-10-24T14:17:12+00:00",
          "2021-11-11T19:03:38+00:00",
          "2021-11-29T23:50:04+00:00",
          "2021-12-18T04:36:30+00:00",
          "2022-01-05T09:22:56+00:00",
          "2022-01-23T14:09:22+00:00",
          "2022-02-10T18:55:48+00:00",
          "2022-02-28T23:42:14+00:00",
          "2022-03-19T04:28:40+00:00",
          "2022-04-06T09:15:06+00:00",
          "2022-04-24T14:01:32+00:00",
          "2022-05-12T18:47:58+00:00"
         ],
         "y": [
          12,
          12,
          55,
          12,
          60,
          28,
          34,
          5,
          12,
          32,
          21,
          11,
          8,
          152,
          12,
          9,
          153,
          15,
          46,
          3
         ]
        },
        {
         "hoverinfo": "text",
         "hovertext": [
          "<b>Topic 15</b><br>Words: dakwaan, seksual, gangguan, tindakan, pensyarah",
          "<b>Topic 15</b><br>Words: pelajar, pensyarah, interna, isytiharkan, masuknya",
          "<b>Topic 15</b><br>Words: tindakan, pelajar, pensyarah, ambil, isu",
          "<b>Topic 15</b><br>Words: tular, positif, sosial, berita, muji",
          "<b>Topic 15</b><br>Words: positif, bersikap, meninggalkan, pengguna, lisan",
          "<b>Topic 15</b><br>Words: terbaik, kenyataan, tindakan, isu, pelajar",
          "<b>Topic 15</b><br>Words: dizahirkan, undang, berita, bantuan, pensyarah",
          "<b>Topic 15</b><br>Words: tindakan, sektor, pelajar, isu, teknikal",
          "<b>Topic 15</b><br>Words: positif, pelajar, asia, rankings, covid",
          "<b>Topic 15</b><br>Words: pelajar, covid, tindakan, program, positif",
          "<b>Topic 15</b><br>Words: rankings, kedudukan, penarafan, greenmetric, university",
          "<b>Topic 15</b><br>Words: pelajar, tindakan, staf, pensyarah, ambil",
          "<b>Topic 15</b><br>Words: diberikeutamaan, memadam, rumi, menyamai, mundur",
          "<b>Topic 15</b><br>Words: kes, pensyarah, mendiamkan, tular, pelajar",
          "<b>Topic 15</b><br>Words: bersedia, kenyataan, senior, mac, staff",
          "<b>Topic 15</b><br>Words: positif, keperluan, kebarangkalian, berlakunya, bersikap",
          "<b>Topic 15</b><br>Words: tindakan, pensyarah, pelajar, tular, ambil",
          "<b>Topic 15</b><br>Words: pensyarah, membendung, penularan, terlupa, tular",
          "<b>Topic 15</b><br>Words: polis, kelab, buang, pensyarah, bantuan",
          "<b>Topic 15</b><br>Words: barat, diracun, pelik, university, selangortv"
         ],
         "marker": {
          "color": "#E69F00"
         },
         "mode": "lines",
         "name": "Lecturer Controversy",
         "type": "scatter",
         "x": [
          "2021-05-31T15:21:36.280000+00:00",
          "2021-06-19T04:52:10+00:00",
          "2021-07-07T09:38:36+00:00",
          "2021-07-25T14:25:02+00:00",
          "2021-08-12T19:11:28+00:00",
          "2021-08-30T23:57:54+00:00",
          "2021-09-18T04:44:20+00:00",
          "2021-10-06T09:30:46+00:00",
          "2021-10-24T14:17:12+00:00",
          "2021-11-11T19:03:38+00:00",
          "2021-11-29T23:50:04+00:00",
          "2021-12-18T04:36:30+00:00",
          "2022-01-05T09:22:56+00:00",
          "2022-01-23T14:09:22+00:00",
          "2022-02-10T18:55:48+00:00",
          "2022-02-28T23:42:14+00:00",
          "2022-03-19T04:28:40+00:00",
          "2022-04-06T09:15:06+00:00",
          "2022-04-24T14:01:32+00:00",
          "2022-05-12T18:47:58+00:00"
         ],
         "y": [
          42,
          8,
          44,
          5,
          15,
          14,
          11,
          8,
          46,
          22,
          16,
          15,
          4,
          8,
          3,
          3,
          338,
          4,
          7,
          6
         ]
        },
        {
         "hoverinfo": "text",
         "hovertext": [
          "<b>Topic 17</b><br>Words: yuran, murah, duit, bayar, refund",
          "<b>Topic 17</b><br>Words: yuran, duit, murah, bayar, refund",
          "<b>Topic 17</b><br>Words: yuran, bayar, duit, murah, refund",
          "<b>Topic 17</b><br>Words: bank, islam, yuran, kad, bayar",
          "<b>Topic 17</b><br>Words: yuran, bank, islam, duit, bayar",
          "<b>Topic 17</b><br>Words: yuran, duit, murah, pin, bayar",
          "<b>Topic 17</b><br>Words: yuran, duit, bayar, bank, murah",
          "<b>Topic 17</b><br>Words: yuran, duit, refund, bayar, harga",
          "<b>Topic 17</b><br>Words: yuran, bayar, refund, duit, bank",
          "<b>Topic 17</b><br>Words: yuran, refund, duit, bank, bayar",
          "<b>Topic 17</b><br>Words: refund, yuran, duit, bank, islam",
          "<b>Topic 17</b><br>Words: refund, yuran, duit, islamic, bayar",
          "<b>Topic 17</b><br>Words: yuran, bayar, bank, refund, turnitin",
          "<b>Topic 17</b><br>Words: yuran, murah, bank, refund, duit",
          "<b>Topic 17</b><br>Words: yuran, bayar, refund, duit, menyusahkan",
          "<b>Topic 17</b><br>Words: yuran, bayar, duit, menyusahkan, refund",
          "<b>Topic 17</b><br>Words: yuran, duit, murah, bayar, refund",
          "<b>Topic 17</b><br>Words: yuran, bayar, duit, kad, bank",
          "<b>Topic 17</b><br>Words: yuran, bayar, duit, croc, apedehal",
          "<b>Topic 17</b><br>Words: yuran, bank, bayar, murah, dipercepatkan"
         ],
         "marker": {
          "color": "#56B4E9"
         },
         "mode": "lines",
         "name": "Tuition Fee",
         "type": "scatter",
         "x": [
          "2021-05-31T15:21:36.280000+00:00",
          "2021-06-19T04:52:10+00:00",
          "2021-07-07T09:38:36+00:00",
          "2021-07-25T14:25:02+00:00",
          "2021-08-12T19:11:28+00:00",
          "2021-08-30T23:57:54+00:00",
          "2021-09-18T04:44:20+00:00",
          "2021-10-06T09:30:46+00:00",
          "2021-10-24T14:17:12+00:00",
          "2021-11-11T19:03:38+00:00",
          "2021-11-29T23:50:04+00:00",
          "2021-12-18T04:36:30+00:00",
          "2022-01-05T09:22:56+00:00",
          "2022-01-23T14:09:22+00:00",
          "2022-02-10T18:55:48+00:00",
          "2022-02-28T23:42:14+00:00",
          "2022-03-19T04:28:40+00:00",
          "2022-04-06T09:15:06+00:00",
          "2022-04-24T14:01:32+00:00",
          "2022-05-12T18:47:58+00:00"
         ],
         "y": [
          16,
          22,
          37,
          10,
          10,
          35,
          40,
          15,
          32,
          36,
          102,
          35,
          10,
          31,
          14,
          13,
          112,
          10,
          10,
          7
         ]
        },
        {
         "hoverinfo": "text",
         "hovertext": [
          "<b>Topic 18</b><br>Words: semoga, dimurahkan, dunia, dana, veri",
          "<b>Topic 18</b><br>Words: semoga, rezeki, dimurahkan, meninggal, dipermudahkan",
          "<b>Topic 18</b><br>Words: meninggal, semoga, takziah, arwah, fatihah",
          "<b>Topic 18</b><br>Words: semoga, hijrah, dicucuri, rahmat, meninggal",
          "<b>Topic 18</b><br>Words: semoga, meninggal, rezeki, aib, fatihah",
          "<b>Topic 18</b><br>Words: semoga, rezeki, chut, dimurahkan, meninggal",
          "<b>Topic 18</b><br>Words: semoga, pagi, uncle, meninggal, mustaza",
          "<b>Topic 18</b><br>Words: semoga, arwah, takziah, ditempatkan, moga",
          "<b>Topic 18</b><br>Words: semoga, moga, ditempatkan, meninggal, interpersonalist",
          "<b>Topic 18</b><br>Words: semoga, faten, interpersonalist, moga, saudari",
          "<b>Topic 18</b><br>Words: semoga, sihat, interpersonalist, rezeki, meninggal",
          "<b>Topic 18</b><br>Words: semoga, takziah, rezeki, meninggal, dipermudahkan",
          "<b>Topic 18</b><br>Words: semoga, minggu, rezeki, kuliah, giveaway",
          "<b>Topic 18</b><br>Words: semoga, minggu, meninggal, nabi, takziah",
          "<b>Topic 18</b><br>Words: moga, pagi, amin, semoga, rugi",
          "<b>Topic 18</b><br>Words: semoga, alhamdulillah, arwah, rezeki, meninggal",
          "<b>Topic 18</b><br>Words: hati, rezeki, semoga, meninggal, pagi",
          "<b>Topic 18</b><br>Words: semoga, rezeki, dimurahkan, amin, meninggal",
          "<b>Topic 18</b><br>Words: semoga, rezeki, dimurahkan, titipkan, dihulur",
          "<b>Topic 18</b><br>Words: dirawat, april, rumahnya, kebakaran, rapi"
         ],
         "marker": {
          "color": "#009E73"
         },
         "mode": "lines",
         "name": "Student's Death",
         "type": "scatter",
         "x": [
          "2021-05-31T15:21:36.280000+00:00",
          "2021-06-19T04:52:10+00:00",
          "2021-07-07T09:38:36+00:00",
          "2021-07-25T14:25:02+00:00",
          "2021-08-12T19:11:28+00:00",
          "2021-08-30T23:57:54+00:00",
          "2021-09-18T04:44:20+00:00",
          "2021-10-06T09:30:46+00:00",
          "2021-10-24T14:17:12+00:00",
          "2021-11-11T19:03:38+00:00",
          "2021-11-29T23:50:04+00:00",
          "2021-12-18T04:36:30+00:00",
          "2022-01-05T09:22:56+00:00",
          "2022-01-23T14:09:22+00:00",
          "2022-02-10T18:55:48+00:00",
          "2022-02-28T23:42:14+00:00",
          "2022-03-19T04:28:40+00:00",
          "2022-04-06T09:15:06+00:00",
          "2022-04-24T14:01:32+00:00",
          "2022-05-12T18:47:58+00:00"
         ],
         "y": [
          17,
          17,
          281,
          21,
          15,
          45,
          12,
          18,
          14,
          8,
          15,
          17,
          8,
          7,
          6,
          27,
          35,
          11,
          6,
          2
         ]
        }
       ],
       "layout": {
        "height": 450,
        "hoverlabel": {
         "bgcolor": "white",
         "font": {
          "family": "Rockwell",
          "size": 16
         }
        },
        "legend": {
         "title": {
          "text": "<b>Global Topic Representation"
         }
        },
        "template": {
         "data": {
          "bar": [
           {
            "error_x": {
             "color": "rgb(36,36,36)"
            },
            "error_y": {
             "color": "rgb(36,36,36)"
            },
            "marker": {
             "line": {
              "color": "white",
              "width": 0.5
             },
             "pattern": {
              "fillmode": "overlay",
              "size": 10,
              "solidity": 0.2
             }
            },
            "type": "bar"
           }
          ],
          "barpolar": [
           {
            "marker": {
             "line": {
              "color": "white",
              "width": 0.5
             },
             "pattern": {
              "fillmode": "overlay",
              "size": 10,
              "solidity": 0.2
             }
            },
            "type": "barpolar"
           }
          ],
          "carpet": [
           {
            "aaxis": {
             "endlinecolor": "rgb(36,36,36)",
             "gridcolor": "white",
             "linecolor": "white",
             "minorgridcolor": "white",
             "startlinecolor": "rgb(36,36,36)"
            },
            "baxis": {
             "endlinecolor": "rgb(36,36,36)",
             "gridcolor": "white",
             "linecolor": "white",
             "minorgridcolor": "white",
             "startlinecolor": "rgb(36,36,36)"
            },
            "type": "carpet"
           }
          ],
          "choropleth": [
           {
            "colorbar": {
             "outlinewidth": 1,
             "tickcolor": "rgb(36,36,36)",
             "ticks": "outside"
            },
            "type": "choropleth"
           }
          ],
          "contour": [
           {
            "colorbar": {
             "outlinewidth": 1,
             "tickcolor": "rgb(36,36,36)",
             "ticks": "outside"
            },
            "colorscale": [
             [
              0,
              "#440154"
             ],
             [
              0.1111111111111111,
              "#482878"
             ],
             [
              0.2222222222222222,
              "#3e4989"
             ],
             [
              0.3333333333333333,
              "#31688e"
             ],
             [
              0.4444444444444444,
              "#26828e"
             ],
             [
              0.5555555555555556,
              "#1f9e89"
             ],
             [
              0.6666666666666666,
              "#35b779"
             ],
             [
              0.7777777777777778,
              "#6ece58"
             ],
             [
              0.8888888888888888,
              "#b5de2b"
             ],
             [
              1,
              "#fde725"
             ]
            ],
            "type": "contour"
           }
          ],
          "contourcarpet": [
           {
            "colorbar": {
             "outlinewidth": 1,
             "tickcolor": "rgb(36,36,36)",
             "ticks": "outside"
            },
            "type": "contourcarpet"
           }
          ],
          "heatmap": [
           {
            "colorbar": {
             "outlinewidth": 1,
             "tickcolor": "rgb(36,36,36)",
             "ticks": "outside"
            },
            "colorscale": [
             [
              0,
              "#440154"
             ],
             [
              0.1111111111111111,
              "#482878"
             ],
             [
              0.2222222222222222,
              "#3e4989"
             ],
             [
              0.3333333333333333,
              "#31688e"
             ],
             [
              0.4444444444444444,
              "#26828e"
             ],
             [
              0.5555555555555556,
              "#1f9e89"
             ],
             [
              0.6666666666666666,
              "#35b779"
             ],
             [
              0.7777777777777778,
              "#6ece58"
             ],
             [
              0.8888888888888888,
              "#b5de2b"
             ],
             [
              1,
              "#fde725"
             ]
            ],
            "type": "heatmap"
           }
          ],
          "heatmapgl": [
           {
            "colorbar": {
             "outlinewidth": 1,
             "tickcolor": "rgb(36,36,36)",
             "ticks": "outside"
            },
            "colorscale": [
             [
              0,
              "#440154"
             ],
             [
              0.1111111111111111,
              "#482878"
             ],
             [
              0.2222222222222222,
              "#3e4989"
             ],
             [
              0.3333333333333333,
              "#31688e"
             ],
             [
              0.4444444444444444,
              "#26828e"
             ],
             [
              0.5555555555555556,
              "#1f9e89"
             ],
             [
              0.6666666666666666,
              "#35b779"
             ],
             [
              0.7777777777777778,
              "#6ece58"
             ],
             [
              0.8888888888888888,
              "#b5de2b"
             ],
             [
              1,
              "#fde725"
             ]
            ],
            "type": "heatmapgl"
           }
          ],
          "histogram": [
           {
            "marker": {
             "line": {
              "color": "white",
              "width": 0.6
             }
            },
            "type": "histogram"
           }
          ],
          "histogram2d": [
           {
            "colorbar": {
             "outlinewidth": 1,
             "tickcolor": "rgb(36,36,36)",
             "ticks": "outside"
            },
            "colorscale": [
             [
              0,
              "#440154"
             ],
             [
              0.1111111111111111,
              "#482878"
             ],
             [
              0.2222222222222222,
              "#3e4989"
             ],
             [
              0.3333333333333333,
              "#31688e"
             ],
             [
              0.4444444444444444,
              "#26828e"
             ],
             [
              0.5555555555555556,
              "#1f9e89"
             ],
             [
              0.6666666666666666,
              "#35b779"
             ],
             [
              0.7777777777777778,
              "#6ece58"
             ],
             [
              0.8888888888888888,
              "#b5de2b"
             ],
             [
              1,
              "#fde725"
             ]
            ],
            "type": "histogram2d"
           }
          ],
          "histogram2dcontour": [
           {
            "colorbar": {
             "outlinewidth": 1,
             "tickcolor": "rgb(36,36,36)",
             "ticks": "outside"
            },
            "colorscale": [
             [
              0,
              "#440154"
             ],
             [
              0.1111111111111111,
              "#482878"
             ],
             [
              0.2222222222222222,
              "#3e4989"
             ],
             [
              0.3333333333333333,
              "#31688e"
             ],
             [
              0.4444444444444444,
              "#26828e"
             ],
             [
              0.5555555555555556,
              "#1f9e89"
             ],
             [
              0.6666666666666666,
              "#35b779"
             ],
             [
              0.7777777777777778,
              "#6ece58"
             ],
             [
              0.8888888888888888,
              "#b5de2b"
             ],
             [
              1,
              "#fde725"
             ]
            ],
            "type": "histogram2dcontour"
           }
          ],
          "mesh3d": [
           {
            "colorbar": {
             "outlinewidth": 1,
             "tickcolor": "rgb(36,36,36)",
             "ticks": "outside"
            },
            "type": "mesh3d"
           }
          ],
          "parcoords": [
           {
            "line": {
             "colorbar": {
              "outlinewidth": 1,
              "tickcolor": "rgb(36,36,36)",
              "ticks": "outside"
             }
            },
            "type": "parcoords"
           }
          ],
          "pie": [
           {
            "automargin": true,
            "type": "pie"
           }
          ],
          "scatter": [
           {
            "marker": {
             "colorbar": {
              "outlinewidth": 1,
              "tickcolor": "rgb(36,36,36)",
              "ticks": "outside"
             }
            },
            "type": "scatter"
           }
          ],
          "scatter3d": [
           {
            "line": {
             "colorbar": {
              "outlinewidth": 1,
              "tickcolor": "rgb(36,36,36)",
              "ticks": "outside"
             }
            },
            "marker": {
             "colorbar": {
              "outlinewidth": 1,
              "tickcolor": "rgb(36,36,36)",
              "ticks": "outside"
             }
            },
            "type": "scatter3d"
           }
          ],
          "scattercarpet": [
           {
            "marker": {
             "colorbar": {
              "outlinewidth": 1,
              "tickcolor": "rgb(36,36,36)",
              "ticks": "outside"
             }
            },
            "type": "scattercarpet"
           }
          ],
          "scattergeo": [
           {
            "marker": {
             "colorbar": {
              "outlinewidth": 1,
              "tickcolor": "rgb(36,36,36)",
              "ticks": "outside"
             }
            },
            "type": "scattergeo"
           }
          ],
          "scattergl": [
           {
            "marker": {
             "colorbar": {
              "outlinewidth": 1,
              "tickcolor": "rgb(36,36,36)",
              "ticks": "outside"
             }
            },
            "type": "scattergl"
           }
          ],
          "scattermapbox": [
           {
            "marker": {
             "colorbar": {
              "outlinewidth": 1,
              "tickcolor": "rgb(36,36,36)",
              "ticks": "outside"
             }
            },
            "type": "scattermapbox"
           }
          ],
          "scatterpolar": [
           {
            "marker": {
             "colorbar": {
              "outlinewidth": 1,
              "tickcolor": "rgb(36,36,36)",
              "ticks": "outside"
             }
            },
            "type": "scatterpolar"
           }
          ],
          "scatterpolargl": [
           {
            "marker": {
             "colorbar": {
              "outlinewidth": 1,
              "tickcolor": "rgb(36,36,36)",
              "ticks": "outside"
             }
            },
            "type": "scatterpolargl"
           }
          ],
          "scatterternary": [
           {
            "marker": {
             "colorbar": {
              "outlinewidth": 1,
              "tickcolor": "rgb(36,36,36)",
              "ticks": "outside"
             }
            },
            "type": "scatterternary"
           }
          ],
          "surface": [
           {
            "colorbar": {
             "outlinewidth": 1,
             "tickcolor": "rgb(36,36,36)",
             "ticks": "outside"
            },
            "colorscale": [
             [
              0,
              "#440154"
             ],
             [
              0.1111111111111111,
              "#482878"
             ],
             [
              0.2222222222222222,
              "#3e4989"
             ],
             [
              0.3333333333333333,
              "#31688e"
             ],
             [
              0.4444444444444444,
              "#26828e"
             ],
             [
              0.5555555555555556,
              "#1f9e89"
             ],
             [
              0.6666666666666666,
              "#35b779"
             ],
             [
              0.7777777777777778,
              "#6ece58"
             ],
             [
              0.8888888888888888,
              "#b5de2b"
             ],
             [
              1,
              "#fde725"
             ]
            ],
            "type": "surface"
           }
          ],
          "table": [
           {
            "cells": {
             "fill": {
              "color": "rgb(237,237,237)"
             },
             "line": {
              "color": "white"
             }
            },
            "header": {
             "fill": {
              "color": "rgb(217,217,217)"
             },
             "line": {
              "color": "white"
             }
            },
            "type": "table"
           }
          ]
         },
         "layout": {
          "annotationdefaults": {
           "arrowhead": 0,
           "arrowwidth": 1
          },
          "autotypenumbers": "strict",
          "coloraxis": {
           "colorbar": {
            "outlinewidth": 1,
            "tickcolor": "rgb(36,36,36)",
            "ticks": "outside"
           }
          },
          "colorscale": {
           "diverging": [
            [
             0,
             "rgb(103,0,31)"
            ],
            [
             0.1,
             "rgb(178,24,43)"
            ],
            [
             0.2,
             "rgb(214,96,77)"
            ],
            [
             0.3,
             "rgb(244,165,130)"
            ],
            [
             0.4,
             "rgb(253,219,199)"
            ],
            [
             0.5,
             "rgb(247,247,247)"
            ],
            [
             0.6,
             "rgb(209,229,240)"
            ],
            [
             0.7,
             "rgb(146,197,222)"
            ],
            [
             0.8,
             "rgb(67,147,195)"
            ],
            [
             0.9,
             "rgb(33,102,172)"
            ],
            [
             1,
             "rgb(5,48,97)"
            ]
           ],
           "sequential": [
            [
             0,
             "#440154"
            ],
            [
             0.1111111111111111,
             "#482878"
            ],
            [
             0.2222222222222222,
             "#3e4989"
            ],
            [
             0.3333333333333333,
             "#31688e"
            ],
            [
             0.4444444444444444,
             "#26828e"
            ],
            [
             0.5555555555555556,
             "#1f9e89"
            ],
            [
             0.6666666666666666,
             "#35b779"
            ],
            [
             0.7777777777777778,
             "#6ece58"
            ],
            [
             0.8888888888888888,
             "#b5de2b"
            ],
            [
             1,
             "#fde725"
            ]
           ],
           "sequentialminus": [
            [
             0,
             "#440154"
            ],
            [
             0.1111111111111111,
             "#482878"
            ],
            [
             0.2222222222222222,
             "#3e4989"
            ],
            [
             0.3333333333333333,
             "#31688e"
            ],
            [
             0.4444444444444444,
             "#26828e"
            ],
            [
             0.5555555555555556,
             "#1f9e89"
            ],
            [
             0.6666666666666666,
             "#35b779"
            ],
            [
             0.7777777777777778,
             "#6ece58"
            ],
            [
             0.8888888888888888,
             "#b5de2b"
            ],
            [
             1,
             "#fde725"
            ]
           ]
          },
          "colorway": [
           "#1F77B4",
           "#FF7F0E",
           "#2CA02C",
           "#D62728",
           "#9467BD",
           "#8C564B",
           "#E377C2",
           "#7F7F7F",
           "#BCBD22",
           "#17BECF"
          ],
          "font": {
           "color": "rgb(36,36,36)"
          },
          "geo": {
           "bgcolor": "white",
           "lakecolor": "white",
           "landcolor": "white",
           "showlakes": true,
           "showland": true,
           "subunitcolor": "white"
          },
          "hoverlabel": {
           "align": "left"
          },
          "hovermode": "closest",
          "mapbox": {
           "style": "light"
          },
          "paper_bgcolor": "white",
          "plot_bgcolor": "white",
          "polar": {
           "angularaxis": {
            "gridcolor": "rgb(232,232,232)",
            "linecolor": "rgb(36,36,36)",
            "showgrid": false,
            "showline": true,
            "ticks": "outside"
           },
           "bgcolor": "white",
           "radialaxis": {
            "gridcolor": "rgb(232,232,232)",
            "linecolor": "rgb(36,36,36)",
            "showgrid": false,
            "showline": true,
            "ticks": "outside"
           }
          },
          "scene": {
           "xaxis": {
            "backgroundcolor": "white",
            "gridcolor": "rgb(232,232,232)",
            "gridwidth": 2,
            "linecolor": "rgb(36,36,36)",
            "showbackground": true,
            "showgrid": false,
            "showline": true,
            "ticks": "outside",
            "zeroline": false,
            "zerolinecolor": "rgb(36,36,36)"
           },
           "yaxis": {
            "backgroundcolor": "white",
            "gridcolor": "rgb(232,232,232)",
            "gridwidth": 2,
            "linecolor": "rgb(36,36,36)",
            "showbackground": true,
            "showgrid": false,
            "showline": true,
            "ticks": "outside",
            "zeroline": false,
            "zerolinecolor": "rgb(36,36,36)"
           },
           "zaxis": {
            "backgroundcolor": "white",
            "gridcolor": "rgb(232,232,232)",
            "gridwidth": 2,
            "linecolor": "rgb(36,36,36)",
            "showbackground": true,
            "showgrid": false,
            "showline": true,
            "ticks": "outside",
            "zeroline": false,
            "zerolinecolor": "rgb(36,36,36)"
           }
          },
          "shapedefaults": {
           "fillcolor": "black",
           "line": {
            "width": 0
           },
           "opacity": 0.3
          },
          "ternary": {
           "aaxis": {
            "gridcolor": "rgb(232,232,232)",
            "linecolor": "rgb(36,36,36)",
            "showgrid": false,
            "showline": true,
            "ticks": "outside"
           },
           "baxis": {
            "gridcolor": "rgb(232,232,232)",
            "linecolor": "rgb(36,36,36)",
            "showgrid": false,
            "showline": true,
            "ticks": "outside"
           },
           "bgcolor": "white",
           "caxis": {
            "gridcolor": "rgb(232,232,232)",
            "linecolor": "rgb(36,36,36)",
            "showgrid": false,
            "showline": true,
            "ticks": "outside"
           }
          },
          "title": {
           "x": 0.05
          },
          "xaxis": {
           "automargin": true,
           "gridcolor": "rgb(232,232,232)",
           "linecolor": "rgb(36,36,36)",
           "showgrid": false,
           "showline": true,
           "ticks": "outside",
           "title": {
            "standoff": 15
           },
           "zeroline": false,
           "zerolinecolor": "rgb(36,36,36)"
          },
          "yaxis": {
           "automargin": true,
           "gridcolor": "rgb(232,232,232)",
           "linecolor": "rgb(36,36,36)",
           "showgrid": false,
           "showline": true,
           "ticks": "outside",
           "title": {
            "standoff": 15
           },
           "zeroline": false,
           "zerolinecolor": "rgb(36,36,36)"
          }
         }
        },
        "title": {
         "font": {
          "color": "Black",
          "size": 22
         },
         "text": "<b>Topics over Time",
         "x": 0.4,
         "xanchor": "center",
         "y": 0.95,
         "yanchor": "top"
        },
        "width": 1250,
        "xaxis": {
         "showgrid": true
        },
        "yaxis": {
         "showgrid": true,
         "title": {
          "text": "Frequency"
         }
        }
       }
      }
     },
     "metadata": {},
     "output_type": "display_data"
    }
   ],
   "source": [
    "go.Figure(topic_barchart)"
   ]
  },
  {
   "cell_type": "code",
   "execution_count": 6,
   "metadata": {},
   "outputs": [
    {
     "data": {
      "text/plain": [
       "'2_konvo_convo_tangguh_convocation'"
      ]
     },
     "execution_count": 6,
     "metadata": {},
     "output_type": "execute_result"
    }
   ],
   "source": [
    "topic_barchart.to_dict()[\"data\"][1]['name']"
   ]
  },
  {
   "cell_type": "code",
   "execution_count": 8,
   "metadata": {},
   "outputs": [
    {
     "data": {
      "text/html": [
       "<div>\n",
       "<style scoped>\n",
       "    .dataframe tbody tr th:only-of-type {\n",
       "        vertical-align: middle;\n",
       "    }\n",
       "\n",
       "    .dataframe tbody tr th {\n",
       "        vertical-align: top;\n",
       "    }\n",
       "\n",
       "    .dataframe thead th {\n",
       "        text-align: right;\n",
       "    }\n",
       "</style>\n",
       "<table border=\"1\" class=\"dataframe\">\n",
       "  <thead>\n",
       "    <tr style=\"text-align: right;\">\n",
       "      <th></th>\n",
       "      <th>Count</th>\n",
       "      <th>CustomName</th>\n",
       "      <th>Name</th>\n",
       "      <th>Topic</th>\n",
       "    </tr>\n",
       "  </thead>\n",
       "  <tbody>\n",
       "    <tr>\n",
       "      <th>0</th>\n",
       "      <td>70259</td>\n",
       "      <td>-1_student_masuk_budak_pelajar</td>\n",
       "      <td>-1_student_masuk_budak_pelajar</td>\n",
       "      <td>-1</td>\n",
       "    </tr>\n",
       "    <tr>\n",
       "      <th>1</th>\n",
       "      <td>2497</td>\n",
       "      <td>University Life</td>\n",
       "      <td>0_lagu_kawan_zaman_jalan</td>\n",
       "      <td>0</td>\n",
       "    </tr>\n",
       "    <tr>\n",
       "      <th>2</th>\n",
       "      <td>1448</td>\n",
       "      <td>News</td>\n",
       "      <td>1_naib_canselor_mohd_prof</td>\n",
       "      <td>1</td>\n",
       "    </tr>\n",
       "    <tr>\n",
       "      <th>3</th>\n",
       "      <td>1215</td>\n",
       "      <td>Convocation</td>\n",
       "      <td>2_konvo_convo_tangguh_convocation</td>\n",
       "      <td>2</td>\n",
       "    </tr>\n",
       "    <tr>\n",
       "      <th>4</th>\n",
       "      <td>1175</td>\n",
       "      <td>Vaccination</td>\n",
       "      <td>3_puncak_alam_ppv_vaksin</td>\n",
       "      <td>3</td>\n",
       "    </tr>\n",
       "    <tr>\n",
       "      <th>5</th>\n",
       "      <td>1058</td>\n",
       "      <td>Football</td>\n",
       "      <td>4_liga_perlawanan_stadium_perak</td>\n",
       "      <td>4</td>\n",
       "    </tr>\n",
       "    <tr>\n",
       "      <th>6</th>\n",
       "      <td>1032</td>\n",
       "      <td>Lecturers</td>\n",
       "      <td>5_lecturer_viral_student_kawad</td>\n",
       "      <td>5</td>\n",
       "    </tr>\n",
       "    <tr>\n",
       "      <th>7</th>\n",
       "      <td>952</td>\n",
       "      <td>T20/B40</td>\n",
       "      <td>6_b40_t20_golongan_mengajar</td>\n",
       "      <td>6</td>\n",
       "    </tr>\n",
       "    <tr>\n",
       "      <th>8</th>\n",
       "      <td>945</td>\n",
       "      <td>MPP</td>\n",
       "      <td>7_kasih_terima_perwakilan_sesi</td>\n",
       "      <td>7</td>\n",
       "    </tr>\n",
       "    <tr>\n",
       "      <th>9</th>\n",
       "      <td>903</td>\n",
       "      <td>Announcement</td>\n",
       "      <td>8_sarawak_ptar_youtube_fb</td>\n",
       "      <td>8</td>\n",
       "    </tr>\n",
       "    <tr>\n",
       "      <th>10</th>\n",
       "      <td>824</td>\n",
       "      <td>Variety</td>\n",
       "      <td>9_lendu_tengok_cakap_jumpa</td>\n",
       "      <td>9</td>\n",
       "    </tr>\n",
       "    <tr>\n",
       "      <th>11</th>\n",
       "      <td>757</td>\n",
       "      <td>Shah Alam</td>\n",
       "      <td>10_shah_alam_heha_alamak</td>\n",
       "      <td>10</td>\n",
       "    </tr>\n",
       "    <tr>\n",
       "      <th>12</th>\n",
       "      <td>698</td>\n",
       "      <td>Food</td>\n",
       "      <td>11_nasi_makan_sedap_ayam</td>\n",
       "      <td>11</td>\n",
       "    </tr>\n",
       "    <tr>\n",
       "      <th>13</th>\n",
       "      <td>692</td>\n",
       "      <td>Bumiputera Rights</td>\n",
       "      <td>12_melayu_bumiputera_hak_bumi</td>\n",
       "      <td>12</td>\n",
       "    </tr>\n",
       "    <tr>\n",
       "      <th>14</th>\n",
       "      <td>683</td>\n",
       "      <td>Short Break</td>\n",
       "      <td>13_cuti_bertenang_tempoh_week</td>\n",
       "      <td>13</td>\n",
       "    </tr>\n",
       "    <tr>\n",
       "      <th>15</th>\n",
       "      <td>629</td>\n",
       "      <td>Entering UiTM</td>\n",
       "      <td>14_masuk_kabel_surprise_semerahan</td>\n",
       "      <td>14</td>\n",
       "    </tr>\n",
       "    <tr>\n",
       "      <th>16</th>\n",
       "      <td>619</td>\n",
       "      <td>Lecturer Controversy</td>\n",
       "      <td>15_tindakan_pensyarah_pelajar_tular</td>\n",
       "      <td>15</td>\n",
       "    </tr>\n",
       "    <tr>\n",
       "      <th>17</th>\n",
       "      <td>597</td>\n",
       "      <td>Appreciation</td>\n",
       "      <td>16_dihatiku_hmm_hatiku_tahniah</td>\n",
       "      <td>16</td>\n",
       "    </tr>\n",
       "    <tr>\n",
       "      <th>18</th>\n",
       "      <td>597</td>\n",
       "      <td>Tuition Fee</td>\n",
       "      <td>17_yuran_duit_refund_bayar</td>\n",
       "      <td>17</td>\n",
       "    </tr>\n",
       "    <tr>\n",
       "      <th>19</th>\n",
       "      <td>582</td>\n",
       "      <td>Student's Death</td>\n",
       "      <td>18_semoga_meninggal_takziah_arwah</td>\n",
       "      <td>18</td>\n",
       "    </tr>\n",
       "    <tr>\n",
       "      <th>20</th>\n",
       "      <td>574</td>\n",
       "      <td>Announcement</td>\n",
       "      <td>19_youtuba_live_tarikh_webinar</td>\n",
       "      <td>19</td>\n",
       "    </tr>\n",
       "  </tbody>\n",
       "</table>\n",
       "</div>"
      ],
      "text/plain": [
       "    Count                      CustomName  \\\n",
       "0   70259  -1_student_masuk_budak_pelajar   \n",
       "1    2497                 University Life   \n",
       "2    1448                            News   \n",
       "3    1215                     Convocation   \n",
       "4    1175                     Vaccination   \n",
       "5    1058                        Football   \n",
       "6    1032                       Lecturers   \n",
       "7     952                         T20/B40   \n",
       "8     945                             MPP   \n",
       "9     903                    Announcement   \n",
       "10    824                         Variety   \n",
       "11    757                       Shah Alam   \n",
       "12    698                            Food   \n",
       "13    692               Bumiputera Rights   \n",
       "14    683                     Short Break   \n",
       "15    629                   Entering UiTM   \n",
       "16    619            Lecturer Controversy   \n",
       "17    597                    Appreciation   \n",
       "18    597                     Tuition Fee   \n",
       "19    582                 Student's Death   \n",
       "20    574                    Announcement   \n",
       "\n",
       "                                   Name  Topic  \n",
       "0        -1_student_masuk_budak_pelajar     -1  \n",
       "1              0_lagu_kawan_zaman_jalan      0  \n",
       "2             1_naib_canselor_mohd_prof      1  \n",
       "3     2_konvo_convo_tangguh_convocation      2  \n",
       "4              3_puncak_alam_ppv_vaksin      3  \n",
       "5       4_liga_perlawanan_stadium_perak      4  \n",
       "6        5_lecturer_viral_student_kawad      5  \n",
       "7           6_b40_t20_golongan_mengajar      6  \n",
       "8        7_kasih_terima_perwakilan_sesi      7  \n",
       "9             8_sarawak_ptar_youtube_fb      8  \n",
       "10           9_lendu_tengok_cakap_jumpa      9  \n",
       "11             10_shah_alam_heha_alamak     10  \n",
       "12             11_nasi_makan_sedap_ayam     11  \n",
       "13        12_melayu_bumiputera_hak_bumi     12  \n",
       "14        13_cuti_bertenang_tempoh_week     13  \n",
       "15    14_masuk_kabel_surprise_semerahan     14  \n",
       "16  15_tindakan_pensyarah_pelajar_tular     15  \n",
       "17       16_dihatiku_hmm_hatiku_tahniah     16  \n",
       "18           17_yuran_duit_refund_bayar     17  \n",
       "19    18_semoga_meninggal_takziah_arwah     18  \n",
       "20       19_youtuba_live_tarikh_webinar     19  "
      ]
     },
     "execution_count": 8,
     "metadata": {},
     "output_type": "execute_result"
    }
   ],
   "source": [
    "get_topic_info()"
   ]
  },
  {
   "attachments": {},
   "cell_type": "markdown",
   "metadata": {},
   "source": [
    "## modify legend"
   ]
  },
  {
   "cell_type": "code",
   "execution_count": 27,
   "metadata": {},
   "outputs": [],
   "source": [
    "topic_over_time = og_settings"
   ]
  },
  {
   "cell_type": "code",
   "execution_count": 19,
   "metadata": {},
   "outputs": [
    {
     "data": {
      "text/plain": [
       "dict_keys(['height', 'hoverlabel', 'legend', 'template', 'title', 'width', 'xaxis', 'yaxis'])"
      ]
     },
     "execution_count": 19,
     "metadata": {},
     "output_type": "execute_result"
    }
   ],
   "source": [
    "topic_over_time['layout'].keys()"
   ]
  },
  {
   "cell_type": "code",
   "execution_count": 31,
   "metadata": {},
   "outputs": [
    {
     "data": {
      "text/plain": [
       "{'title': {'text': 'Topic'}}"
      ]
     },
     "execution_count": 31,
     "metadata": {},
     "output_type": "execute_result"
    }
   ],
   "source": [
    "topic_over_time['layout']['legend']"
   ]
  },
  {
   "cell_type": "code",
   "execution_count": 28,
   "metadata": {},
   "outputs": [],
   "source": [
    "topic_over_time['layout']['width']\n",
    "topic_over_time['layout']['width'] = 950"
   ]
  },
  {
   "cell_type": "code",
   "execution_count": 29,
   "metadata": {},
   "outputs": [],
   "source": [
    "topic_over_time['layout']['legend']['title']['text'] = 'Topic'\n",
    "# topic_over_time['layout']['legend']['title']['font_color'] = \"#f4f4f4\""
   ]
  },
  {
   "cell_type": "code",
   "execution_count": 32,
   "metadata": {},
   "outputs": [
    {
     "data": {
      "application/vnd.plotly.v1+json": {
       "config": {
        "plotlyServerURL": "https://plot.ly"
       },
       "data": [
        {
         "hoverinfo": "text",
         "hovertext": [
          "<b>Topic 0</b><br>Words: lagu, zaman, kawan, nyanyi, rindu",
          "<b>Topic 0</b><br>Words: lagu, rindu, kawan, zaman, jalan",
          "<b>Topic 0</b><br>Words: lagu, kawan, zaman, rindu, segamat",
          "<b>Topic 0</b><br>Words: lagu, kawan, zaman, rindu, bukit",
          "<b>Topic 0</b><br>Words: lagu, kawan, rindu, zaman, nyanyi",
          "<b>Topic 0</b><br>Words: kawan, lagu, zaman, rindu, segamat",
          "<b>Topic 0</b><br>Words: lagu, kawan, rindu, nyanyi, zaman",
          "<b>Topic 0</b><br>Words: lagu, rindu, jalan, kawan, zaman",
          "<b>Topic 0</b><br>Words: lagu, kawan, jalan, persiaran, zaman",
          "<b>Topic 0</b><br>Words: lagu, kawan, zaman, pergi, jalan",
          "<b>Topic 0</b><br>Words: lagu, kawan, zaman, jalan, nyanyi",
          "<b>Topic 0</b><br>Words: jalan, kawan, nanti, lagu, persiaran",
          "<b>Topic 0</b><br>Words: lagu, kawan, zaman, jalan, rindu",
          "<b>Topic 0</b><br>Words: kawan, lagu, nyanyi, jalan, zaman",
          "<b>Topic 0</b><br>Words: lagu, kawan, zaman, nyanyi, jalan",
          "<b>Topic 0</b><br>Words: lagu, kawan, zaman, nyanyi, segamat",
          "<b>Topic 0</b><br>Words: lagu, kawan, zaman, jalan, rindu",
          "<b>Topic 0</b><br>Words: lagu, cod, koyamaan, melati, mawar",
          "<b>Topic 0</b><br>Words: zaman, lagu, kawan, air, rindu",
          "<b>Topic 0</b><br>Words: lagu, jalan, kawan, zaman, pergi"
         ],
         "marker": {
          "color": "#E69F00"
         },
         "mode": "lines",
         "name": "University Life",
         "type": "scatter",
         "x": [
          "2021-05-31T15:21:36.280000+00:00",
          "2021-06-19T04:52:10+00:00",
          "2021-07-07T09:38:36+00:00",
          "2021-07-25T14:25:02+00:00",
          "2021-08-12T19:11:28+00:00",
          "2021-08-30T23:57:54+00:00",
          "2021-09-18T04:44:20+00:00",
          "2021-10-06T09:30:46+00:00",
          "2021-10-24T14:17:12+00:00",
          "2021-11-11T19:03:38+00:00",
          "2021-11-29T23:50:04+00:00",
          "2021-12-18T04:36:30+00:00",
          "2022-01-05T09:22:56+00:00",
          "2022-01-23T14:09:22+00:00",
          "2022-02-10T18:55:48+00:00",
          "2022-02-28T23:42:14+00:00",
          "2022-03-19T04:28:40+00:00",
          "2022-04-06T09:15:06+00:00",
          "2022-04-24T14:01:32+00:00",
          "2022-05-12T18:47:58+00:00"
         ],
         "y": [
          202,
          103,
          268,
          103,
          141,
          189,
          118,
          131,
          89,
          104,
          92,
          77,
          83,
          82,
          76,
          138,
          295,
          77,
          59,
          70
         ]
        },
        {
         "hoverinfo": "text",
         "hovertext": [
          "<b>Topic 2</b><br>Words: konvo, convo, tarikh, convocation, letak",
          "<b>Topic 2</b><br>Words: konvo, convo, yuran, bayar, convocation",
          "<b>Topic 2</b><br>Words: convo, konvo, batch, rm170, yuran",
          "<b>Topic 2</b><br>Words: konvo, convo, photoshoot, tuntut, transkrip",
          "<b>Topic 2</b><br>Words: convo, konvo, delay, jubah, skrol",
          "<b>Topic 2</b><br>Words: konvo, convo, screen, tunggu, tangguh",
          "<b>Topic 2</b><br>Words: konvo, convo, convocation, skrol, batch",
          "<b>Topic 2</b><br>Words: konvo, convo, batch, convocation, start",
          "<b>Topic 2</b><br>Words: konvo, convo, batch, uni, screen",
          "<b>Topic 2</b><br>Words: convo, konvo, convocation, uni, batch",
          "<b>Topic 2</b><br>Words: convo, konvo, convocation, batch, screen",
          "<b>Topic 2</b><br>Words: konvo, convo, convocation, dh, ahhaa",
          "<b>Topic 2</b><br>Words: konvo, convo, takagi, angah, graduation",
          "<b>Topic 2</b><br>Words: konvo, convo, tarikh, tangguh, tunggu",
          "<b>Topic 2</b><br>Words: konvo, convo, tangguh, postpone, postponed",
          "<b>Topic 2</b><br>Words: konvo, convo, tangguh, uni, graduation",
          "<b>Topic 2</b><br>Words: konvo, convo, tangguh, uni, batch",
          "<b>Topic 2</b><br>Words: convo, konvo, convocation, cibaiiu, lazada4youth",
          "<b>Topic 2</b><br>Words: convo, konvo, jun, postponed, minute",
          "<b>Topic 2</b><br>Words: convo, konvo, batch, tunggu, convocation"
         ],
         "marker": {
          "color": "#56B4E9"
         },
         "mode": "lines",
         "name": "Convocation",
         "type": "scatter",
         "x": [
          "2021-05-31T15:21:36.280000+00:00",
          "2021-06-19T04:52:10+00:00",
          "2021-07-07T09:38:36+00:00",
          "2021-07-25T14:25:02+00:00",
          "2021-08-12T19:11:28+00:00",
          "2021-08-30T23:57:54+00:00",
          "2021-09-18T04:44:20+00:00",
          "2021-10-06T09:30:46+00:00",
          "2021-10-24T14:17:12+00:00",
          "2021-11-11T19:03:38+00:00",
          "2021-11-29T23:50:04+00:00",
          "2021-12-18T04:36:30+00:00",
          "2022-01-05T09:22:56+00:00",
          "2022-01-23T14:09:22+00:00",
          "2022-02-10T18:55:48+00:00",
          "2022-02-28T23:42:14+00:00",
          "2022-03-19T04:28:40+00:00",
          "2022-04-06T09:15:06+00:00",
          "2022-04-24T14:01:32+00:00",
          "2022-05-12T18:47:58+00:00"
         ],
         "y": [
          18,
          40,
          20,
          10,
          12,
          28,
          28,
          69,
          67,
          208,
          148,
          14,
          17,
          46,
          172,
          104,
          90,
          10,
          17,
          97
         ]
        },
        {
         "hoverinfo": "text",
         "hovertext": [
          "<b>Topic 3</b><br>Words: puncak, alam, ppv, vaksin, pemberian",
          "<b>Topic 3</b><br>Words: puncak, ppv, alam, vaksin, shah",
          "<b>Topic 3</b><br>Words: puncak, alam, ppv, vaksin, dewan",
          "<b>Topic 3</b><br>Words: puncak, alam, ppv, vaksin, bulah",
          "<b>Topic 3</b><br>Words: puncak, alam, ppv, vaksin, tangga",
          "<b>Topic 3</b><br>Words: puncak, alam, ppv, vaksin, bulah",
          "<b>Topic 3</b><br>Words: puncak, alam, ppv, tangga, hospital",
          "<b>Topic 3</b><br>Words: puncak, alam, ppv, perdana, bas",
          "<b>Topic 3</b><br>Words: puncak, alam, segi, perdana, ppv",
          "<b>Topic 3</b><br>Words: puncak, alam, bas, bulah, ppv",
          "<b>Topic 3</b><br>Words: puncak, alam, agong, dewan, datc",
          "<b>Topic 3</b><br>Words: puncak, alam, perdana, ppv, gpms",
          "<b>Topic 3</b><br>Words: puncak, alam, hospital, vaksin, universiti",
          "<b>Topic 3</b><br>Words: puncak, alam, ppv, bas, hospital",
          "<b>Topic 3</b><br>Words: puncak, alam, tangga, hospital, ppv",
          "<b>Topic 3</b><br>Words: puncak, alam, universiti, hospital, shah",
          "<b>Topic 3</b><br>Words: puncak, alam, bas, pmi, ppv",
          "<b>Topic 3</b><br>Words: alam, puncak, bangi, bulah, delivery",
          "<b>Topic 3</b><br>Words: puncak, alam, bas, bulah, segi",
          "<b>Topic 3</b><br>Words: puncak, alam, bas, sentral, rapid"
         ],
         "marker": {
          "color": "#009E73"
         },
         "mode": "lines",
         "name": "Vaccination",
         "type": "scatter",
         "x": [
          "2021-05-31T15:21:36.280000+00:00",
          "2021-06-19T04:52:10+00:00",
          "2021-07-07T09:38:36+00:00",
          "2021-07-25T14:25:02+00:00",
          "2021-08-12T19:11:28+00:00",
          "2021-08-30T23:57:54+00:00",
          "2021-09-18T04:44:20+00:00",
          "2021-10-06T09:30:46+00:00",
          "2021-10-24T14:17:12+00:00",
          "2021-11-11T19:03:38+00:00",
          "2021-11-29T23:50:04+00:00",
          "2021-12-18T04:36:30+00:00",
          "2022-01-05T09:22:56+00:00",
          "2022-01-23T14:09:22+00:00",
          "2022-02-10T18:55:48+00:00",
          "2022-02-28T23:42:14+00:00",
          "2022-03-19T04:28:40+00:00",
          "2022-04-06T09:15:06+00:00",
          "2022-04-24T14:01:32+00:00",
          "2022-05-12T18:47:58+00:00"
         ],
         "y": [
          144,
          76,
          142,
          82,
          52,
          78,
          42,
          49,
          50,
          34,
          31,
          37,
          18,
          25,
          28,
          44,
          70,
          70,
          54,
          49
         ]
        },
        {
         "hoverinfo": "text",
         "hovertext": [
          "<b>Topic 5</b><br>Words: lecturer, agak, siapa, tahu, student",
          "<b>Topic 5</b><br>Words: lecturer, kawad, srjk, agak, kaw",
          "<b>Topic 5</b><br>Words: lecturer, student, kes, kawad, lecturers",
          "<b>Topic 5</b><br>Words: lecturer, badminton, agak, baik, siapa",
          "<b>Topic 5</b><br>Words: lecturer, kaw, harap, student, awkward",
          "<b>Topic 5</b><br>Words: lecturer, alhamdulilah, nawa, agak, insyaallah",
          "<b>Topic 5</b><br>Words: lecturer, kawad, online, kelas, sepah",
          "<b>Topic 5</b><br>Words: lecturer, kawad, baik, teknikal, memperbaiki",
          "<b>Topic 5</b><br>Words: kawad, lecturer, online, penama, berdisiplin",
          "<b>Topic 5</b><br>Words: lecturer, harap, english, melebih, ibrahim",
          "<b>Topic 5</b><br>Words: lecturer, main, ppi, english, badminton",
          "<b>Topic 5</b><br>Words: lecturer, agak, alhamdulilah, tahu, badminton",
          "<b>Topic 5</b><br>Words: lecturer, babe, handwritten, juling, bomb",
          "<b>Topic 5</b><br>Words: lecturer, iler, tahu, lucy, akhir",
          "<b>Topic 5</b><br>Words: lecturer, kawad, pelajaran, tahu, cepat",
          "<b>Topic 5</b><br>Words: alhamdulilah, lecturer, kelas, baik, dekan",
          "<b>Topic 5</b><br>Words: lecturer, viral, student, baik, kes",
          "<b>Topic 5</b><br>Words: lecturer, siapa, jual, isb566, tac451",
          "<b>Topic 5</b><br>Words: lecturer, tvi, tahu, penah, keraih",
          "<b>Topic 5</b><br>Words: lecturer, kaw, tahu, kucing, fake"
         ],
         "marker": {
          "color": "#F0E442"
         },
         "mode": "lines",
         "name": "Lecturers",
         "type": "scatter",
         "x": [
          "2021-05-31T15:21:36.280000+00:00",
          "2021-06-19T04:52:10+00:00",
          "2021-07-07T09:38:36+00:00",
          "2021-07-25T14:25:02+00:00",
          "2021-08-12T19:11:28+00:00",
          "2021-08-30T23:57:54+00:00",
          "2021-09-18T04:44:20+00:00",
          "2021-10-06T09:30:46+00:00",
          "2021-10-24T14:17:12+00:00",
          "2021-11-11T19:03:38+00:00",
          "2021-11-29T23:50:04+00:00",
          "2021-12-18T04:36:30+00:00",
          "2022-01-05T09:22:56+00:00",
          "2022-01-23T14:09:22+00:00",
          "2022-02-10T18:55:48+00:00",
          "2022-02-28T23:42:14+00:00",
          "2022-03-19T04:28:40+00:00",
          "2022-04-06T09:15:06+00:00",
          "2022-04-24T14:01:32+00:00",
          "2022-05-12T18:47:58+00:00"
         ],
         "y": [
          52,
          15,
          132,
          24,
          29,
          39,
          13,
          38,
          36,
          30,
          14,
          30,
          9,
          13,
          13,
          26,
          462,
          25,
          13,
          19
         ]
        },
        {
         "hoverinfo": "text",
         "hovertext": [
          "<b>Topic 6</b><br>Words: sexual, harassment, b40, police, allegations",
          "<b>Topic 6</b><br>Words: b40, empathised, bm115, case, headquarters",
          "<b>Topic 6</b><br>Words: b40, anak, isolated, duduk, kabel",
          "<b>Topic 6</b><br>Words: duduk, lab, sibuk, dewan, b40",
          "<b>Topic 6</b><br>Words: b40, bumiputera, asb, t20, rm200k",
          "<b>Topic 6</b><br>Words: b40, m40, t20, golongan, mrsm",
          "<b>Topic 6</b><br>Words: b40, t20, golongan, m40, mara",
          "<b>Topic 6</b><br>Words: bilik, b40, t20, golongan, mengajar",
          "<b>Topic 6</b><br>Words: tolerance, harassment, sexual, b40, berleluasa",
          "<b>Topic 6</b><br>Words: keluarga, pendapatan, faedahnya, pengambilannya, kaum",
          "<b>Topic 6</b><br>Words: golongan, t20, sbp, korupsi, carikan",
          "<b>Topic 6</b><br>Words: b40, bumiputera, deb, anak, vip",
          "<b>Topic 6</b><br>Words: duduk, stress, b40, t20, golongan",
          "<b>Topic 6</b><br>Words: b40, t20, m40, bumi, anak",
          "<b>Topic 6</b><br>Words: b40, sexual, harassment, t20, duduk",
          "<b>Topic 6</b><br>Words: b40, u21, gender, t20, pointer",
          "<b>Topic 6</b><br>Words: b40, t20, golongan, mengajar, duduk",
          "<b>Topic 6</b><br>Words: b40, t20, golongan, m40, masuk",
          "<b>Topic 6</b><br>Words: b40, t20, anak, affordable, masuk",
          "<b>Topic 6</b><br>Words: b40, t20, paling, menyambut, duduk"
         ],
         "marker": {
          "color": "#D55E00"
         },
         "mode": "lines",
         "name": "T20/B40",
         "type": "scatter",
         "x": [
          "2021-05-31T15:21:36.280000+00:00",
          "2021-06-19T04:52:10+00:00",
          "2021-07-07T09:38:36+00:00",
          "2021-07-25T14:25:02+00:00",
          "2021-08-12T19:11:28+00:00",
          "2021-08-30T23:57:54+00:00",
          "2021-09-18T04:44:20+00:00",
          "2021-10-06T09:30:46+00:00",
          "2021-10-24T14:17:12+00:00",
          "2021-11-11T19:03:38+00:00",
          "2021-11-29T23:50:04+00:00",
          "2021-12-18T04:36:30+00:00",
          "2022-01-05T09:22:56+00:00",
          "2022-01-23T14:09:22+00:00",
          "2022-02-10T18:55:48+00:00",
          "2022-02-28T23:42:14+00:00",
          "2022-03-19T04:28:40+00:00",
          "2022-04-06T09:15:06+00:00",
          "2022-04-24T14:01:32+00:00",
          "2022-05-12T18:47:58+00:00"
         ],
         "y": [
          26,
          3,
          4,
          3,
          6,
          5,
          8,
          1,
          4,
          3,
          3,
          2,
          1,
          19,
          11,
          6,
          796,
          30,
          10,
          11
         ]
        },
        {
         "hoverinfo": "text",
         "hovertext": [
          "<b>Topic 7</b><br>Words: kejuruteraan, kasih, terima, mahasiswa, sesi",
          "<b>Topic 7</b><br>Words: perwakilan, kejuruteraan, kasih, terima, mahasiswa",
          "<b>Topic 7</b><br>Words: perwakilan, jepak, kasih, terima, jawatankuasa",
          "<b>Topic 7</b><br>Words: perwakilan, kasih, terima, cawangan, sesi",
          "<b>Topic 7</b><br>Words: perwakilan, kasih, sesi, terima, cawangan",
          "<b>Topic 7</b><br>Words: kasih, terima, sesi, perwakilan, cawangan",
          "<b>Topic 7</b><br>Words: kasih, terima, sesi, perwakilan, sekian",
          "<b>Topic 7</b><br>Words: kasih, terima, perwakilan, sesi, cawangan",
          "<b>Topic 7</b><br>Words: kasih, terima, sesi, perwakilan, sekian",
          "<b>Topic 7</b><br>Words: kasih, terima, perwakilan, sesi, sekian",
          "<b>Topic 7</b><br>Words: kasih, terima, perwakilan, majlis, cawangan",
          "<b>Topic 7</b><br>Words: kasih, terima, perwakilan, sesi, cawangan",
          "<b>Topic 7</b><br>Words: perwakilan, sesi, majlis, mahasiswa, kasih",
          "<b>Topic 7</b><br>Words: kasih, perwakilan, terima, mahasiswa, cawangan",
          "<b>Topic 7</b><br>Words: kasih, terima, perwakilan, sesi, mahasiswa",
          "<b>Topic 7</b><br>Words: kasih, perwakilan, terima, sesi, mahasiswa",
          "<b>Topic 7</b><br>Words: kasih, terima, perwakilan, sesi, cawangan",
          "<b>Topic 7</b><br>Words: dibaca, perwakilan, mahasiswa, sesi, cawangan",
          "<b>Topic 7</b><br>Words: perwakilan, sesi, dibaca, cawangan, majlis",
          "<b>Topic 7</b><br>Words: sesi, kasih, perwakilan, terima, mahasiswa"
         ],
         "marker": {
          "color": "#0072B2"
         },
         "mode": "lines",
         "name": "MPP",
         "type": "scatter",
         "x": [
          "2021-05-31T15:21:36.280000+00:00",
          "2021-06-19T04:52:10+00:00",
          "2021-07-07T09:38:36+00:00",
          "2021-07-25T14:25:02+00:00",
          "2021-08-12T19:11:28+00:00",
          "2021-08-30T23:57:54+00:00",
          "2021-09-18T04:44:20+00:00",
          "2021-10-06T09:30:46+00:00",
          "2021-10-24T14:17:12+00:00",
          "2021-11-11T19:03:38+00:00",
          "2021-11-29T23:50:04+00:00",
          "2021-12-18T04:36:30+00:00",
          "2022-01-05T09:22:56+00:00",
          "2022-01-23T14:09:22+00:00",
          "2022-02-10T18:55:48+00:00",
          "2022-02-28T23:42:14+00:00",
          "2022-03-19T04:28:40+00:00",
          "2022-04-06T09:15:06+00:00",
          "2022-04-24T14:01:32+00:00",
          "2022-05-12T18:47:58+00:00"
         ],
         "y": [
          46,
          23,
          75,
          42,
          24,
          108,
          37,
          78,
          32,
          36,
          38,
          63,
          30,
          44,
          35,
          70,
          70,
          43,
          24,
          27
         ]
        },
        {
         "hoverinfo": "text",
         "hovertext": [
          "<b>Topic 12</b><br>Words: melayu, bumiputera, rasuk, bahasa, pertikaikan",
          "<b>Topic 12</b><br>Words: melayu, bumiputera, hak, dap, bahasa",
          "<b>Topic 12</b><br>Words: melayu, bumiputera, hak, sekolah, bumi",
          "<b>Topic 12</b><br>Words: melayu, cina, bumiputera, hak, bahasa",
          "<b>Topic 12</b><br>Words: melayu, bumiputera, hak, cina, sekolah",
          "<b>Topic 12</b><br>Words: melayu, bahasa, cina, bumiputera, bumi",
          "<b>Topic 12</b><br>Words: melayu, bumiputera, bumi, hak, sekolah",
          "<b>Topic 12</b><br>Words: melayu, bumiputera, prakash, tombak, lubalang",
          "<b>Topic 12</b><br>Words: bahasa, melayu, inggeris, berbahasa, fasih",
          "<b>Topic 12</b><br>Words: melayu, bumiputera, bahasa, sekolah, kaum",
          "<b>Topic 12</b><br>Words: melayu, sekolah, kuota, kaum, bumiputera",
          "<b>Topic 12</b><br>Words: melayu, kah, bumi, sekolah, cina",
          "<b>Topic 12</b><br>Words: melayu, bahasa, pelindung, hak, arab",
          "<b>Topic 12</b><br>Words: melayu, sekolah, bumiputera, bumi, vernakular",
          "<b>Topic 12</b><br>Words: melayu, bumiputera, hak, cina, sekolah",
          "<b>Topic 12</b><br>Words: melayu, bahasa, bumiputera, bumi, inggeris",
          "<b>Topic 12</b><br>Words: melayu, bumiputera, hak, bumi, masuk",
          "<b>Topic 12</b><br>Words: melayu, bumiputera, hak, masuk, bangsa",
          "<b>Topic 12</b><br>Words: melayu, bumiputera, hak, cina, kaum",
          "<b>Topic 12</b><br>Words: melayu, kopra, pemurah, bumiputera, savage"
         ],
         "marker": {
          "color": "#CC79A7"
         },
         "mode": "lines",
         "name": "Bumiputera Rights",
         "type": "scatter",
         "x": [
          "2021-05-31T15:21:36.280000+00:00",
          "2021-06-19T04:52:10+00:00",
          "2021-07-07T09:38:36+00:00",
          "2021-07-25T14:25:02+00:00",
          "2021-08-12T19:11:28+00:00",
          "2021-08-30T23:57:54+00:00",
          "2021-09-18T04:44:20+00:00",
          "2021-10-06T09:30:46+00:00",
          "2021-10-24T14:17:12+00:00",
          "2021-11-11T19:03:38+00:00",
          "2021-11-29T23:50:04+00:00",
          "2021-12-18T04:36:30+00:00",
          "2022-01-05T09:22:56+00:00",
          "2022-01-23T14:09:22+00:00",
          "2022-02-10T18:55:48+00:00",
          "2022-02-28T23:42:14+00:00",
          "2022-03-19T04:28:40+00:00",
          "2022-04-06T09:15:06+00:00",
          "2022-04-24T14:01:32+00:00",
          "2022-05-12T18:47:58+00:00"
         ],
         "y": [
          12,
          12,
          55,
          12,
          60,
          28,
          34,
          5,
          12,
          32,
          21,
          11,
          8,
          152,
          12,
          9,
          153,
          15,
          46,
          3
         ]
        },
        {
         "hoverinfo": "text",
         "hovertext": [
          "<b>Topic 15</b><br>Words: dakwaan, seksual, gangguan, tindakan, pensyarah",
          "<b>Topic 15</b><br>Words: pelajar, pensyarah, interna, isytiharkan, masuknya",
          "<b>Topic 15</b><br>Words: tindakan, pelajar, pensyarah, ambil, isu",
          "<b>Topic 15</b><br>Words: tular, positif, sosial, berita, muji",
          "<b>Topic 15</b><br>Words: positif, bersikap, meninggalkan, pengguna, lisan",
          "<b>Topic 15</b><br>Words: terbaik, kenyataan, tindakan, isu, pelajar",
          "<b>Topic 15</b><br>Words: dizahirkan, undang, berita, bantuan, pensyarah",
          "<b>Topic 15</b><br>Words: tindakan, sektor, pelajar, isu, teknikal",
          "<b>Topic 15</b><br>Words: positif, pelajar, asia, rankings, covid",
          "<b>Topic 15</b><br>Words: pelajar, covid, tindakan, program, positif",
          "<b>Topic 15</b><br>Words: rankings, kedudukan, penarafan, greenmetric, university",
          "<b>Topic 15</b><br>Words: pelajar, tindakan, staf, pensyarah, ambil",
          "<b>Topic 15</b><br>Words: diberikeutamaan, memadam, rumi, menyamai, mundur",
          "<b>Topic 15</b><br>Words: kes, pensyarah, mendiamkan, tular, pelajar",
          "<b>Topic 15</b><br>Words: bersedia, kenyataan, senior, mac, staff",
          "<b>Topic 15</b><br>Words: positif, keperluan, kebarangkalian, berlakunya, bersikap",
          "<b>Topic 15</b><br>Words: tindakan, pensyarah, pelajar, tular, ambil",
          "<b>Topic 15</b><br>Words: pensyarah, membendung, penularan, terlupa, tular",
          "<b>Topic 15</b><br>Words: polis, kelab, buang, pensyarah, bantuan",
          "<b>Topic 15</b><br>Words: barat, diracun, pelik, university, selangortv"
         ],
         "marker": {
          "color": "#E69F00"
         },
         "mode": "lines",
         "name": "Lecturer Controversy",
         "type": "scatter",
         "x": [
          "2021-05-31T15:21:36.280000+00:00",
          "2021-06-19T04:52:10+00:00",
          "2021-07-07T09:38:36+00:00",
          "2021-07-25T14:25:02+00:00",
          "2021-08-12T19:11:28+00:00",
          "2021-08-30T23:57:54+00:00",
          "2021-09-18T04:44:20+00:00",
          "2021-10-06T09:30:46+00:00",
          "2021-10-24T14:17:12+00:00",
          "2021-11-11T19:03:38+00:00",
          "2021-11-29T23:50:04+00:00",
          "2021-12-18T04:36:30+00:00",
          "2022-01-05T09:22:56+00:00",
          "2022-01-23T14:09:22+00:00",
          "2022-02-10T18:55:48+00:00",
          "2022-02-28T23:42:14+00:00",
          "2022-03-19T04:28:40+00:00",
          "2022-04-06T09:15:06+00:00",
          "2022-04-24T14:01:32+00:00",
          "2022-05-12T18:47:58+00:00"
         ],
         "y": [
          42,
          8,
          44,
          5,
          15,
          14,
          11,
          8,
          46,
          22,
          16,
          15,
          4,
          8,
          3,
          3,
          338,
          4,
          7,
          6
         ]
        },
        {
         "hoverinfo": "text",
         "hovertext": [
          "<b>Topic 17</b><br>Words: yuran, murah, duit, bayar, refund",
          "<b>Topic 17</b><br>Words: yuran, duit, murah, bayar, refund",
          "<b>Topic 17</b><br>Words: yuran, bayar, duit, murah, refund",
          "<b>Topic 17</b><br>Words: bank, islam, yuran, kad, bayar",
          "<b>Topic 17</b><br>Words: yuran, bank, islam, duit, bayar",
          "<b>Topic 17</b><br>Words: yuran, duit, murah, pin, bayar",
          "<b>Topic 17</b><br>Words: yuran, duit, bayar, bank, murah",
          "<b>Topic 17</b><br>Words: yuran, duit, refund, bayar, harga",
          "<b>Topic 17</b><br>Words: yuran, bayar, refund, duit, bank",
          "<b>Topic 17</b><br>Words: yuran, refund, duit, bank, bayar",
          "<b>Topic 17</b><br>Words: refund, yuran, duit, bank, islam",
          "<b>Topic 17</b><br>Words: refund, yuran, duit, islamic, bayar",
          "<b>Topic 17</b><br>Words: yuran, bayar, bank, refund, turnitin",
          "<b>Topic 17</b><br>Words: yuran, murah, bank, refund, duit",
          "<b>Topic 17</b><br>Words: yuran, bayar, refund, duit, menyusahkan",
          "<b>Topic 17</b><br>Words: yuran, bayar, duit, menyusahkan, refund",
          "<b>Topic 17</b><br>Words: yuran, duit, murah, bayar, refund",
          "<b>Topic 17</b><br>Words: yuran, bayar, duit, kad, bank",
          "<b>Topic 17</b><br>Words: yuran, bayar, duit, croc, apedehal",
          "<b>Topic 17</b><br>Words: yuran, bank, bayar, murah, dipercepatkan"
         ],
         "marker": {
          "color": "#56B4E9"
         },
         "mode": "lines",
         "name": "Tuition Fee",
         "type": "scatter",
         "x": [
          "2021-05-31T15:21:36.280000+00:00",
          "2021-06-19T04:52:10+00:00",
          "2021-07-07T09:38:36+00:00",
          "2021-07-25T14:25:02+00:00",
          "2021-08-12T19:11:28+00:00",
          "2021-08-30T23:57:54+00:00",
          "2021-09-18T04:44:20+00:00",
          "2021-10-06T09:30:46+00:00",
          "2021-10-24T14:17:12+00:00",
          "2021-11-11T19:03:38+00:00",
          "2021-11-29T23:50:04+00:00",
          "2021-12-18T04:36:30+00:00",
          "2022-01-05T09:22:56+00:00",
          "2022-01-23T14:09:22+00:00",
          "2022-02-10T18:55:48+00:00",
          "2022-02-28T23:42:14+00:00",
          "2022-03-19T04:28:40+00:00",
          "2022-04-06T09:15:06+00:00",
          "2022-04-24T14:01:32+00:00",
          "2022-05-12T18:47:58+00:00"
         ],
         "y": [
          16,
          22,
          37,
          10,
          10,
          35,
          40,
          15,
          32,
          36,
          102,
          35,
          10,
          31,
          14,
          13,
          112,
          10,
          10,
          7
         ]
        },
        {
         "hoverinfo": "text",
         "hovertext": [
          "<b>Topic 18</b><br>Words: semoga, dimurahkan, dunia, dana, veri",
          "<b>Topic 18</b><br>Words: semoga, rezeki, dimurahkan, meninggal, dipermudahkan",
          "<b>Topic 18</b><br>Words: meninggal, semoga, takziah, arwah, fatihah",
          "<b>Topic 18</b><br>Words: semoga, hijrah, dicucuri, rahmat, meninggal",
          "<b>Topic 18</b><br>Words: semoga, meninggal, rezeki, aib, fatihah",
          "<b>Topic 18</b><br>Words: semoga, rezeki, chut, dimurahkan, meninggal",
          "<b>Topic 18</b><br>Words: semoga, pagi, uncle, meninggal, mustaza",
          "<b>Topic 18</b><br>Words: semoga, arwah, takziah, ditempatkan, moga",
          "<b>Topic 18</b><br>Words: semoga, moga, ditempatkan, meninggal, interpersonalist",
          "<b>Topic 18</b><br>Words: semoga, faten, interpersonalist, moga, saudari",
          "<b>Topic 18</b><br>Words: semoga, sihat, interpersonalist, rezeki, meninggal",
          "<b>Topic 18</b><br>Words: semoga, takziah, rezeki, meninggal, dipermudahkan",
          "<b>Topic 18</b><br>Words: semoga, minggu, rezeki, kuliah, giveaway",
          "<b>Topic 18</b><br>Words: semoga, minggu, meninggal, nabi, takziah",
          "<b>Topic 18</b><br>Words: moga, pagi, amin, semoga, rugi",
          "<b>Topic 18</b><br>Words: semoga, alhamdulillah, arwah, rezeki, meninggal",
          "<b>Topic 18</b><br>Words: hati, rezeki, semoga, meninggal, pagi",
          "<b>Topic 18</b><br>Words: semoga, rezeki, dimurahkan, amin, meninggal",
          "<b>Topic 18</b><br>Words: semoga, rezeki, dimurahkan, titipkan, dihulur",
          "<b>Topic 18</b><br>Words: dirawat, april, rumahnya, kebakaran, rapi"
         ],
         "marker": {
          "color": "#009E73"
         },
         "mode": "lines",
         "name": "Student's Death",
         "type": "scatter",
         "x": [
          "2021-05-31T15:21:36.280000+00:00",
          "2021-06-19T04:52:10+00:00",
          "2021-07-07T09:38:36+00:00",
          "2021-07-25T14:25:02+00:00",
          "2021-08-12T19:11:28+00:00",
          "2021-08-30T23:57:54+00:00",
          "2021-09-18T04:44:20+00:00",
          "2021-10-06T09:30:46+00:00",
          "2021-10-24T14:17:12+00:00",
          "2021-11-11T19:03:38+00:00",
          "2021-11-29T23:50:04+00:00",
          "2021-12-18T04:36:30+00:00",
          "2022-01-05T09:22:56+00:00",
          "2022-01-23T14:09:22+00:00",
          "2022-02-10T18:55:48+00:00",
          "2022-02-28T23:42:14+00:00",
          "2022-03-19T04:28:40+00:00",
          "2022-04-06T09:15:06+00:00",
          "2022-04-24T14:01:32+00:00",
          "2022-05-12T18:47:58+00:00"
         ],
         "y": [
          17,
          17,
          281,
          21,
          15,
          45,
          12,
          18,
          14,
          8,
          15,
          17,
          8,
          7,
          6,
          27,
          35,
          11,
          6,
          2
         ]
        }
       ],
       "layout": {
        "height": 450,
        "hoverlabel": {
         "bgcolor": "white",
         "font": {
          "family": "Rockwell",
          "size": 16
         }
        },
        "legend": {
         "title": {
          "text": "Topic"
         }
        },
        "template": {
         "data": {
          "bar": [
           {
            "error_x": {
             "color": "rgb(36,36,36)"
            },
            "error_y": {
             "color": "rgb(36,36,36)"
            },
            "marker": {
             "line": {
              "color": "white",
              "width": 0.5
             },
             "pattern": {
              "fillmode": "overlay",
              "size": 10,
              "solidity": 0.2
             }
            },
            "type": "bar"
           }
          ],
          "barpolar": [
           {
            "marker": {
             "line": {
              "color": "white",
              "width": 0.5
             },
             "pattern": {
              "fillmode": "overlay",
              "size": 10,
              "solidity": 0.2
             }
            },
            "type": "barpolar"
           }
          ],
          "carpet": [
           {
            "aaxis": {
             "endlinecolor": "rgb(36,36,36)",
             "gridcolor": "white",
             "linecolor": "white",
             "minorgridcolor": "white",
             "startlinecolor": "rgb(36,36,36)"
            },
            "baxis": {
             "endlinecolor": "rgb(36,36,36)",
             "gridcolor": "white",
             "linecolor": "white",
             "minorgridcolor": "white",
             "startlinecolor": "rgb(36,36,36)"
            },
            "type": "carpet"
           }
          ],
          "choropleth": [
           {
            "colorbar": {
             "outlinewidth": 1,
             "tickcolor": "rgb(36,36,36)",
             "ticks": "outside"
            },
            "type": "choropleth"
           }
          ],
          "contour": [
           {
            "colorbar": {
             "outlinewidth": 1,
             "tickcolor": "rgb(36,36,36)",
             "ticks": "outside"
            },
            "colorscale": [
             [
              0,
              "#440154"
             ],
             [
              0.1111111111111111,
              "#482878"
             ],
             [
              0.2222222222222222,
              "#3e4989"
             ],
             [
              0.3333333333333333,
              "#31688e"
             ],
             [
              0.4444444444444444,
              "#26828e"
             ],
             [
              0.5555555555555556,
              "#1f9e89"
             ],
             [
              0.6666666666666666,
              "#35b779"
             ],
             [
              0.7777777777777778,
              "#6ece58"
             ],
             [
              0.8888888888888888,
              "#b5de2b"
             ],
             [
              1,
              "#fde725"
             ]
            ],
            "type": "contour"
           }
          ],
          "contourcarpet": [
           {
            "colorbar": {
             "outlinewidth": 1,
             "tickcolor": "rgb(36,36,36)",
             "ticks": "outside"
            },
            "type": "contourcarpet"
           }
          ],
          "heatmap": [
           {
            "colorbar": {
             "outlinewidth": 1,
             "tickcolor": "rgb(36,36,36)",
             "ticks": "outside"
            },
            "colorscale": [
             [
              0,
              "#440154"
             ],
             [
              0.1111111111111111,
              "#482878"
             ],
             [
              0.2222222222222222,
              "#3e4989"
             ],
             [
              0.3333333333333333,
              "#31688e"
             ],
             [
              0.4444444444444444,
              "#26828e"
             ],
             [
              0.5555555555555556,
              "#1f9e89"
             ],
             [
              0.6666666666666666,
              "#35b779"
             ],
             [
              0.7777777777777778,
              "#6ece58"
             ],
             [
              0.8888888888888888,
              "#b5de2b"
             ],
             [
              1,
              "#fde725"
             ]
            ],
            "type": "heatmap"
           }
          ],
          "heatmapgl": [
           {
            "colorbar": {
             "outlinewidth": 1,
             "tickcolor": "rgb(36,36,36)",
             "ticks": "outside"
            },
            "colorscale": [
             [
              0,
              "#440154"
             ],
             [
              0.1111111111111111,
              "#482878"
             ],
             [
              0.2222222222222222,
              "#3e4989"
             ],
             [
              0.3333333333333333,
              "#31688e"
             ],
             [
              0.4444444444444444,
              "#26828e"
             ],
             [
              0.5555555555555556,
              "#1f9e89"
             ],
             [
              0.6666666666666666,
              "#35b779"
             ],
             [
              0.7777777777777778,
              "#6ece58"
             ],
             [
              0.8888888888888888,
              "#b5de2b"
             ],
             [
              1,
              "#fde725"
             ]
            ],
            "type": "heatmapgl"
           }
          ],
          "histogram": [
           {
            "marker": {
             "line": {
              "color": "white",
              "width": 0.6
             }
            },
            "type": "histogram"
           }
          ],
          "histogram2d": [
           {
            "colorbar": {
             "outlinewidth": 1,
             "tickcolor": "rgb(36,36,36)",
             "ticks": "outside"
            },
            "colorscale": [
             [
              0,
              "#440154"
             ],
             [
              0.1111111111111111,
              "#482878"
             ],
             [
              0.2222222222222222,
              "#3e4989"
             ],
             [
              0.3333333333333333,
              "#31688e"
             ],
             [
              0.4444444444444444,
              "#26828e"
             ],
             [
              0.5555555555555556,
              "#1f9e89"
             ],
             [
              0.6666666666666666,
              "#35b779"
             ],
             [
              0.7777777777777778,
              "#6ece58"
             ],
             [
              0.8888888888888888,
              "#b5de2b"
             ],
             [
              1,
              "#fde725"
             ]
            ],
            "type": "histogram2d"
           }
          ],
          "histogram2dcontour": [
           {
            "colorbar": {
             "outlinewidth": 1,
             "tickcolor": "rgb(36,36,36)",
             "ticks": "outside"
            },
            "colorscale": [
             [
              0,
              "#440154"
             ],
             [
              0.1111111111111111,
              "#482878"
             ],
             [
              0.2222222222222222,
              "#3e4989"
             ],
             [
              0.3333333333333333,
              "#31688e"
             ],
             [
              0.4444444444444444,
              "#26828e"
             ],
             [
              0.5555555555555556,
              "#1f9e89"
             ],
             [
              0.6666666666666666,
              "#35b779"
             ],
             [
              0.7777777777777778,
              "#6ece58"
             ],
             [
              0.8888888888888888,
              "#b5de2b"
             ],
             [
              1,
              "#fde725"
             ]
            ],
            "type": "histogram2dcontour"
           }
          ],
          "mesh3d": [
           {
            "colorbar": {
             "outlinewidth": 1,
             "tickcolor": "rgb(36,36,36)",
             "ticks": "outside"
            },
            "type": "mesh3d"
           }
          ],
          "parcoords": [
           {
            "line": {
             "colorbar": {
              "outlinewidth": 1,
              "tickcolor": "rgb(36,36,36)",
              "ticks": "outside"
             }
            },
            "type": "parcoords"
           }
          ],
          "pie": [
           {
            "automargin": true,
            "type": "pie"
           }
          ],
          "scatter": [
           {
            "marker": {
             "colorbar": {
              "outlinewidth": 1,
              "tickcolor": "rgb(36,36,36)",
              "ticks": "outside"
             }
            },
            "type": "scatter"
           }
          ],
          "scatter3d": [
           {
            "line": {
             "colorbar": {
              "outlinewidth": 1,
              "tickcolor": "rgb(36,36,36)",
              "ticks": "outside"
             }
            },
            "marker": {
             "colorbar": {
              "outlinewidth": 1,
              "tickcolor": "rgb(36,36,36)",
              "ticks": "outside"
             }
            },
            "type": "scatter3d"
           }
          ],
          "scattercarpet": [
           {
            "marker": {
             "colorbar": {
              "outlinewidth": 1,
              "tickcolor": "rgb(36,36,36)",
              "ticks": "outside"
             }
            },
            "type": "scattercarpet"
           }
          ],
          "scattergeo": [
           {
            "marker": {
             "colorbar": {
              "outlinewidth": 1,
              "tickcolor": "rgb(36,36,36)",
              "ticks": "outside"
             }
            },
            "type": "scattergeo"
           }
          ],
          "scattergl": [
           {
            "marker": {
             "colorbar": {
              "outlinewidth": 1,
              "tickcolor": "rgb(36,36,36)",
              "ticks": "outside"
             }
            },
            "type": "scattergl"
           }
          ],
          "scattermapbox": [
           {
            "marker": {
             "colorbar": {
              "outlinewidth": 1,
              "tickcolor": "rgb(36,36,36)",
              "ticks": "outside"
             }
            },
            "type": "scattermapbox"
           }
          ],
          "scatterpolar": [
           {
            "marker": {
             "colorbar": {
              "outlinewidth": 1,
              "tickcolor": "rgb(36,36,36)",
              "ticks": "outside"
             }
            },
            "type": "scatterpolar"
           }
          ],
          "scatterpolargl": [
           {
            "marker": {
             "colorbar": {
              "outlinewidth": 1,
              "tickcolor": "rgb(36,36,36)",
              "ticks": "outside"
             }
            },
            "type": "scatterpolargl"
           }
          ],
          "scatterternary": [
           {
            "marker": {
             "colorbar": {
              "outlinewidth": 1,
              "tickcolor": "rgb(36,36,36)",
              "ticks": "outside"
             }
            },
            "type": "scatterternary"
           }
          ],
          "surface": [
           {
            "colorbar": {
             "outlinewidth": 1,
             "tickcolor": "rgb(36,36,36)",
             "ticks": "outside"
            },
            "colorscale": [
             [
              0,
              "#440154"
             ],
             [
              0.1111111111111111,
              "#482878"
             ],
             [
              0.2222222222222222,
              "#3e4989"
             ],
             [
              0.3333333333333333,
              "#31688e"
             ],
             [
              0.4444444444444444,
              "#26828e"
             ],
             [
              0.5555555555555556,
              "#1f9e89"
             ],
             [
              0.6666666666666666,
              "#35b779"
             ],
             [
              0.7777777777777778,
              "#6ece58"
             ],
             [
              0.8888888888888888,
              "#b5de2b"
             ],
             [
              1,
              "#fde725"
             ]
            ],
            "type": "surface"
           }
          ],
          "table": [
           {
            "cells": {
             "fill": {
              "color": "rgb(237,237,237)"
             },
             "line": {
              "color": "white"
             }
            },
            "header": {
             "fill": {
              "color": "rgb(217,217,217)"
             },
             "line": {
              "color": "white"
             }
            },
            "type": "table"
           }
          ]
         },
         "layout": {
          "annotationdefaults": {
           "arrowhead": 0,
           "arrowwidth": 1
          },
          "autotypenumbers": "strict",
          "coloraxis": {
           "colorbar": {
            "outlinewidth": 1,
            "tickcolor": "rgb(36,36,36)",
            "ticks": "outside"
           }
          },
          "colorscale": {
           "diverging": [
            [
             0,
             "rgb(103,0,31)"
            ],
            [
             0.1,
             "rgb(178,24,43)"
            ],
            [
             0.2,
             "rgb(214,96,77)"
            ],
            [
             0.3,
             "rgb(244,165,130)"
            ],
            [
             0.4,
             "rgb(253,219,199)"
            ],
            [
             0.5,
             "rgb(247,247,247)"
            ],
            [
             0.6,
             "rgb(209,229,240)"
            ],
            [
             0.7,
             "rgb(146,197,222)"
            ],
            [
             0.8,
             "rgb(67,147,195)"
            ],
            [
             0.9,
             "rgb(33,102,172)"
            ],
            [
             1,
             "rgb(5,48,97)"
            ]
           ],
           "sequential": [
            [
             0,
             "#440154"
            ],
            [
             0.1111111111111111,
             "#482878"
            ],
            [
             0.2222222222222222,
             "#3e4989"
            ],
            [
             0.3333333333333333,
             "#31688e"
            ],
            [
             0.4444444444444444,
             "#26828e"
            ],
            [
             0.5555555555555556,
             "#1f9e89"
            ],
            [
             0.6666666666666666,
             "#35b779"
            ],
            [
             0.7777777777777778,
             "#6ece58"
            ],
            [
             0.8888888888888888,
             "#b5de2b"
            ],
            [
             1,
             "#fde725"
            ]
           ],
           "sequentialminus": [
            [
             0,
             "#440154"
            ],
            [
             0.1111111111111111,
             "#482878"
            ],
            [
             0.2222222222222222,
             "#3e4989"
            ],
            [
             0.3333333333333333,
             "#31688e"
            ],
            [
             0.4444444444444444,
             "#26828e"
            ],
            [
             0.5555555555555556,
             "#1f9e89"
            ],
            [
             0.6666666666666666,
             "#35b779"
            ],
            [
             0.7777777777777778,
             "#6ece58"
            ],
            [
             0.8888888888888888,
             "#b5de2b"
            ],
            [
             1,
             "#fde725"
            ]
           ]
          },
          "colorway": [
           "#1F77B4",
           "#FF7F0E",
           "#2CA02C",
           "#D62728",
           "#9467BD",
           "#8C564B",
           "#E377C2",
           "#7F7F7F",
           "#BCBD22",
           "#17BECF"
          ],
          "font": {
           "color": "rgb(36,36,36)"
          },
          "geo": {
           "bgcolor": "white",
           "lakecolor": "white",
           "landcolor": "white",
           "showlakes": true,
           "showland": true,
           "subunitcolor": "white"
          },
          "hoverlabel": {
           "align": "left"
          },
          "hovermode": "closest",
          "mapbox": {
           "style": "light"
          },
          "paper_bgcolor": "white",
          "plot_bgcolor": "white",
          "polar": {
           "angularaxis": {
            "gridcolor": "rgb(232,232,232)",
            "linecolor": "rgb(36,36,36)",
            "showgrid": false,
            "showline": true,
            "ticks": "outside"
           },
           "bgcolor": "white",
           "radialaxis": {
            "gridcolor": "rgb(232,232,232)",
            "linecolor": "rgb(36,36,36)",
            "showgrid": false,
            "showline": true,
            "ticks": "outside"
           }
          },
          "scene": {
           "xaxis": {
            "backgroundcolor": "white",
            "gridcolor": "rgb(232,232,232)",
            "gridwidth": 2,
            "linecolor": "rgb(36,36,36)",
            "showbackground": true,
            "showgrid": false,
            "showline": true,
            "ticks": "outside",
            "zeroline": false,
            "zerolinecolor": "rgb(36,36,36)"
           },
           "yaxis": {
            "backgroundcolor": "white",
            "gridcolor": "rgb(232,232,232)",
            "gridwidth": 2,
            "linecolor": "rgb(36,36,36)",
            "showbackground": true,
            "showgrid": false,
            "showline": true,
            "ticks": "outside",
            "zeroline": false,
            "zerolinecolor": "rgb(36,36,36)"
           },
           "zaxis": {
            "backgroundcolor": "white",
            "gridcolor": "rgb(232,232,232)",
            "gridwidth": 2,
            "linecolor": "rgb(36,36,36)",
            "showbackground": true,
            "showgrid": false,
            "showline": true,
            "ticks": "outside",
            "zeroline": false,
            "zerolinecolor": "rgb(36,36,36)"
           }
          },
          "shapedefaults": {
           "fillcolor": "black",
           "line": {
            "width": 0
           },
           "opacity": 0.3
          },
          "ternary": {
           "aaxis": {
            "gridcolor": "rgb(232,232,232)",
            "linecolor": "rgb(36,36,36)",
            "showgrid": false,
            "showline": true,
            "ticks": "outside"
           },
           "baxis": {
            "gridcolor": "rgb(232,232,232)",
            "linecolor": "rgb(36,36,36)",
            "showgrid": false,
            "showline": true,
            "ticks": "outside"
           },
           "bgcolor": "white",
           "caxis": {
            "gridcolor": "rgb(232,232,232)",
            "linecolor": "rgb(36,36,36)",
            "showgrid": false,
            "showline": true,
            "ticks": "outside"
           }
          },
          "title": {
           "x": 0.05
          },
          "xaxis": {
           "automargin": true,
           "gridcolor": "rgb(232,232,232)",
           "linecolor": "rgb(36,36,36)",
           "showgrid": false,
           "showline": true,
           "ticks": "outside",
           "title": {
            "standoff": 15
           },
           "zeroline": false,
           "zerolinecolor": "rgb(36,36,36)"
          },
          "yaxis": {
           "automargin": true,
           "gridcolor": "rgb(232,232,232)",
           "linecolor": "rgb(36,36,36)",
           "showgrid": false,
           "showline": true,
           "ticks": "outside",
           "title": {
            "standoff": 15
           },
           "zeroline": false,
           "zerolinecolor": "rgb(36,36,36)"
          }
         }
        },
        "title": {
         "font": {
          "color": "Black",
          "size": 22
         },
         "text": "<b>Topics over Time",
         "x": 0.4,
         "xanchor": "center",
         "y": 0.95,
         "yanchor": "top"
        },
        "width": 950,
        "xaxis": {
         "showgrid": true
        },
        "yaxis": {
         "showgrid": true,
         "title": {
          "text": "Frequency"
         }
        }
       }
      }
     },
     "metadata": {},
     "output_type": "display_data"
    }
   ],
   "source": [
    "go.Figure(topic_over_time)"
   ]
  },
  {
   "cell_type": "markdown",
   "metadata": {},
   "source": [
    "# Fix remove 'misc'"
   ]
  },
  {
   "cell_type": "code",
   "execution_count": 1,
   "metadata": {},
   "outputs": [],
   "source": [
    "from pages.topics.topics_data import get_topics_over_time,get_ranked_topics,get_topic_info,get_all_topics\n",
    "from pages.sentiment.sentiment_data import topic_dataset,get_dataset\n",
    "import plotly.graph_objs as go\n",
    "import pandas as pd"
   ]
  },
  {
   "cell_type": "code",
   "execution_count": 3,
   "metadata": {},
   "outputs": [
    {
     "data": {
      "text/html": [
       "<div>\n",
       "<style scoped>\n",
       "    .dataframe tbody tr th:only-of-type {\n",
       "        vertical-align: middle;\n",
       "    }\n",
       "\n",
       "    .dataframe tbody tr th {\n",
       "        vertical-align: top;\n",
       "    }\n",
       "\n",
       "    .dataframe thead th {\n",
       "        text-align: right;\n",
       "    }\n",
       "</style>\n",
       "<table border=\"1\" class=\"dataframe\">\n",
       "  <thead>\n",
       "    <tr style=\"text-align: right;\">\n",
       "      <th></th>\n",
       "      <th>Topic</th>\n",
       "      <th>Count</th>\n",
       "      <th>CustomName</th>\n",
       "      <th>Name</th>\n",
       "      <th>RTs Count</th>\n",
       "      <th>Likes Count</th>\n",
       "    </tr>\n",
       "  </thead>\n",
       "  <tbody>\n",
       "    <tr>\n",
       "      <th>8</th>\n",
       "      <td>7</td>\n",
       "      <td>1032</td>\n",
       "      <td>Lecturers</td>\n",
       "      <td>7_lecturer_student_viral_kawad</td>\n",
       "      <td>75255</td>\n",
       "      <td>125506</td>\n",
       "    </tr>\n",
       "    <tr>\n",
       "      <th>15</th>\n",
       "      <td>14</td>\n",
       "      <td>619</td>\n",
       "      <td>Prof Roshana Case</td>\n",
       "      <td>14_tindakan_pensyarah_pelajar_tular</td>\n",
       "      <td>54586</td>\n",
       "      <td>82361</td>\n",
       "    </tr>\n",
       "    <tr>\n",
       "      <th>18</th>\n",
       "      <td>17</td>\n",
       "      <td>582</td>\n",
       "      <td>Student's Death</td>\n",
       "      <td>17_semoga_meninggal_takziah_arwah</td>\n",
       "      <td>43150</td>\n",
       "      <td>66660</td>\n",
       "    </tr>\n",
       "    <tr>\n",
       "      <th>9</th>\n",
       "      <td>8</td>\n",
       "      <td>952</td>\n",
       "      <td>Income Class</td>\n",
       "      <td>8_b40_t20_golongan_mengajar</td>\n",
       "      <td>27934</td>\n",
       "      <td>70658</td>\n",
       "    </tr>\n",
       "    <tr>\n",
       "      <th>17</th>\n",
       "      <td>16</td>\n",
       "      <td>597</td>\n",
       "      <td>Tuition Fee</td>\n",
       "      <td>16_yuran_duit_refund_bayar</td>\n",
       "      <td>21682</td>\n",
       "      <td>45326</td>\n",
       "    </tr>\n",
       "    <tr>\n",
       "      <th>12</th>\n",
       "      <td>11</td>\n",
       "      <td>692</td>\n",
       "      <td>Bumiputera Rights</td>\n",
       "      <td>11_melayu_bumiputera_hak_bumi</td>\n",
       "      <td>17981</td>\n",
       "      <td>40069</td>\n",
       "    </tr>\n",
       "    <tr>\n",
       "      <th>6</th>\n",
       "      <td>5</td>\n",
       "      <td>1175</td>\n",
       "      <td>Vaccination</td>\n",
       "      <td>5_puncak_alam_ppv_vaksin</td>\n",
       "      <td>14089</td>\n",
       "      <td>23115</td>\n",
       "    </tr>\n",
       "    <tr>\n",
       "      <th>5</th>\n",
       "      <td>4</td>\n",
       "      <td>1215</td>\n",
       "      <td>Convocation</td>\n",
       "      <td>4_konvo_convo_tangguh_convocation</td>\n",
       "      <td>9588</td>\n",
       "      <td>20167</td>\n",
       "    </tr>\n",
       "    <tr>\n",
       "      <th>10</th>\n",
       "      <td>9</td>\n",
       "      <td>945</td>\n",
       "      <td>MPP</td>\n",
       "      <td>9_kasih_terima_perwakilan_sesi</td>\n",
       "      <td>7458</td>\n",
       "      <td>11844</td>\n",
       "    </tr>\n",
       "    <tr>\n",
       "      <th>1</th>\n",
       "      <td>0</td>\n",
       "      <td>2497</td>\n",
       "      <td>University Life</td>\n",
       "      <td>0_lagu_kawan_zaman_jalan</td>\n",
       "      <td>5616</td>\n",
       "      <td>14984</td>\n",
       "    </tr>\n",
       "    <tr>\n",
       "      <th>13</th>\n",
       "      <td>12</td>\n",
       "      <td>683</td>\n",
       "      <td>Short Break</td>\n",
       "      <td>12_cuti_bertenang_tempoh_week</td>\n",
       "      <td>4517</td>\n",
       "      <td>8013</td>\n",
       "    </tr>\n",
       "    <tr>\n",
       "      <th>14</th>\n",
       "      <td>13</td>\n",
       "      <td>629</td>\n",
       "      <td>Entering UiTM</td>\n",
       "      <td>13_masuk_kabel_surprise_semerahan</td>\n",
       "      <td>4475</td>\n",
       "      <td>10517</td>\n",
       "    </tr>\n",
       "    <tr>\n",
       "      <th>4</th>\n",
       "      <td>3</td>\n",
       "      <td>1448</td>\n",
       "      <td>News</td>\n",
       "      <td>3_naib_canselor_mohd_prof</td>\n",
       "      <td>4123</td>\n",
       "      <td>10393</td>\n",
       "    </tr>\n",
       "    <tr>\n",
       "      <th>7</th>\n",
       "      <td>6</td>\n",
       "      <td>1058</td>\n",
       "      <td>Sport</td>\n",
       "      <td>6_liga_perlawanan_stadium_perak</td>\n",
       "      <td>2192</td>\n",
       "      <td>6638</td>\n",
       "    </tr>\n",
       "    <tr>\n",
       "      <th>16</th>\n",
       "      <td>15</td>\n",
       "      <td>597</td>\n",
       "      <td>Appreciation</td>\n",
       "      <td>15_dihatiku_hmm_hatiku_tahniah</td>\n",
       "      <td>1555</td>\n",
       "      <td>6185</td>\n",
       "    </tr>\n",
       "    <tr>\n",
       "      <th>3</th>\n",
       "      <td>2</td>\n",
       "      <td>1477</td>\n",
       "      <td>Social platforms</td>\n",
       "      <td>2_sarawak_ptar_channel_youtube</td>\n",
       "      <td>1271</td>\n",
       "      <td>3659</td>\n",
       "    </tr>\n",
       "    <tr>\n",
       "      <th>11</th>\n",
       "      <td>10</td>\n",
       "      <td>698</td>\n",
       "      <td>Food</td>\n",
       "      <td>10_nasi_makan_sedap_ayam</td>\n",
       "      <td>859</td>\n",
       "      <td>2974</td>\n",
       "    </tr>\n",
       "  </tbody>\n",
       "</table>\n",
       "</div>"
      ],
      "text/plain": [
       "    Topic  Count         CustomName                                 Name  \\\n",
       "8       7   1032          Lecturers       7_lecturer_student_viral_kawad   \n",
       "15     14    619  Prof Roshana Case  14_tindakan_pensyarah_pelajar_tular   \n",
       "18     17    582    Student's Death    17_semoga_meninggal_takziah_arwah   \n",
       "9       8    952       Income Class          8_b40_t20_golongan_mengajar   \n",
       "17     16    597        Tuition Fee           16_yuran_duit_refund_bayar   \n",
       "12     11    692  Bumiputera Rights        11_melayu_bumiputera_hak_bumi   \n",
       "6       5   1175        Vaccination             5_puncak_alam_ppv_vaksin   \n",
       "5       4   1215        Convocation    4_konvo_convo_tangguh_convocation   \n",
       "10      9    945                MPP       9_kasih_terima_perwakilan_sesi   \n",
       "1       0   2497    University Life             0_lagu_kawan_zaman_jalan   \n",
       "13     12    683        Short Break        12_cuti_bertenang_tempoh_week   \n",
       "14     13    629      Entering UiTM    13_masuk_kabel_surprise_semerahan   \n",
       "4       3   1448               News            3_naib_canselor_mohd_prof   \n",
       "7       6   1058              Sport      6_liga_perlawanan_stadium_perak   \n",
       "16     15    597       Appreciation       15_dihatiku_hmm_hatiku_tahniah   \n",
       "3       2   1477   Social platforms       2_sarawak_ptar_channel_youtube   \n",
       "11     10    698               Food             10_nasi_makan_sedap_ayam   \n",
       "\n",
       "    RTs Count  Likes Count  \n",
       "8       75255       125506  \n",
       "15      54586        82361  \n",
       "18      43150        66660  \n",
       "9       27934        70658  \n",
       "17      21682        45326  \n",
       "12      17981        40069  \n",
       "6       14089        23115  \n",
       "5        9588        20167  \n",
       "10       7458        11844  \n",
       "1        5616        14984  \n",
       "13       4517         8013  \n",
       "14       4475        10517  \n",
       "4        4123        10393  \n",
       "7        2192         6638  \n",
       "16       1555         6185  \n",
       "3        1271         3659  \n",
       "11        859         2974  "
      ]
     },
     "execution_count": 3,
     "metadata": {},
     "output_type": "execute_result"
    }
   ],
   "source": [
    "get_ranked_topics()"
   ]
  },
  {
   "cell_type": "code",
   "execution_count": null,
   "metadata": {},
   "outputs": [],
   "source": [
    "get_topic_info()"
   ]
  },
  {
   "cell_type": "code",
   "execution_count": null,
   "metadata": {},
   "outputs": [],
   "source": [
    "df = get_dataset()\n",
    "topic_df = topic_dataset()\n",
    "\n",
    "# merge processed tweet\n",
    "df = pd.merge(df,topic_df[['Tweet Id','Processed noisy tweet','Topic reassigned']],on='Tweet Id',how='left')\n",
    "df.dropna(inplace=True)\n",
    "\n",
    "topic_info = get_topic_info()\n",
    "trending_topics = df.groupby(by=['Sentiment','Topic reassigned']).count()[['RTs Count','Likes Count']].sort_values(by=['RTs Count','Likes Count'],ascending=False).reset_index()\n",
    "trending_topics = trending_topics[(trending_topics['Topic reassigned']!=-1)&(trending_topics['Topic reassigned']!=1)]\n",
    "# topic_name = trending_topics['Topic reassigned'].apply(lambda x: topic_info['Name'][topic_info['Topic']==x].tolist()[0])\n",
    "topic_name = trending_topics['Topic reassigned'].apply(lambda x: topic_info['CustomName'][topic_info['Topic']==x].tolist()[0])\n",
    "trending_topics"
   ]
  },
  {
   "attachments": {},
   "cell_type": "markdown",
   "metadata": {},
   "source": [
    "# Fix topic buttons"
   ]
  },
  {
   "cell_type": "code",
   "execution_count": 29,
   "metadata": {},
   "outputs": [
    {
     "data": {
      "text/plain": [
       "9"
      ]
     },
     "execution_count": 29,
     "metadata": {},
     "output_type": "execute_result"
    }
   ],
   "source": [
    "import math\n",
    "\n",
    "total_topic = 29\n",
    "# last_page = math.ceil(total_topic/10)\n",
    "active_page = 3\n",
    "total_buttons= total_topic - ((active_page-1)*10) if active_page == math.ceil(total_topic/10) else 10 \n",
    "total_buttons"
   ]
  },
  {
   "cell_type": "code",
   "execution_count": 31,
   "metadata": {},
   "outputs": [
    {
     "data": {
      "text/plain": [
       "5"
      ]
     },
     "execution_count": 31,
     "metadata": {},
     "output_type": "execute_result"
    }
   ],
   "source": [
    "import math\n",
    "\n",
    "total_topic = 25\n",
    "# last_page = math.ceil(total_topic/10)\n",
    "active_page = 3\n",
    "total_buttons= total_topic - ((active_page-1)*10) if active_page == math.ceil(total_topic/10) else 10 \n",
    "total_buttons"
   ]
  }
 ],
 "metadata": {
  "kernelspec": {
   "display_name": "dash",
   "language": "python",
   "name": "python3"
  },
  "language_info": {
   "codemirror_mode": {
    "name": "ipython",
    "version": 3
   },
   "file_extension": ".py",
   "mimetype": "text/x-python",
   "name": "python",
   "nbconvert_exporter": "python",
   "pygments_lexer": "ipython3",
   "version": "3.10.4 | packaged by conda-forge | (main, Mar 30 2022, 08:38:02) [MSC v.1916 64 bit (AMD64)]"
  },
  "orig_nbformat": 4,
  "vscode": {
   "interpreter": {
    "hash": "3ac514d1d72e6a9d640eba5a3526d8c1dc8fc7b09d5f00b636427a87b3db16e1"
   }
  }
 },
 "nbformat": 4,
 "nbformat_minor": 2
}

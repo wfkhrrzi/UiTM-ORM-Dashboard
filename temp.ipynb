{
 "cells": [
  {
   "attachments": {},
   "cell_type": "markdown",
   "metadata": {},
   "source": [
    "# Reset Dataset Tweet ID \n",
    "(based on Tweet URL)"
   ]
  },
  {
   "cell_type": "code",
   "execution_count": 1,
   "metadata": {},
   "outputs": [],
   "source": [
    "import pandas as pd"
   ]
  },
  {
   "cell_type": "code",
   "execution_count": 2,
   "metadata": {},
   "outputs": [],
   "source": [
    "# df = pd.read_csv('D:/Study Stuffs/OneDrive - Universiti Teknologi MARA/Degree UiTM/(OneDrive) FYP Project/bertopic/topic-labelled.csv')\n",
    "df = pd.read_csv('dataset/final_dataset_cleaned_neutral.csv')"
   ]
  },
  {
   "cell_type": "code",
   "execution_count": 3,
   "metadata": {},
   "outputs": [],
   "source": [
    "df['Tweet Id'] = df['URL'].apply(lambda x: str(x.split(\"/\")[-1]))"
   ]
  },
  {
   "cell_type": "code",
   "execution_count": 4,
   "metadata": {},
   "outputs": [
    {
     "name": "stdout",
     "output_type": "stream",
     "text": [
      "1491406408860205060\n"
     ]
    },
    {
     "data": {
      "text/plain": [
       "'https://twitter.com/haIIofshame/status/1491406408860205060'"
      ]
     },
     "execution_count": 4,
     "metadata": {},
     "output_type": "execute_result"
    }
   ],
   "source": [
    "print(df['Tweet Id'].iloc[0])\n",
    "df['URL'].iloc[0]"
   ]
  },
  {
   "cell_type": "code",
   "execution_count": 6,
   "metadata": {},
   "outputs": [
    {
     "data": {
      "text/plain": [
       "True"
      ]
     },
     "execution_count": 6,
     "metadata": {},
     "output_type": "execute_result"
    }
   ],
   "source": [
    "'1491406408860205060' == '1491406408860205060'"
   ]
  },
  {
   "cell_type": "code",
   "execution_count": null,
   "metadata": {},
   "outputs": [],
   "source": [
    "df.to_csv('dataset/final_dataset_cleaned_neutral_resetIndex.csv',index=False)"
   ]
  },
  {
   "attachments": {},
   "cell_type": "markdown",
   "metadata": {},
   "source": [
    "# Debugging"
   ]
  },
  {
   "cell_type": "code",
   "execution_count": 1,
   "metadata": {},
   "outputs": [],
   "source": [
    "import pandas as pd\n",
    "import numpy as np"
   ]
  },
  {
   "cell_type": "code",
   "execution_count": 1,
   "metadata": {},
   "outputs": [],
   "source": [
    "from pages.sentiment.sentiment_data import get_sentiment_count"
   ]
  },
  {
   "cell_type": "code",
   "execution_count": 2,
   "metadata": {},
   "outputs": [],
   "source": [
    "sentiment_count = get_sentiment_count()"
   ]
  },
  {
   "cell_type": "code",
   "execution_count": 6,
   "metadata": {},
   "outputs": [
    {
     "data": {
      "text/plain": [
       "['neu_color', 'neg_color', 'pos_color']"
      ]
     },
     "execution_count": 6,
     "metadata": {},
     "output_type": "execute_result"
    }
   ],
   "source": [
    "list(map(\n",
    "    lambda x: \"pos_color\" if x.lower() == \"positive\" \\\n",
    "    else \"neu_color\" if x.lower() == \"neutral\" \\\n",
    "    else \"neg_color\",\n",
    "    sentiment_count['Sentiment'].tolist()\n",
    "))"
   ]
  },
  {
   "attachments": {},
   "cell_type": "markdown",
   "metadata": {},
   "source": [
    "# Check tweet id == tweet URL"
   ]
  },
  {
   "cell_type": "code",
   "execution_count": 11,
   "metadata": {},
   "outputs": [
    {
     "data": {
      "text/plain": [
       "True    13332\n",
       "dtype: int64"
      ]
     },
     "execution_count": 11,
     "metadata": {},
     "output_type": "execute_result"
    }
   ],
   "source": [
    "df.apply(lambda x:str(x['Tweet Id']) == str(x['URL'].split(\"/\")[-1]),axis=1).value_counts()"
   ]
  },
  {
   "attachments": {},
   "cell_type": "markdown",
   "metadata": {},
   "source": [
    "# Merge raw teet into topic-labelled.csv"
   ]
  },
  {
   "cell_type": "code",
   "execution_count": 1,
   "metadata": {},
   "outputs": [],
   "source": [
    "import pandas as pd"
   ]
  },
  {
   "cell_type": "code",
   "execution_count": 8,
   "metadata": {},
   "outputs": [],
   "source": [
    "df_original = pd.read_csv(\"D:/Study Stuffs/OneDrive - Universiti Teknologi MARA/Degree UiTM/(OneDrive) FYP Project/uitm_tweets_100k.csv\")\n",
    "df = pd.read_csv(\"dataset/final_dataset_cleaned_neutral_resetIndex.csv\")"
   ]
  },
  {
   "cell_type": "code",
   "execution_count": 14,
   "metadata": {},
   "outputs": [
    {
     "data": {
      "text/html": [
       "<div>\n",
       "<style scoped>\n",
       "    .dataframe tbody tr th:only-of-type {\n",
       "        vertical-align: middle;\n",
       "    }\n",
       "\n",
       "    .dataframe tbody tr th {\n",
       "        vertical-align: top;\n",
       "    }\n",
       "\n",
       "    .dataframe thead th {\n",
       "        text-align: right;\n",
       "    }\n",
       "</style>\n",
       "<table border=\"1\" class=\"dataframe\">\n",
       "  <thead>\n",
       "    <tr style=\"text-align: right;\">\n",
       "      <th></th>\n",
       "      <th>Tweet Id</th>\n",
       "      <th>Tweet</th>\n",
       "      <th>Filtered tweet</th>\n",
       "      <th>Translated Tweet</th>\n",
       "      <th>Username</th>\n",
       "      <th>Timestamp</th>\n",
       "      <th>RTs Count</th>\n",
       "      <th>Likes Count</th>\n",
       "      <th>Quotes &amp; Replies Count</th>\n",
       "      <th>Replies Count</th>\n",
       "      <th>Lang</th>\n",
       "      <th>URL</th>\n",
       "      <th>Source</th>\n",
       "      <th>Sentiment</th>\n",
       "    </tr>\n",
       "  </thead>\n",
       "  <tbody>\n",
       "    <tr>\n",
       "      <th>0</th>\n",
       "      <td>1491406408860205060</td>\n",
       "      <td>@moohoes pastu nanti kita pun hidup bahagia be...</td>\n",
       "      <td>pastu nanti kita pun hidup bahagia bersama kal...</td>\n",
       "      <td>Then we will live happily together if you acce...</td>\n",
       "      <td>haIIofshame</td>\n",
       "      <td>2022-02-09 13:39:31+00:00</td>\n",
       "      <td>0</td>\n",
       "      <td>0</td>\n",
       "      <td>0</td>\n",
       "      <td>0</td>\n",
       "      <td>in</td>\n",
       "      <td>https://twitter.com/haIIofshame/status/1491406...</td>\n",
       "      <td>&lt;a href=\"http://twitter.com/download/iphone\" r...</td>\n",
       "      <td>neutral</td>\n",
       "    </tr>\n",
       "  </tbody>\n",
       "</table>\n",
       "</div>"
      ],
      "text/plain": [
       "              Tweet Id                                              Tweet  \\\n",
       "0  1491406408860205060  @moohoes pastu nanti kita pun hidup bahagia be...   \n",
       "\n",
       "                                      Filtered tweet  \\\n",
       "0  pastu nanti kita pun hidup bahagia bersama kal...   \n",
       "\n",
       "                                    Translated Tweet     Username  \\\n",
       "0  Then we will live happily together if you acce...  haIIofshame   \n",
       "\n",
       "                   Timestamp  RTs Count  Likes Count  Quotes & Replies Count  \\\n",
       "0  2022-02-09 13:39:31+00:00          0            0                       0   \n",
       "\n",
       "   Replies Count Lang                                                URL  \\\n",
       "0              0   in  https://twitter.com/haIIofshame/status/1491406...   \n",
       "\n",
       "                                              Source Sentiment  \n",
       "0  <a href=\"http://twitter.com/download/iphone\" r...   neutral  "
      ]
     },
     "execution_count": 14,
     "metadata": {},
     "output_type": "execute_result"
    }
   ],
   "source": [
    "df.head(1)"
   ]
  },
  {
   "cell_type": "code",
   "execution_count": 12,
   "metadata": {},
   "outputs": [],
   "source": [
    "df = df \\\n",
    ".rename(columns={\"Tweet\":\"Filtered tweet\"}) \\\n",
    ".set_index('Tweet Id') \\\n",
    ".join(\n",
    "    df_original[['Tweet Id', 'Tweet']].set_index('Tweet Id'),\n",
    "    on='Tweet Id'\n",
    ") \\\n",
    ".reset_index()"
   ]
  },
  {
   "cell_type": "code",
   "execution_count": 13,
   "metadata": {},
   "outputs": [],
   "source": [
    "df.insert(1,'Tweet',df.pop('Tweet'))"
   ]
  },
  {
   "cell_type": "code",
   "execution_count": 10,
   "metadata": {},
   "outputs": [],
   "source": [
    "df.to_csv('D:/Study Stuffs/OneDrive - Universiti Teknologi MARA/Degree UiTM/(OneDrive) FYP Project/final_dataset_cleaned_neutral_MergedWithOriginalTweet.csv',index=False)"
   ]
  },
  {
   "attachments": {},
   "cell_type": "markdown",
   "metadata": {},
   "source": [
    "# Compare processed tweet VS raw tweet"
   ]
  },
  {
   "cell_type": "code",
   "execution_count": 1,
   "metadata": {},
   "outputs": [],
   "source": [
    "import pandas as pd"
   ]
  },
  {
   "cell_type": "code",
   "execution_count": 2,
   "metadata": {},
   "outputs": [],
   "source": [
    "df_bert = pd.read_csv(\"dataset/labelled_pred_set_14-12-23.csv\")\n",
    "df_tm = pd.read_csv(\"dataset/topic-labelled_14-12-22.csv\")"
   ]
  },
  {
   "cell_type": "code",
   "execution_count": null,
   "metadata": {},
   "outputs": [],
   "source": [
    "df_bert[\n",
    "    df_bert['Tweet'].str.contains('http') &\n",
    "    df_bert['Tweet'].str.contains('@') &\n",
    "    df_bert['Tweet'].str.contains('#')\n",
    "]"
   ]
  },
  {
   "cell_type": "code",
   "execution_count": 37,
   "metadata": {},
   "outputs": [
    {
     "data": {
      "text/plain": [
       "'Greetings prof @mahboonyih !\\nI love to read mystery novels. It is a fiction genre that follows with crime. I get curious as I read it. Hence, I will try to figure it out about who, what, when and how of a particular crime.\\n#WeCWIIS #intensivereading #UiTM #PHM1152D1 https://t.co/VXE4FzTRPd'"
      ]
     },
     "execution_count": 37,
     "metadata": {},
     "output_type": "execute_result"
    }
   ],
   "source": [
    "df_bert['Tweet'].iloc[20]"
   ]
  },
  {
   "cell_type": "code",
   "execution_count": 38,
   "metadata": {},
   "outputs": [
    {
     "data": {
      "text/plain": [
       "'greetings prof ! i love to read mystery novels. it is a fiction genre that follows with crime. i get curious as i read it. hence, i will try to figure it out about who, what, when and how of a particular crime.'"
      ]
     },
     "execution_count": 38,
     "metadata": {},
     "output_type": "execute_result"
    }
   ],
   "source": [
    "df_bert['Processed Tweet'].iloc[20]"
   ]
  },
  {
   "cell_type": "code",
   "execution_count": 42,
   "metadata": {},
   "outputs": [
    {
     "data": {
      "text/plain": [
       "'abolish bumiputera uitm fair berani chinesca survive sjkc melayu singapora ketuanan bullshit'"
      ]
     },
     "execution_count": 42,
     "metadata": {},
     "output_type": "execute_result"
    }
   ],
   "source": [
    "df_tm['Processed noisy tweet'].iloc[0]"
   ]
  },
  {
   "cell_type": "code",
   "execution_count": 4,
   "metadata": {},
   "outputs": [
    {
     "data": {
      "text/html": [
       "<div>\n",
       "<style scoped>\n",
       "    .dataframe tbody tr th:only-of-type {\n",
       "        vertical-align: middle;\n",
       "    }\n",
       "\n",
       "    .dataframe tbody tr th {\n",
       "        vertical-align: top;\n",
       "    }\n",
       "\n",
       "    .dataframe thead th {\n",
       "        text-align: right;\n",
       "    }\n",
       "</style>\n",
       "<table border=\"1\" class=\"dataframe\">\n",
       "  <thead>\n",
       "    <tr style=\"text-align: right;\">\n",
       "      <th></th>\n",
       "      <th>Tweet Id</th>\n",
       "      <th>Tweet</th>\n",
       "      <th>Cleaned tweet</th>\n",
       "      <th>Unnormalized processed noisy tweet</th>\n",
       "      <th>Normalized tweet</th>\n",
       "      <th>Processed noisy tweet</th>\n",
       "      <th>Stemmed tweet</th>\n",
       "      <th>Username</th>\n",
       "      <th>Timestamp</th>\n",
       "      <th>RTs Count</th>\n",
       "      <th>Likes Count</th>\n",
       "      <th>Quotes &amp; Replies Count</th>\n",
       "      <th>Replies Count</th>\n",
       "      <th>Lang</th>\n",
       "      <th>URL</th>\n",
       "      <th>Source</th>\n",
       "      <th>Topic</th>\n",
       "      <th>Topic reassigned</th>\n",
       "    </tr>\n",
       "  </thead>\n",
       "  <tbody>\n",
       "    <tr>\n",
       "      <th>6</th>\n",
       "      <td>1531364258075643904</td>\n",
       "      <td>Bicara Buku \"Southeast Asian Martial Arts : A ...</td>\n",
       "      <td>bicara buku southeast asian martial arts a uni...</td>\n",
       "      <td>bicara buku southeast asian martial arts uniqu...</td>\n",
       "      <td>bicara buku southeast asian martial arts a uni...</td>\n",
       "      <td>bicara buku southeast asian martial arts uniqu...</td>\n",
       "      <td>bicara buku southeast asian martial arts uniqu...</td>\n",
       "      <td>uitmlibrary</td>\n",
       "      <td>2022-05-30 19:57:45+00:00</td>\n",
       "      <td>1</td>\n",
       "      <td>1</td>\n",
       "      <td>0</td>\n",
       "      <td>0</td>\n",
       "      <td>ro</td>\n",
       "      <td>https://twitter.com/uitmlibrary/status/1531364...</td>\n",
       "      <td>&lt;a href=\"http://twitter.com/download/android\" ...</td>\n",
       "      <td>-1</td>\n",
       "      <td>-1</td>\n",
       "    </tr>\n",
       "    <tr>\n",
       "      <th>75</th>\n",
       "      <td>1531202709743091715</td>\n",
       "      <td>We would like to wish a warm welcome to our ne...</td>\n",
       "      <td>we would like to wish a warm welcome to our ne...</td>\n",
       "      <td>warm member universiti teknologi mara uitm con...</td>\n",
       "      <td>we would like to wish a warm welcome to our ne...</td>\n",
       "      <td>warm member universiti teknologi mara uitm con...</td>\n",
       "      <td>warm member universiti teknologi mara uitm con...</td>\n",
       "      <td>mycontentforum</td>\n",
       "      <td>2022-05-30 09:15:49+00:00</td>\n",
       "      <td>0</td>\n",
       "      <td>3</td>\n",
       "      <td>0</td>\n",
       "      <td>0</td>\n",
       "      <td>en</td>\n",
       "      <td>https://twitter.com/mycontentforum/status/1531...</td>\n",
       "      <td>&lt;a href=\"http://twitter.com/download/android\" ...</td>\n",
       "      <td>-1</td>\n",
       "      <td>-1</td>\n",
       "    </tr>\n",
       "    <tr>\n",
       "      <th>122</th>\n",
       "      <td>1531113300464848901</td>\n",
       "      <td>LIVE@PTAR BICARA PAKAR : SEJARAH KESULTANAN NE...</td>\n",
       "      <td>live bicara pakar sejarah kesultanan negeri te...</td>\n",
       "      <td>live bicara pakar sejarah kesultanan negeri te...</td>\n",
       "      <td>live bicara pakar sejarah kesultanan negeri te...</td>\n",
       "      <td>live bicara pakar sejarah kesultanan negeri te...</td>\n",
       "      <td>live bicara pakar sejarah sultan negeri tereng...</td>\n",
       "      <td>PtarSarawak</td>\n",
       "      <td>2022-05-30 03:20:32+00:00</td>\n",
       "      <td>0</td>\n",
       "      <td>0</td>\n",
       "      <td>0</td>\n",
       "      <td>0</td>\n",
       "      <td>in</td>\n",
       "      <td>https://twitter.com/PtarSarawak/status/1531113...</td>\n",
       "      <td>&lt;a href=\"https://mobile.twitter.com\" rel=\"nofo...</td>\n",
       "      <td>-1</td>\n",
       "      <td>-1</td>\n",
       "    </tr>\n",
       "    <tr>\n",
       "      <th>180</th>\n",
       "      <td>1530915415731621891</td>\n",
       "      <td>kepada kelestarian pengkomersialan produk dan ...</td>\n",
       "      <td>kepada kelestarian pengkomersialan produk dan ...</td>\n",
       "      <td>kelestarian pengkomersialan produk hasil inova...</td>\n",
       "      <td>kepada kelestarian pengkomersialan produk dan ...</td>\n",
       "      <td>kelestarian pengkomersialan produk hasil inova...</td>\n",
       "      <td>lestari komersial produk hasil inovasi kalang ...</td>\n",
       "      <td>bitcomuitm</td>\n",
       "      <td>2022-05-29 14:14:12+00:00</td>\n",
       "      <td>0</td>\n",
       "      <td>0</td>\n",
       "      <td>0</td>\n",
       "      <td>1</td>\n",
       "      <td>in</td>\n",
       "      <td>https://twitter.com/bitcomuitm/status/15309154...</td>\n",
       "      <td>&lt;a href=\"http://twitter.com/download/iphone\" r...</td>\n",
       "      <td>19</td>\n",
       "      <td>19</td>\n",
       "    </tr>\n",
       "    <tr>\n",
       "      <th>258</th>\n",
       "      <td>1530624955192320000</td>\n",
       "      <td>La UITM-#CaixaResearch del @VHIO va néixer el ...</td>\n",
       "      <td>la uitm del va nixer el per a realitzar assajo...</td>\n",
       "      <td>uitm del nixer realitzar assajos clnics trobar...</td>\n",
       "      <td>la uitm del voa nixer el per a realitzar assaj...</td>\n",
       "      <td>uitm del voa nixer realitzar assajos clnics te...</td>\n",
       "      <td>uitm del voa nixer realitzar assajos clnics ba...</td>\n",
       "      <td>CaixaResearchCA</td>\n",
       "      <td>2022-05-28 19:00:01+00:00</td>\n",
       "      <td>0</td>\n",
       "      <td>2</td>\n",
       "      <td>0</td>\n",
       "      <td>0</td>\n",
       "      <td>ca</td>\n",
       "      <td>https://twitter.com/CaixaResearchCA/status/153...</td>\n",
       "      <td>&lt;a href=\"https://mobile.twitter.com\" rel=\"nofo...</td>\n",
       "      <td>-1</td>\n",
       "      <td>-1</td>\n",
       "    </tr>\n",
       "    <tr>\n",
       "      <th>...</th>\n",
       "      <td>...</td>\n",
       "      <td>...</td>\n",
       "      <td>...</td>\n",
       "      <td>...</td>\n",
       "      <td>...</td>\n",
       "      <td>...</td>\n",
       "      <td>...</td>\n",
       "      <td>...</td>\n",
       "      <td>...</td>\n",
       "      <td>...</td>\n",
       "      <td>...</td>\n",
       "      <td>...</td>\n",
       "      <td>...</td>\n",
       "      <td>...</td>\n",
       "      <td>...</td>\n",
       "      <td>...</td>\n",
       "      <td>...</td>\n",
       "      <td>...</td>\n",
       "    </tr>\n",
       "    <tr>\n",
       "      <th>89330</th>\n",
       "      <td>1400349842639974403</td>\n",
       "      <td>Posted @withregram • @uitm.official “With self...</td>\n",
       "      <td>posted official with self discipline most anyt...</td>\n",
       "      <td>posted official discipline theodore roosevelt</td>\n",
       "      <td>posted official with self discipline most anyt...</td>\n",
       "      <td>posted official discipline theodora roosevelt</td>\n",
       "      <td>posted official discipline theodora roosevelt</td>\n",
       "      <td>pstuitm</td>\n",
       "      <td>2021-06-03 07:13:14+00:00</td>\n",
       "      <td>1</td>\n",
       "      <td>0</td>\n",
       "      <td>0</td>\n",
       "      <td>0</td>\n",
       "      <td>en</td>\n",
       "      <td>https://twitter.com/pstuitm/status/14003498426...</td>\n",
       "      <td>&lt;a href=\"http://twitter.com/download/iphone\" r...</td>\n",
       "      <td>-1</td>\n",
       "      <td>-1</td>\n",
       "    </tr>\n",
       "    <tr>\n",
       "      <th>89516</th>\n",
       "      <td>1399904481542742023</td>\n",
       "      <td>Another Milestone for UGC \\n\\nUiTM Green Centr...</td>\n",
       "      <td>another milestone for ugc uitm green centre</td>\n",
       "      <td>milestone ugc uitm green centre</td>\n",
       "      <td>another milestone for gec uitm green centre</td>\n",
       "      <td>milestone gec uitm green centre</td>\n",
       "      <td>milestone gec uitm green centre</td>\n",
       "      <td>UiTMGreenCentre</td>\n",
       "      <td>2021-06-02 01:43:32+00:00</td>\n",
       "      <td>0</td>\n",
       "      <td>1</td>\n",
       "      <td>0</td>\n",
       "      <td>0</td>\n",
       "      <td>en</td>\n",
       "      <td>https://twitter.com/UiTMGreenCentre/status/139...</td>\n",
       "      <td>&lt;a href=\"https://mobile.twitter.com\" rel=\"nofo...</td>\n",
       "      <td>-1</td>\n",
       "      <td>21</td>\n",
       "    </tr>\n",
       "    <tr>\n",
       "      <th>89519</th>\n",
       "      <td>1399897058606080001</td>\n",
       "      <td>Posted @withregram • @uitm.official “The only ...</td>\n",
       "      <td>posted official the only discipline that lasts...</td>\n",
       "      <td>posted official discipline lasts discipline bu...</td>\n",
       "      <td>posted official the only discipline that lasts...</td>\n",
       "      <td>posted official discipline lasts discipline bu...</td>\n",
       "      <td>posted official discipline lasts discipline bu...</td>\n",
       "      <td>pstuitm</td>\n",
       "      <td>2021-06-02 01:14:02+00:00</td>\n",
       "      <td>0</td>\n",
       "      <td>0</td>\n",
       "      <td>0</td>\n",
       "      <td>0</td>\n",
       "      <td>en</td>\n",
       "      <td>https://twitter.com/pstuitm/status/13998970586...</td>\n",
       "      <td>&lt;a href=\"http://twitter.com/download/iphone\" r...</td>\n",
       "      <td>-1</td>\n",
       "      <td>-1</td>\n",
       "    </tr>\n",
       "    <tr>\n",
       "      <th>89584</th>\n",
       "      <td>1399698296625500160</td>\n",
       "      <td>Hi, do you know anyone who's looking for a par...</td>\n",
       "      <td>hi do you know anyone who's looking for a part...</td>\n",
       "      <td>time job nearby area uitm seri iskandar perak ...</td>\n",
       "      <td>hi do you know anyone who's looking for a part...</td>\n",
       "      <td>time job nearby area uitm seri iskandar perak ...</td>\n",
       "      <td>time job nearby area uitm seri iskandar perak ...</td>\n",
       "      <td>mykopimesin</td>\n",
       "      <td>2021-06-01 12:04:13+00:00</td>\n",
       "      <td>0</td>\n",
       "      <td>1</td>\n",
       "      <td>0</td>\n",
       "      <td>0</td>\n",
       "      <td>en</td>\n",
       "      <td>https://twitter.com/mykopimesin/status/1399698...</td>\n",
       "      <td>&lt;a href=\"https://mobile.twitter.com\" rel=\"nofo...</td>\n",
       "      <td>-1</td>\n",
       "      <td>-1</td>\n",
       "    </tr>\n",
       "    <tr>\n",
       "      <th>89608</th>\n",
       "      <td>1399674798322511872</td>\n",
       "      <td>UiTM Johor @ Media\\n\\nBerita Harian | 1 Jun 20...</td>\n",
       "      <td>uitm johor media berita harian jun tangani ris...</td>\n",
       "      <td>uitm johor media berita harian jun tangani ris...</td>\n",
       "      <td>uitm johor media berita harian jun tangani ris...</td>\n",
       "      <td>uitm johor media berita harian jun tangani ris...</td>\n",
       "      <td>uitm johor media berita hari jun tangan risiko...</td>\n",
       "      <td>uitmjohor</td>\n",
       "      <td>2021-06-01 10:30:51+00:00</td>\n",
       "      <td>2</td>\n",
       "      <td>5</td>\n",
       "      <td>0</td>\n",
       "      <td>0</td>\n",
       "      <td>in</td>\n",
       "      <td>https://twitter.com/uitmjohor/status/139967479...</td>\n",
       "      <td>&lt;a href=\"http://twitter.com/download/iphone\" r...</td>\n",
       "      <td>-1</td>\n",
       "      <td>-1</td>\n",
       "    </tr>\n",
       "  </tbody>\n",
       "</table>\n",
       "<p>936 rows × 18 columns</p>\n",
       "</div>"
      ],
      "text/plain": [
       "                  Tweet Id                                              Tweet  \\\n",
       "6      1531364258075643904  Bicara Buku \"Southeast Asian Martial Arts : A ...   \n",
       "75     1531202709743091715  We would like to wish a warm welcome to our ne...   \n",
       "122    1531113300464848901  LIVE@PTAR BICARA PAKAR : SEJARAH KESULTANAN NE...   \n",
       "180    1530915415731621891  kepada kelestarian pengkomersialan produk dan ...   \n",
       "258    1530624955192320000  La UITM-#CaixaResearch del @VHIO va néixer el ...   \n",
       "...                    ...                                                ...   \n",
       "89330  1400349842639974403  Posted @withregram • @uitm.official “With self...   \n",
       "89516  1399904481542742023  Another Milestone for UGC \\n\\nUiTM Green Centr...   \n",
       "89519  1399897058606080001  Posted @withregram • @uitm.official “The only ...   \n",
       "89584  1399698296625500160  Hi, do you know anyone who's looking for a par...   \n",
       "89608  1399674798322511872  UiTM Johor @ Media\\n\\nBerita Harian | 1 Jun 20...   \n",
       "\n",
       "                                           Cleaned tweet  \\\n",
       "6      bicara buku southeast asian martial arts a uni...   \n",
       "75     we would like to wish a warm welcome to our ne...   \n",
       "122    live bicara pakar sejarah kesultanan negeri te...   \n",
       "180    kepada kelestarian pengkomersialan produk dan ...   \n",
       "258    la uitm del va nixer el per a realitzar assajo...   \n",
       "...                                                  ...   \n",
       "89330  posted official with self discipline most anyt...   \n",
       "89516        another milestone for ugc uitm green centre   \n",
       "89519  posted official the only discipline that lasts...   \n",
       "89584  hi do you know anyone who's looking for a part...   \n",
       "89608  uitm johor media berita harian jun tangani ris...   \n",
       "\n",
       "                      Unnormalized processed noisy tweet  \\\n",
       "6      bicara buku southeast asian martial arts uniqu...   \n",
       "75     warm member universiti teknologi mara uitm con...   \n",
       "122    live bicara pakar sejarah kesultanan negeri te...   \n",
       "180    kelestarian pengkomersialan produk hasil inova...   \n",
       "258    uitm del nixer realitzar assajos clnics trobar...   \n",
       "...                                                  ...   \n",
       "89330      posted official discipline theodore roosevelt   \n",
       "89516                    milestone ugc uitm green centre   \n",
       "89519  posted official discipline lasts discipline bu...   \n",
       "89584  time job nearby area uitm seri iskandar perak ...   \n",
       "89608  uitm johor media berita harian jun tangani ris...   \n",
       "\n",
       "                                        Normalized tweet  \\\n",
       "6      bicara buku southeast asian martial arts a uni...   \n",
       "75     we would like to wish a warm welcome to our ne...   \n",
       "122    live bicara pakar sejarah kesultanan negeri te...   \n",
       "180    kepada kelestarian pengkomersialan produk dan ...   \n",
       "258    la uitm del voa nixer el per a realitzar assaj...   \n",
       "...                                                  ...   \n",
       "89330  posted official with self discipline most anyt...   \n",
       "89516        another milestone for gec uitm green centre   \n",
       "89519  posted official the only discipline that lasts...   \n",
       "89584  hi do you know anyone who's looking for a part...   \n",
       "89608  uitm johor media berita harian jun tangani ris...   \n",
       "\n",
       "                                   Processed noisy tweet  \\\n",
       "6      bicara buku southeast asian martial arts uniqu...   \n",
       "75     warm member universiti teknologi mara uitm con...   \n",
       "122    live bicara pakar sejarah kesultanan negeri te...   \n",
       "180    kelestarian pengkomersialan produk hasil inova...   \n",
       "258    uitm del voa nixer realitzar assajos clnics te...   \n",
       "...                                                  ...   \n",
       "89330      posted official discipline theodora roosevelt   \n",
       "89516                    milestone gec uitm green centre   \n",
       "89519  posted official discipline lasts discipline bu...   \n",
       "89584  time job nearby area uitm seri iskandar perak ...   \n",
       "89608  uitm johor media berita harian jun tangani ris...   \n",
       "\n",
       "                                           Stemmed tweet         Username  \\\n",
       "6      bicara buku southeast asian martial arts uniqu...      uitmlibrary   \n",
       "75     warm member universiti teknologi mara uitm con...   mycontentforum   \n",
       "122    live bicara pakar sejarah sultan negeri tereng...      PtarSarawak   \n",
       "180    lestari komersial produk hasil inovasi kalang ...       bitcomuitm   \n",
       "258    uitm del voa nixer realitzar assajos clnics ba...  CaixaResearchCA   \n",
       "...                                                  ...              ...   \n",
       "89330      posted official discipline theodora roosevelt          pstuitm   \n",
       "89516                    milestone gec uitm green centre  UiTMGreenCentre   \n",
       "89519  posted official discipline lasts discipline bu...          pstuitm   \n",
       "89584  time job nearby area uitm seri iskandar perak ...      mykopimesin   \n",
       "89608  uitm johor media berita hari jun tangan risiko...        uitmjohor   \n",
       "\n",
       "                       Timestamp  RTs Count  Likes Count  \\\n",
       "6      2022-05-30 19:57:45+00:00          1            1   \n",
       "75     2022-05-30 09:15:49+00:00          0            3   \n",
       "122    2022-05-30 03:20:32+00:00          0            0   \n",
       "180    2022-05-29 14:14:12+00:00          0            0   \n",
       "258    2022-05-28 19:00:01+00:00          0            2   \n",
       "...                          ...        ...          ...   \n",
       "89330  2021-06-03 07:13:14+00:00          1            0   \n",
       "89516  2021-06-02 01:43:32+00:00          0            1   \n",
       "89519  2021-06-02 01:14:02+00:00          0            0   \n",
       "89584  2021-06-01 12:04:13+00:00          0            1   \n",
       "89608  2021-06-01 10:30:51+00:00          2            5   \n",
       "\n",
       "       Quotes & Replies Count  Replies Count Lang  \\\n",
       "6                           0              0   ro   \n",
       "75                          0              0   en   \n",
       "122                         0              0   in   \n",
       "180                         0              1   in   \n",
       "258                         0              0   ca   \n",
       "...                       ...            ...  ...   \n",
       "89330                       0              0   en   \n",
       "89516                       0              0   en   \n",
       "89519                       0              0   en   \n",
       "89584                       0              0   en   \n",
       "89608                       0              0   in   \n",
       "\n",
       "                                                     URL  \\\n",
       "6      https://twitter.com/uitmlibrary/status/1531364...   \n",
       "75     https://twitter.com/mycontentforum/status/1531...   \n",
       "122    https://twitter.com/PtarSarawak/status/1531113...   \n",
       "180    https://twitter.com/bitcomuitm/status/15309154...   \n",
       "258    https://twitter.com/CaixaResearchCA/status/153...   \n",
       "...                                                  ...   \n",
       "89330  https://twitter.com/pstuitm/status/14003498426...   \n",
       "89516  https://twitter.com/UiTMGreenCentre/status/139...   \n",
       "89519  https://twitter.com/pstuitm/status/13998970586...   \n",
       "89584  https://twitter.com/mykopimesin/status/1399698...   \n",
       "89608  https://twitter.com/uitmjohor/status/139967479...   \n",
       "\n",
       "                                                  Source  Topic  \\\n",
       "6      <a href=\"http://twitter.com/download/android\" ...     -1   \n",
       "75     <a href=\"http://twitter.com/download/android\" ...     -1   \n",
       "122    <a href=\"https://mobile.twitter.com\" rel=\"nofo...     -1   \n",
       "180    <a href=\"http://twitter.com/download/iphone\" r...     19   \n",
       "258    <a href=\"https://mobile.twitter.com\" rel=\"nofo...     -1   \n",
       "...                                                  ...    ...   \n",
       "89330  <a href=\"http://twitter.com/download/iphone\" r...     -1   \n",
       "89516  <a href=\"https://mobile.twitter.com\" rel=\"nofo...     -1   \n",
       "89519  <a href=\"http://twitter.com/download/iphone\" r...     -1   \n",
       "89584  <a href=\"https://mobile.twitter.com\" rel=\"nofo...     -1   \n",
       "89608  <a href=\"http://twitter.com/download/iphone\" r...     -1   \n",
       "\n",
       "       Topic reassigned  \n",
       "6                    -1  \n",
       "75                   -1  \n",
       "122                  -1  \n",
       "180                  19  \n",
       "258                  -1  \n",
       "...                 ...  \n",
       "89330                -1  \n",
       "89516                21  \n",
       "89519                -1  \n",
       "89584                -1  \n",
       "89608                -1  \n",
       "\n",
       "[936 rows x 18 columns]"
      ]
     },
     "execution_count": 4,
     "metadata": {},
     "output_type": "execute_result"
    }
   ],
   "source": [
    "df_tm[\n",
    "    df_tm['Tweet'].str.contains('http') &\n",
    "    df_tm['Tweet'].str.contains('@') &\n",
    "    df_tm['Tweet'].str.contains('#')\n",
    "]"
   ]
  },
  {
   "cell_type": "code",
   "execution_count": 8,
   "metadata": {},
   "outputs": [
    {
     "data": {
      "text/plain": [
       "'kepada kelestarian pengkomersialan produk dan hasil inovasi di kalangan penyelidik UiTM.\\n\\n#bitcomroadtour2022\\n#Commercialization@BITCOM\\n#ManagingIP@BITCOM\\n#BITCOMTNCPI\\n#uitmprihatin\\n#kitaUiTM\\n#UiTMdihatiku https://t.co/VIyi1cDFRt'"
      ]
     },
     "execution_count": 8,
     "metadata": {},
     "output_type": "execute_result"
    }
   ],
   "source": [
    "df_tm['Tweet'].iloc[180]"
   ]
  },
  {
   "cell_type": "code",
   "execution_count": 10,
   "metadata": {},
   "outputs": [
    {
     "data": {
      "text/plain": [
       "'kelestarian pengkomersialan produk hasil inovasi kalangan penyelidik uitm'"
      ]
     },
     "execution_count": 10,
     "metadata": {},
     "output_type": "execute_result"
    }
   ],
   "source": [
    "df_tm['Processed noisy tweet'].iloc[180]"
   ]
  },
  {
   "attachments": {},
   "cell_type": "markdown",
   "metadata": {},
   "source": [
    "# Reputation page"
   ]
  },
  {
   "cell_type": "code",
   "execution_count": 1,
   "metadata": {},
   "outputs": [],
   "source": [
    "from pages.sentiment.sentiment_data import get_sentiment_count"
   ]
  },
  {
   "cell_type": "code",
   "execution_count": 2,
   "metadata": {},
   "outputs": [
    {
     "data": {
      "text/plain": [
       "9998"
      ]
     },
     "execution_count": 2,
     "metadata": {},
     "output_type": "execute_result"
    }
   ],
   "source": [
    "import pandas as pd\n",
    "\n",
    "len(pd.read_csv('dataset/labelled_pred_set_14-12-23.csv'))"
   ]
  },
  {
   "cell_type": "code",
   "execution_count": 3,
   "metadata": {},
   "outputs": [],
   "source": [
    "sentiment_count = get_sentiment_count()"
   ]
  },
  {
   "cell_type": "code",
   "execution_count": 4,
   "metadata": {},
   "outputs": [
    {
     "data": {
      "text/html": [
       "<div>\n",
       "<style scoped>\n",
       "    .dataframe tbody tr th:only-of-type {\n",
       "        vertical-align: middle;\n",
       "    }\n",
       "\n",
       "    .dataframe tbody tr th {\n",
       "        vertical-align: top;\n",
       "    }\n",
       "\n",
       "    .dataframe thead th {\n",
       "        text-align: right;\n",
       "    }\n",
       "</style>\n",
       "<table border=\"1\" class=\"dataframe\">\n",
       "  <thead>\n",
       "    <tr style=\"text-align: right;\">\n",
       "      <th></th>\n",
       "      <th>Sentiment</th>\n",
       "      <th>Count</th>\n",
       "    </tr>\n",
       "  </thead>\n",
       "  <tbody>\n",
       "    <tr>\n",
       "      <th>0</th>\n",
       "      <td>Neutral</td>\n",
       "      <td>5348</td>\n",
       "    </tr>\n",
       "    <tr>\n",
       "      <th>1</th>\n",
       "      <td>Negative</td>\n",
       "      <td>3424</td>\n",
       "    </tr>\n",
       "    <tr>\n",
       "      <th>2</th>\n",
       "      <td>Positive</td>\n",
       "      <td>1224</td>\n",
       "    </tr>\n",
       "  </tbody>\n",
       "</table>\n",
       "</div>"
      ],
      "text/plain": [
       "  Sentiment  Count\n",
       "0   Neutral   5348\n",
       "1  Negative   3424\n",
       "2  Positive   1224"
      ]
     },
     "execution_count": 4,
     "metadata": {},
     "output_type": "execute_result"
    }
   ],
   "source": [
    "sentiment_count"
   ]
  },
  {
   "cell_type": "code",
   "execution_count": 5,
   "metadata": {},
   "outputs": [],
   "source": [
    "total = sentiment_count['Count'].sum()\n",
    "positive = sentiment_count[sentiment_count['Sentiment'].str.lower() == 'positive']['Count']\n",
    "negative = sentiment_count[sentiment_count['Sentiment'].str.lower() == 'negative']['Count']\n",
    "neutral = sentiment_count[sentiment_count['Sentiment'].str.lower() == 'neutral']['Count']"
   ]
  },
  {
   "cell_type": "code",
   "execution_count": 6,
   "metadata": {},
   "outputs": [
    {
     "data": {
      "text/plain": [
       "'-22.01%'"
      ]
     },
     "execution_count": 6,
     "metadata": {},
     "output_type": "execute_result"
    }
   ],
   "source": [
    "# net brand reputation\n",
    "nbp = ((int(positive)-int(negative))/total)*100\n",
    "\"{:0.2f}%\".format(nbp)"
   ]
  },
  {
   "cell_type": "code",
   "execution_count": 44,
   "metadata": {},
   "outputs": [],
   "source": [
    "import plotly.graph_objs as go\n",
    "\n",
    "def donut_chart(percent, theme_color:str):\n",
    "    values = [percent,100-percent]\n",
    "    colors=[theme_color,'#ffffff00','#ffffff00']\n",
    "\n",
    "    fig = go.Figure(data=go.Pie(values=values,hole=.7))\n",
    "\n",
    "    fig.update_layout(\n",
    "        annotations=[\n",
    "            dict(\n",
    "                text=f\"{percent}%\", x=0.5, y=0.5, font_size=20,showarrow=False,\n",
    "                font=dict(color=theme_color)\n",
    "            )\n",
    "        ],\n",
    "        showlegend=False,\n",
    "        margin=dict(\n",
    "            l=5,\n",
    "            r=5,\n",
    "            b=5,\n",
    "            t=5,\n",
    "            # pad=10\n",
    "        ),\n",
    "        paper_bgcolor='rgba(0,0,0,0)',\n",
    "        plot_bgcolor='rgba(0,0,0,0)',\n",
    "        # autosize=False,\n",
    "        # width=140,\n",
    "        # height=140,\n",
    "    )\n",
    "\n",
    "    fig.update_traces(\n",
    "        hoverinfo='none',\n",
    "        textinfo='none',\n",
    "        marker=dict(\n",
    "            colors=colors,\n",
    "            line=dict(\n",
    "                color='#d9dddc',\n",
    "                width=1\n",
    "            )\n",
    "        )\n",
    "    )\n",
    "\n",
    "    fig.show(renderer='vscode')\n",
    "\n",
    "sentiment_colors={\n",
    "    'positive':'#00ba7c',\n",
    "    'neutral':'#f6b561',\n",
    "    'negative':'#d90912',\n",
    "}"
   ]
  },
  {
   "cell_type": "code",
   "execution_count": 45,
   "metadata": {},
   "outputs": [
    {
     "data": {
      "application/vnd.plotly.v1+json": {
       "config": {
        "plotlyServerURL": "https://plot.ly"
       },
       "data": [
        {
         "hole": 0.7,
         "hoverinfo": "none",
         "marker": {
          "colors": [
           "#d90912",
           "#ffffff00",
           "#ffffff00"
          ],
          "line": {
           "color": "#d9dddc",
           "width": 1
          }
         },
         "textinfo": "none",
         "type": "pie",
         "values": [
          -22.01,
          122.01
         ]
        }
       ],
       "layout": {
        "annotations": [
         {
          "font": {
           "color": "#d90912",
           "size": 20
          },
          "showarrow": false,
          "text": "-22.01%",
          "x": 0.5,
          "y": 0.5
         }
        ],
        "margin": {
         "b": 5,
         "l": 5,
         "r": 5,
         "t": 5
        },
        "paper_bgcolor": "rgba(0,0,0,0)",
        "plot_bgcolor": "rgba(0,0,0,0)",
        "showlegend": false,
        "template": {
         "data": {
          "bar": [
           {
            "error_x": {
             "color": "#2a3f5f"
            },
            "error_y": {
             "color": "#2a3f5f"
            },
            "marker": {
             "line": {
              "color": "#E5ECF6",
              "width": 0.5
             },
             "pattern": {
              "fillmode": "overlay",
              "size": 10,
              "solidity": 0.2
             }
            },
            "type": "bar"
           }
          ],
          "barpolar": [
           {
            "marker": {
             "line": {
              "color": "#E5ECF6",
              "width": 0.5
             },
             "pattern": {
              "fillmode": "overlay",
              "size": 10,
              "solidity": 0.2
             }
            },
            "type": "barpolar"
           }
          ],
          "carpet": [
           {
            "aaxis": {
             "endlinecolor": "#2a3f5f",
             "gridcolor": "white",
             "linecolor": "white",
             "minorgridcolor": "white",
             "startlinecolor": "#2a3f5f"
            },
            "baxis": {
             "endlinecolor": "#2a3f5f",
             "gridcolor": "white",
             "linecolor": "white",
             "minorgridcolor": "white",
             "startlinecolor": "#2a3f5f"
            },
            "type": "carpet"
           }
          ],
          "choropleth": [
           {
            "colorbar": {
             "outlinewidth": 0,
             "ticks": ""
            },
            "type": "choropleth"
           }
          ],
          "contour": [
           {
            "colorbar": {
             "outlinewidth": 0,
             "ticks": ""
            },
            "colorscale": [
             [
              0,
              "#0d0887"
             ],
             [
              0.1111111111111111,
              "#46039f"
             ],
             [
              0.2222222222222222,
              "#7201a8"
             ],
             [
              0.3333333333333333,
              "#9c179e"
             ],
             [
              0.4444444444444444,
              "#bd3786"
             ],
             [
              0.5555555555555556,
              "#d8576b"
             ],
             [
              0.6666666666666666,
              "#ed7953"
             ],
             [
              0.7777777777777778,
              "#fb9f3a"
             ],
             [
              0.8888888888888888,
              "#fdca26"
             ],
             [
              1,
              "#f0f921"
             ]
            ],
            "type": "contour"
           }
          ],
          "contourcarpet": [
           {
            "colorbar": {
             "outlinewidth": 0,
             "ticks": ""
            },
            "type": "contourcarpet"
           }
          ],
          "heatmap": [
           {
            "colorbar": {
             "outlinewidth": 0,
             "ticks": ""
            },
            "colorscale": [
             [
              0,
              "#0d0887"
             ],
             [
              0.1111111111111111,
              "#46039f"
             ],
             [
              0.2222222222222222,
              "#7201a8"
             ],
             [
              0.3333333333333333,
              "#9c179e"
             ],
             [
              0.4444444444444444,
              "#bd3786"
             ],
             [
              0.5555555555555556,
              "#d8576b"
             ],
             [
              0.6666666666666666,
              "#ed7953"
             ],
             [
              0.7777777777777778,
              "#fb9f3a"
             ],
             [
              0.8888888888888888,
              "#fdca26"
             ],
             [
              1,
              "#f0f921"
             ]
            ],
            "type": "heatmap"
           }
          ],
          "heatmapgl": [
           {
            "colorbar": {
             "outlinewidth": 0,
             "ticks": ""
            },
            "colorscale": [
             [
              0,
              "#0d0887"
             ],
             [
              0.1111111111111111,
              "#46039f"
             ],
             [
              0.2222222222222222,
              "#7201a8"
             ],
             [
              0.3333333333333333,
              "#9c179e"
             ],
             [
              0.4444444444444444,
              "#bd3786"
             ],
             [
              0.5555555555555556,
              "#d8576b"
             ],
             [
              0.6666666666666666,
              "#ed7953"
             ],
             [
              0.7777777777777778,
              "#fb9f3a"
             ],
             [
              0.8888888888888888,
              "#fdca26"
             ],
             [
              1,
              "#f0f921"
             ]
            ],
            "type": "heatmapgl"
           }
          ],
          "histogram": [
           {
            "marker": {
             "pattern": {
              "fillmode": "overlay",
              "size": 10,
              "solidity": 0.2
             }
            },
            "type": "histogram"
           }
          ],
          "histogram2d": [
           {
            "colorbar": {
             "outlinewidth": 0,
             "ticks": ""
            },
            "colorscale": [
             [
              0,
              "#0d0887"
             ],
             [
              0.1111111111111111,
              "#46039f"
             ],
             [
              0.2222222222222222,
              "#7201a8"
             ],
             [
              0.3333333333333333,
              "#9c179e"
             ],
             [
              0.4444444444444444,
              "#bd3786"
             ],
             [
              0.5555555555555556,
              "#d8576b"
             ],
             [
              0.6666666666666666,
              "#ed7953"
             ],
             [
              0.7777777777777778,
              "#fb9f3a"
             ],
             [
              0.8888888888888888,
              "#fdca26"
             ],
             [
              1,
              "#f0f921"
             ]
            ],
            "type": "histogram2d"
           }
          ],
          "histogram2dcontour": [
           {
            "colorbar": {
             "outlinewidth": 0,
             "ticks": ""
            },
            "colorscale": [
             [
              0,
              "#0d0887"
             ],
             [
              0.1111111111111111,
              "#46039f"
             ],
             [
              0.2222222222222222,
              "#7201a8"
             ],
             [
              0.3333333333333333,
              "#9c179e"
             ],
             [
              0.4444444444444444,
              "#bd3786"
             ],
             [
              0.5555555555555556,
              "#d8576b"
             ],
             [
              0.6666666666666666,
              "#ed7953"
             ],
             [
              0.7777777777777778,
              "#fb9f3a"
             ],
             [
              0.8888888888888888,
              "#fdca26"
             ],
             [
              1,
              "#f0f921"
             ]
            ],
            "type": "histogram2dcontour"
           }
          ],
          "mesh3d": [
           {
            "colorbar": {
             "outlinewidth": 0,
             "ticks": ""
            },
            "type": "mesh3d"
           }
          ],
          "parcoords": [
           {
            "line": {
             "colorbar": {
              "outlinewidth": 0,
              "ticks": ""
             }
            },
            "type": "parcoords"
           }
          ],
          "pie": [
           {
            "automargin": true,
            "type": "pie"
           }
          ],
          "scatter": [
           {
            "fillpattern": {
             "fillmode": "overlay",
             "size": 10,
             "solidity": 0.2
            },
            "type": "scatter"
           }
          ],
          "scatter3d": [
           {
            "line": {
             "colorbar": {
              "outlinewidth": 0,
              "ticks": ""
             }
            },
            "marker": {
             "colorbar": {
              "outlinewidth": 0,
              "ticks": ""
             }
            },
            "type": "scatter3d"
           }
          ],
          "scattercarpet": [
           {
            "marker": {
             "colorbar": {
              "outlinewidth": 0,
              "ticks": ""
             }
            },
            "type": "scattercarpet"
           }
          ],
          "scattergeo": [
           {
            "marker": {
             "colorbar": {
              "outlinewidth": 0,
              "ticks": ""
             }
            },
            "type": "scattergeo"
           }
          ],
          "scattergl": [
           {
            "marker": {
             "colorbar": {
              "outlinewidth": 0,
              "ticks": ""
             }
            },
            "type": "scattergl"
           }
          ],
          "scattermapbox": [
           {
            "marker": {
             "colorbar": {
              "outlinewidth": 0,
              "ticks": ""
             }
            },
            "type": "scattermapbox"
           }
          ],
          "scatterpolar": [
           {
            "marker": {
             "colorbar": {
              "outlinewidth": 0,
              "ticks": ""
             }
            },
            "type": "scatterpolar"
           }
          ],
          "scatterpolargl": [
           {
            "marker": {
             "colorbar": {
              "outlinewidth": 0,
              "ticks": ""
             }
            },
            "type": "scatterpolargl"
           }
          ],
          "scatterternary": [
           {
            "marker": {
             "colorbar": {
              "outlinewidth": 0,
              "ticks": ""
             }
            },
            "type": "scatterternary"
           }
          ],
          "surface": [
           {
            "colorbar": {
             "outlinewidth": 0,
             "ticks": ""
            },
            "colorscale": [
             [
              0,
              "#0d0887"
             ],
             [
              0.1111111111111111,
              "#46039f"
             ],
             [
              0.2222222222222222,
              "#7201a8"
             ],
             [
              0.3333333333333333,
              "#9c179e"
             ],
             [
              0.4444444444444444,
              "#bd3786"
             ],
             [
              0.5555555555555556,
              "#d8576b"
             ],
             [
              0.6666666666666666,
              "#ed7953"
             ],
             [
              0.7777777777777778,
              "#fb9f3a"
             ],
             [
              0.8888888888888888,
              "#fdca26"
             ],
             [
              1,
              "#f0f921"
             ]
            ],
            "type": "surface"
           }
          ],
          "table": [
           {
            "cells": {
             "fill": {
              "color": "#EBF0F8"
             },
             "line": {
              "color": "white"
             }
            },
            "header": {
             "fill": {
              "color": "#C8D4E3"
             },
             "line": {
              "color": "white"
             }
            },
            "type": "table"
           }
          ]
         },
         "layout": {
          "annotationdefaults": {
           "arrowcolor": "#2a3f5f",
           "arrowhead": 0,
           "arrowwidth": 1
          },
          "autotypenumbers": "strict",
          "coloraxis": {
           "colorbar": {
            "outlinewidth": 0,
            "ticks": ""
           }
          },
          "colorscale": {
           "diverging": [
            [
             0,
             "#8e0152"
            ],
            [
             0.1,
             "#c51b7d"
            ],
            [
             0.2,
             "#de77ae"
            ],
            [
             0.3,
             "#f1b6da"
            ],
            [
             0.4,
             "#fde0ef"
            ],
            [
             0.5,
             "#f7f7f7"
            ],
            [
             0.6,
             "#e6f5d0"
            ],
            [
             0.7,
             "#b8e186"
            ],
            [
             0.8,
             "#7fbc41"
            ],
            [
             0.9,
             "#4d9221"
            ],
            [
             1,
             "#276419"
            ]
           ],
           "sequential": [
            [
             0,
             "#0d0887"
            ],
            [
             0.1111111111111111,
             "#46039f"
            ],
            [
             0.2222222222222222,
             "#7201a8"
            ],
            [
             0.3333333333333333,
             "#9c179e"
            ],
            [
             0.4444444444444444,
             "#bd3786"
            ],
            [
             0.5555555555555556,
             "#d8576b"
            ],
            [
             0.6666666666666666,
             "#ed7953"
            ],
            [
             0.7777777777777778,
             "#fb9f3a"
            ],
            [
             0.8888888888888888,
             "#fdca26"
            ],
            [
             1,
             "#f0f921"
            ]
           ],
           "sequentialminus": [
            [
             0,
             "#0d0887"
            ],
            [
             0.1111111111111111,
             "#46039f"
            ],
            [
             0.2222222222222222,
             "#7201a8"
            ],
            [
             0.3333333333333333,
             "#9c179e"
            ],
            [
             0.4444444444444444,
             "#bd3786"
            ],
            [
             0.5555555555555556,
             "#d8576b"
            ],
            [
             0.6666666666666666,
             "#ed7953"
            ],
            [
             0.7777777777777778,
             "#fb9f3a"
            ],
            [
             0.8888888888888888,
             "#fdca26"
            ],
            [
             1,
             "#f0f921"
            ]
           ]
          },
          "colorway": [
           "#636efa",
           "#EF553B",
           "#00cc96",
           "#ab63fa",
           "#FFA15A",
           "#19d3f3",
           "#FF6692",
           "#B6E880",
           "#FF97FF",
           "#FECB52"
          ],
          "font": {
           "color": "#2a3f5f"
          },
          "geo": {
           "bgcolor": "white",
           "lakecolor": "white",
           "landcolor": "#E5ECF6",
           "showlakes": true,
           "showland": true,
           "subunitcolor": "white"
          },
          "hoverlabel": {
           "align": "left"
          },
          "hovermode": "closest",
          "mapbox": {
           "style": "light"
          },
          "paper_bgcolor": "white",
          "plot_bgcolor": "#E5ECF6",
          "polar": {
           "angularaxis": {
            "gridcolor": "white",
            "linecolor": "white",
            "ticks": ""
           },
           "bgcolor": "#E5ECF6",
           "radialaxis": {
            "gridcolor": "white",
            "linecolor": "white",
            "ticks": ""
           }
          },
          "scene": {
           "xaxis": {
            "backgroundcolor": "#E5ECF6",
            "gridcolor": "white",
            "gridwidth": 2,
            "linecolor": "white",
            "showbackground": true,
            "ticks": "",
            "zerolinecolor": "white"
           },
           "yaxis": {
            "backgroundcolor": "#E5ECF6",
            "gridcolor": "white",
            "gridwidth": 2,
            "linecolor": "white",
            "showbackground": true,
            "ticks": "",
            "zerolinecolor": "white"
           },
           "zaxis": {
            "backgroundcolor": "#E5ECF6",
            "gridcolor": "white",
            "gridwidth": 2,
            "linecolor": "white",
            "showbackground": true,
            "ticks": "",
            "zerolinecolor": "white"
           }
          },
          "shapedefaults": {
           "line": {
            "color": "#2a3f5f"
           }
          },
          "ternary": {
           "aaxis": {
            "gridcolor": "white",
            "linecolor": "white",
            "ticks": ""
           },
           "baxis": {
            "gridcolor": "white",
            "linecolor": "white",
            "ticks": ""
           },
           "bgcolor": "#E5ECF6",
           "caxis": {
            "gridcolor": "white",
            "linecolor": "white",
            "ticks": ""
           }
          },
          "title": {
           "x": 0.05
          },
          "xaxis": {
           "automargin": true,
           "gridcolor": "white",
           "linecolor": "white",
           "ticks": "",
           "title": {
            "standoff": 15
           },
           "zerolinecolor": "white",
           "zerolinewidth": 2
          },
          "yaxis": {
           "automargin": true,
           "gridcolor": "white",
           "linecolor": "white",
           "ticks": "",
           "title": {
            "standoff": 15
           },
           "zerolinecolor": "white",
           "zerolinewidth": 2
          }
         }
        }
       }
      }
     },
     "metadata": {},
     "output_type": "display_data"
    }
   ],
   "source": [
    "# from pages.classify_tweet.classify_tweet import donut_chart,sentiment_colors\n",
    "\n",
    "nbp_color = sentiment_colors['positive'] if nbp > 0 else sentiment_colors['negative'] if nbp < 0 else sentiment_colors['neutral']\n",
    "\n",
    "donut_chart(round(nbp,2),nbp_color)"
   ]
  },
  {
   "cell_type": "code",
   "execution_count": 9,
   "metadata": {},
   "outputs": [
    {
     "data": {
      "text/plain": [
       "'31.49%'"
      ]
     },
     "execution_count": 9,
     "metadata": {},
     "output_type": "execute_result"
    }
   ],
   "source": [
    "# brand favourable talkability\n",
    "bft = ((int(positive)+int(neutral)-int(negative))/total)*100\n",
    "\"{:0.2f}%\".format(bft)"
   ]
  },
  {
   "cell_type": "code",
   "execution_count": null,
   "metadata": {},
   "outputs": [],
   "source": []
  }
 ],
 "metadata": {
  "kernelspec": {
   "display_name": "dash",
   "language": "python",
   "name": "python3"
  },
  "language_info": {
   "codemirror_mode": {
    "name": "ipython",
    "version": 3
   },
   "file_extension": ".py",
   "mimetype": "text/x-python",
   "name": "python",
   "nbconvert_exporter": "python",
   "pygments_lexer": "ipython3",
   "version": "3.10.4 | packaged by conda-forge | (main, Mar 30 2022, 08:38:02) [MSC v.1916 64 bit (AMD64)]"
  },
  "orig_nbformat": 4,
  "vscode": {
   "interpreter": {
    "hash": "3ac514d1d72e6a9d640eba5a3526d8c1dc8fc7b09d5f00b636427a87b3db16e1"
   }
  }
 },
 "nbformat": 4,
 "nbformat_minor": 2
}

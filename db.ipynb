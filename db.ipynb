{
 "cells": [
  {
   "cell_type": "code",
   "execution_count": 1,
   "metadata": {},
   "outputs": [
    {
     "data": {
      "text/plain": [
       "True"
      ]
     },
     "execution_count": 1,
     "metadata": {},
     "output_type": "execute_result"
    }
   ],
   "source": [
    "import os\n",
    "from env.config import DB_NAME\n",
    "\n",
    "os.path.exists(f\"instance/{DB_NAME}.db\")"
   ]
  },
  {
   "cell_type": "code",
   "execution_count": 2,
   "metadata": {},
   "outputs": [
    {
     "data": {
      "text/html": [
       "<div>\n",
       "<style scoped>\n",
       "    .dataframe tbody tr th:only-of-type {\n",
       "        vertical-align: middle;\n",
       "    }\n",
       "\n",
       "    .dataframe tbody tr th {\n",
       "        vertical-align: top;\n",
       "    }\n",
       "\n",
       "    .dataframe thead th {\n",
       "        text-align: right;\n",
       "    }\n",
       "</style>\n",
       "<table border=\"1\" class=\"dataframe\">\n",
       "  <thead>\n",
       "    <tr style=\"text-align: right;\">\n",
       "      <th></th>\n",
       "      <th>id</th>\n",
       "      <th>username</th>\n",
       "      <th>email</th>\n",
       "      <th>password</th>\n",
       "    </tr>\n",
       "  </thead>\n",
       "  <tbody>\n",
       "    <tr>\n",
       "      <th>0</th>\n",
       "      <td>1</td>\n",
       "      <td>jeb</td>\n",
       "      <td>jeb@gmail.com</td>\n",
       "      <td>sha256$MW7XUF5Th4ukd4Ik$0ed86543d8cd7544d1ec3b...</td>\n",
       "    </tr>\n",
       "    <tr>\n",
       "      <th>1</th>\n",
       "      <td>2</td>\n",
       "      <td>ahmadkassim</td>\n",
       "      <td>ahmadkassim@gmail.com</td>\n",
       "      <td>sha256$KsIxRjLXzsCbTvCw$cbee793935587e272fda68...</td>\n",
       "    </tr>\n",
       "  </tbody>\n",
       "</table>\n",
       "</div>"
      ],
      "text/plain": [
       "   id     username                  email  \\\n",
       "0   1          jeb          jeb@gmail.com   \n",
       "1   2  ahmadkassim  ahmadkassim@gmail.com   \n",
       "\n",
       "                                            password  \n",
       "0  sha256$MW7XUF5Th4ukd4Ik$0ed86543d8cd7544d1ec3b...  \n",
       "1  sha256$KsIxRjLXzsCbTvCw$cbee793935587e272fda68...  "
      ]
     },
     "execution_count": 2,
     "metadata": {},
     "output_type": "execute_result"
    }
   ],
   "source": [
    "import sqlite3\n",
    "from env.config import DB_NAME\n",
    "import pandas as pd\n",
    "\n",
    "conn = sqlite3.connect('instance/UitmCorporateDept.db')\n",
    "c = conn.cursor\n",
    "pd.read_sql('select * from user',conn)"
   ]
  },
  {
   "cell_type": "code",
   "execution_count": 3,
   "metadata": {},
   "outputs": [],
   "source": [
    "import models as db"
   ]
  },
  {
   "cell_type": "code",
   "execution_count": 4,
   "metadata": {},
   "outputs": [],
   "source": [
    "db.add_user('test','test','test@test.com')"
   ]
  },
  {
   "cell_type": "code",
   "execution_count": 5,
   "metadata": {},
   "outputs": [
    {
     "name": "stdout",
     "output_type": "stream",
     "text": [
      "('jeb', 'jeb@gmail.com')\n",
      "('ahmadkassim', 'ahmadkassim@gmail.com')\n",
      "('test', 'test@test.com')\n"
     ]
    }
   ],
   "source": [
    "db.show_users()"
   ]
  },
  {
   "cell_type": "code",
   "execution_count": 1,
   "metadata": {},
   "outputs": [
    {
     "data": {
      "text/plain": [
       "{'redirect': ['/sentiment']}"
      ]
     },
     "execution_count": 1,
     "metadata": {},
     "output_type": "execute_result"
    }
   ],
   "source": [
    "from urllib.parse import parse_qs,urlsplit\n",
    " \n",
    "# parse_qs(urlsplit(\"http://127.0.0.1:8050/page-2?redirect=/classify-tweet\").query)\n",
    "parse_qs(urlsplit(\"/login?redirect=/sentiment\").query)"
   ]
  },
  {
   "cell_type": "code",
   "execution_count": 4,
   "metadata": {},
   "outputs": [
    {
     "data": {
      "text/plain": [
       "False"
      ]
     },
     "execution_count": 4,
     "metadata": {},
     "output_type": "execute_result"
    }
   ],
   "source": [
    "'redirect' in parse_qs(urlsplit(\"/login\").query)"
   ]
  }
 ],
 "metadata": {
  "kernelspec": {
   "display_name": "Python 3.10.4 ('dash')",
   "language": "python",
   "name": "python3"
  },
  "language_info": {
   "codemirror_mode": {
    "name": "ipython",
    "version": 3
   },
   "file_extension": ".py",
   "mimetype": "text/x-python",
   "name": "python",
   "nbconvert_exporter": "python",
   "pygments_lexer": "ipython3",
   "version": "3.10.4"
  },
  "orig_nbformat": 4,
  "vscode": {
   "interpreter": {
    "hash": "3ac514d1d72e6a9d640eba5a3526d8c1dc8fc7b09d5f00b636427a87b3db16e1"
   }
  }
 },
 "nbformat": 4,
 "nbformat_minor": 2
}
